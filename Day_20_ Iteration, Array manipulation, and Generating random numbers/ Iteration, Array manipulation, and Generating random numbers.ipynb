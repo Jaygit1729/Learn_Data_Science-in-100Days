{
 "cells": [
  {
   "cell_type": "code",
   "execution_count": 1,
   "id": "a4080fd3",
   "metadata": {},
   "outputs": [],
   "source": [
    "import numpy as np\n"
   ]
  },
  {
   "cell_type": "markdown",
   "id": "939c968c",
   "metadata": {},
   "source": [
    "- ITERATE OVER 1-D ARRAY"
   ]
  },
  {
   "cell_type": "code",
   "execution_count": 2,
   "id": "e5cefe7f",
   "metadata": {},
   "outputs": [
    {
     "name": "stdout",
     "output_type": "stream",
     "text": [
      "1\n",
      "1\n",
      "2\n",
      "2\n",
      "3\n",
      "3\n",
      "4\n",
      "4\n",
      "5\n",
      "5\n"
     ]
    }
   ],
   "source": [
    "array1=np.array([1,2,3,4,5])\n",
    "i=0\n",
    "for x in array1:\n",
    "    print(x)\n",
    "    i+=1\n",
    "    print(i)"
   ]
  },
  {
   "cell_type": "markdown",
   "id": "adb775f7",
   "metadata": {},
   "source": [
    "- ITERATE OVER 2-D ARRAY"
   ]
  },
  {
   "cell_type": "code",
   "execution_count": 3,
   "id": "2fa852f8",
   "metadata": {},
   "outputs": [
    {
     "name": "stdout",
     "output_type": "stream",
     "text": [
      "[1 2 3 4 5]\n",
      "1\n",
      "[ 6  7  8  9 10]\n",
      "2\n"
     ]
    }
   ],
   "source": [
    "array2=np.array([[1,2,3,4,5],[6,7,8,9,10]])\n",
    "i=0\n",
    "for x in array2:\n",
    "    print(x)\n",
    "    i+=1\n",
    "    print(i)"
   ]
  },
  {
   "cell_type": "code",
   "execution_count": 4,
   "id": "5e9906e7",
   "metadata": {},
   "outputs": [
    {
     "name": "stdout",
     "output_type": "stream",
     "text": [
      "[1 2 3 4 5]\n",
      "1\n",
      "[ 6  7  8  9 10]\n",
      "2\n",
      "[10 11 12 13 14]\n",
      "3\n"
     ]
    }
   ],
   "source": [
    "array2=np.array([[1,2,3,4,5],[6,7,8,9,10],[10,11,12,13,14]])\n",
    "i=0\n",
    "for x in array2:\n",
    "    print(x)\n",
    "    i+=1\n",
    "    print(i)"
   ]
  },
  {
   "cell_type": "markdown",
   "id": "4b314705",
   "metadata": {},
   "source": [
    "- Loop is only iterating for 2 times and not goining into the third layer of the two dimensional matrix\n",
    "\n",
    "- for this we need to implement 2 for loops \n",
    "\n",
    "- so, if matrix is of one dimensional then we use 1 for loop\n",
    "\n",
    "- if matrix is of two dimensional then we have to use 2 for loop and so on..."
   ]
  },
  {
   "cell_type": "markdown",
   "id": "f89255fa",
   "metadata": {},
   "source": [
    "- Iterate by elements in a 2- dimensional array"
   ]
  },
  {
   "cell_type": "code",
   "execution_count": 5,
   "id": "61b137f7",
   "metadata": {},
   "outputs": [
    {
     "name": "stdout",
     "output_type": "stream",
     "text": [
      "1\n",
      "2\n",
      "3\n",
      "4\n",
      "5\n",
      "6\n",
      "7\n",
      "8\n",
      "9\n",
      "10\n",
      "10\n",
      "11\n",
      "12\n",
      "13\n",
      "14\n"
     ]
    }
   ],
   "source": [
    "array3=np.array([[1,2,3,4,5],[6,7,8,9,10],[10,11,12,13,14]])\n",
    "for i in array3:\n",
    "    for j in i:\n",
    "        print(j)\n"
   ]
  },
  {
   "cell_type": "markdown",
   "id": "575c9fbc",
   "metadata": {},
   "source": [
    "- Iterate over elements in a 3- dimensional array"
   ]
  },
  {
   "cell_type": "code",
   "execution_count": 6,
   "id": "9b68c31f",
   "metadata": {},
   "outputs": [
    {
     "data": {
      "text/plain": [
       "array([[[ 1,  2,  3,  4,  5],\n",
       "        [ 6,  7,  8,  9, 10],\n",
       "        [10, 11, 12, 13, 14],\n",
       "        [15, 16, 17, 18, 19]]])"
      ]
     },
     "execution_count": 6,
     "metadata": {},
     "output_type": "execute_result"
    }
   ],
   "source": [
    "array4=np.array([[[1,2,3,4,5],[6,7,8,9,10],[10,11,12,13,14],[15,16,17,18,19]]])\n",
    "array4\n"
   ]
  },
  {
   "cell_type": "code",
   "execution_count": 8,
   "id": "f048139c",
   "metadata": {},
   "outputs": [
    {
     "name": "stdout",
     "output_type": "stream",
     "text": [
      "[1 2 3 4 5]\n",
      "1\n",
      "[ 6  7  8  9 10]\n",
      "2\n",
      "[10 11 12 13 14]\n",
      "3\n"
     ]
    }
   ],
   "source": [
    "i=0\n",
    "for x in array3:\n",
    "    print(x)\n",
    "    i+=1\n",
    "    print(i)"
   ]
  },
  {
   "cell_type": "markdown",
   "id": "e74c21f8",
   "metadata": {},
   "source": [
    "- Here, also for loop is goining into the 2st layer and not finishing the 3rd layer"
   ]
  },
  {
   "cell_type": "markdown",
   "id": "b17e9cc7",
   "metadata": {},
   "source": [
    "- Iterate by elements in a 3- dimensional array"
   ]
  },
  {
   "cell_type": "code",
   "execution_count": 9,
   "id": "0c1dc51c",
   "metadata": {},
   "outputs": [
    {
     "name": "stdout",
     "output_type": "stream",
     "text": [
      "1\n",
      "2\n",
      "3\n",
      "4\n",
      "5\n",
      "6\n",
      "7\n",
      "8\n",
      "9\n",
      "10\n",
      "10\n",
      "11\n",
      "12\n",
      "13\n",
      "14\n",
      "15\n",
      "16\n",
      "17\n",
      "18\n",
      "19\n"
     ]
    }
   ],
   "source": [
    "for i in array4:\n",
    "    for j in i:\n",
    "        for x in j:\n",
    "            print(x)\n",
    "    "
   ]
  },
  {
   "cell_type": "markdown",
   "id": "478eb465",
   "metadata": {},
   "source": [
    "- using nditer and loop through the array"
   ]
  },
  {
   "cell_type": "code",
   "execution_count": 11,
   "id": "410fabec",
   "metadata": {},
   "outputs": [
    {
     "name": "stdout",
     "output_type": "stream",
     "text": [
      "1\n",
      "2\n",
      "3\n",
      "4\n",
      "5\n",
      "6\n",
      "7\n",
      "8\n",
      "9\n",
      "10\n",
      "10\n",
      "11\n",
      "12\n",
      "13\n",
      "14\n",
      "15\n",
      "16\n",
      "17\n",
      "18\n",
      "19\n"
     ]
    }
   ],
   "source": [
    "array6=np.array([[[1,2,3,4,5],[6,7,8,9,10],[10,11,12,13,14],[15,16,17,18,19]]])\n",
    "for i in np.nditer(array6):\n",
    "    print(i)"
   ]
  },
  {
   "cell_type": "markdown",
   "id": "c49fd5d2",
   "metadata": {},
   "source": [
    "# Manipulation"
   ]
  },
  {
   "cell_type": "code",
   "execution_count": 14,
   "id": "e78925e8",
   "metadata": {},
   "outputs": [
    {
     "name": "stdout",
     "output_type": "stream",
     "text": [
      "[ 0  1  2  3  4  5  6  7  8  9 10 11 12 13 14 15 16 17 18 19 20 21 22 23\n",
      " 24]\n"
     ]
    },
    {
     "data": {
      "text/plain": [
       "array([[ 0,  1,  2,  3,  4],\n",
       "       [ 5,  6,  7,  8,  9],\n",
       "       [10, 11, 12, 13, 14],\n",
       "       [15, 16, 17, 18, 19],\n",
       "       [20, 21, 22, 23, 24]])"
      ]
     },
     "execution_count": 14,
     "metadata": {},
     "output_type": "execute_result"
    }
   ],
   "source": [
    "m_array1=np.arange(25)\n",
    "print(m_array1)\n",
    "m_array1.reshape(5,5)"
   ]
  },
  {
   "cell_type": "markdown",
   "id": "ef971f42",
   "metadata": {},
   "source": [
    "- Reshape higher dimension to 1-d"
   ]
  },
  {
   "cell_type": "code",
   "execution_count": 16,
   "id": "0d543a85",
   "metadata": {},
   "outputs": [
    {
     "data": {
      "text/plain": [
       "array([1, 2, 3, 4, 5, 6])"
      ]
     },
     "execution_count": 16,
     "metadata": {},
     "output_type": "execute_result"
    }
   ],
   "source": [
    "m_array2=np.array([[1,2,3],[4,5,6]])\n",
    "m_array2.flatten()"
   ]
  },
  {
   "cell_type": "markdown",
   "id": "10ad401f",
   "metadata": {},
   "source": [
    "# Transpose"
   ]
  },
  {
   "cell_type": "code",
   "execution_count": 17,
   "id": "ccd83dae",
   "metadata": {},
   "outputs": [
    {
     "name": "stdout",
     "output_type": "stream",
     "text": [
      "[[1 4]\n",
      " [2 5]\n",
      " [3 6]]\n"
     ]
    }
   ],
   "source": [
    "print(m_array2.T)"
   ]
  },
  {
   "cell_type": "code",
   "execution_count": 18,
   "id": "4982c7d5",
   "metadata": {},
   "outputs": [
    {
     "name": "stdout",
     "output_type": "stream",
     "text": [
      "[ 0  1  2  3  4  5  6  7  8  9 10 11 12 13 14 15 16 17 18 19 20 21 22 23\n",
      " 24]\n"
     ]
    }
   ],
   "source": [
    "print(m_array1.T)"
   ]
  },
  {
   "cell_type": "markdown",
   "id": "bad452dd",
   "metadata": {},
   "source": [
    "# ROLL AXIS"
   ]
  },
  {
   "cell_type": "markdown",
   "id": "1102ed79",
   "metadata": {},
   "source": [
    "Roll the specified axis backwards, until it lies in a given position.\n"
   ]
  },
  {
   "cell_type": "code",
   "execution_count": 21,
   "id": "e9c1e9a6",
   "metadata": {},
   "outputs": [
    {
     "data": {
      "text/plain": [
       "array([[1, 2, 3],\n",
       "       [4, 5, 6]])"
      ]
     },
     "execution_count": 21,
     "metadata": {},
     "output_type": "execute_result"
    }
   ],
   "source": [
    "m_array2"
   ]
  },
  {
   "cell_type": "code",
   "execution_count": 19,
   "id": "fc5eb837",
   "metadata": {},
   "outputs": [
    {
     "name": "stdout",
     "output_type": "stream",
     "text": [
      "[[1 4]\n",
      " [2 5]\n",
      " [3 6]]\n"
     ]
    }
   ],
   "source": [
    "print(np.rollaxis(m_array2,1))"
   ]
  },
  {
   "cell_type": "code",
   "execution_count": 22,
   "id": "6cbb99ea",
   "metadata": {},
   "outputs": [
    {
     "data": {
      "text/plain": [
       "array([ 0,  1,  2,  3,  4,  5,  6,  7,  8,  9, 10, 11, 12, 13, 14, 15, 16,\n",
       "       17, 18, 19, 20, 21, 22, 23, 24])"
      ]
     },
     "execution_count": 22,
     "metadata": {},
     "output_type": "execute_result"
    }
   ],
   "source": [
    "m_array1"
   ]
  },
  {
   "cell_type": "code",
   "execution_count": 24,
   "id": "efa3eb4b",
   "metadata": {},
   "outputs": [
    {
     "data": {
      "text/plain": [
       "array([[[ 1,  2,  3,  4,  5],\n",
       "        [ 6,  7,  8,  9, 10],\n",
       "        [10, 11, 12, 13, 14],\n",
       "        [15, 16, 17, 18, 19]]])"
      ]
     },
     "execution_count": 24,
     "metadata": {},
     "output_type": "execute_result"
    }
   ],
   "source": [
    "array4"
   ]
  },
  {
   "cell_type": "code",
   "execution_count": 26,
   "id": "e6411eea",
   "metadata": {},
   "outputs": [
    {
     "name": "stdout",
     "output_type": "stream",
     "text": [
      "[[[ 1  2  3  4  5]]\n",
      "\n",
      " [[ 6  7  8  9 10]]\n",
      "\n",
      " [[10 11 12 13 14]]\n",
      "\n",
      " [[15 16 17 18 19]]]\n"
     ]
    }
   ],
   "source": [
    "print(np.rollaxis(array4,1))"
   ]
  },
  {
   "cell_type": "code",
   "execution_count": 27,
   "id": "7d79f7ce",
   "metadata": {},
   "outputs": [
    {
     "name": "stdout",
     "output_type": "stream",
     "text": [
      "[[[ 1  6 10 15]]\n",
      "\n",
      " [[ 2  7 11 16]]\n",
      "\n",
      " [[ 3  8 12 17]]\n",
      "\n",
      " [[ 4  9 13 18]]\n",
      "\n",
      " [[ 5 10 14 19]]]\n"
     ]
    }
   ],
   "source": [
    "print(np.rollaxis(array4,2))"
   ]
  },
  {
   "cell_type": "markdown",
   "id": "c9292fe2",
   "metadata": {},
   "source": [
    "# Random Numbers"
   ]
  },
  {
   "cell_type": "code",
   "execution_count": 30,
   "id": "70ee6fc7",
   "metadata": {},
   "outputs": [
    {
     "data": {
      "text/plain": [
       "0.06655546149120695"
      ]
     },
     "execution_count": 30,
     "metadata": {},
     "output_type": "execute_result"
    }
   ],
   "source": [
    "from numpy import random\n",
    "random.rand()"
   ]
  },
  {
   "cell_type": "code",
   "execution_count": 31,
   "id": "85d9c7db",
   "metadata": {},
   "outputs": [
    {
     "data": {
      "text/plain": [
       "array([ 5,  8, 24, 12,  5])"
      ]
     },
     "execution_count": 31,
     "metadata": {},
     "output_type": "execute_result"
    }
   ],
   "source": [
    "random.randint(25,size=(5))"
   ]
  },
  {
   "cell_type": "markdown",
   "id": "9c3dfdf4",
   "metadata": {},
   "source": [
    "# Random array with specific distribution"
   ]
  },
  {
   "cell_type": "code",
   "execution_count": 32,
   "id": "bf8da68b",
   "metadata": {},
   "outputs": [],
   "source": [
    "r_arrays=random.choice([1,2,3,4,5],p=[.1,.2,.4,.2,.1],size=(100))"
   ]
  },
  {
   "cell_type": "code",
   "execution_count": 33,
   "id": "56c7f81c",
   "metadata": {},
   "outputs": [
    {
     "data": {
      "text/plain": [
       "array([3, 2, 4, 3, 1, 3, 3, 5, 3, 3, 1, 3, 5, 4, 3, 5, 2, 3, 1, 2, 5, 3,\n",
       "       2, 3, 2, 2, 3, 4, 4, 3, 5, 3, 1, 3, 3, 4, 5, 3, 4, 4, 5, 3, 3, 4,\n",
       "       4, 2, 3, 2, 2, 3, 3, 3, 3, 2, 3, 5, 1, 5, 2, 2, 3, 2, 3, 3, 2, 3,\n",
       "       3, 4, 3, 5, 3, 4, 4, 2, 2, 3, 4, 5, 2, 1, 3, 2, 2, 3, 2, 4, 2, 3,\n",
       "       3, 3, 2, 4, 3, 2, 2, 3, 4, 3, 3, 3])"
      ]
     },
     "execution_count": 33,
     "metadata": {},
     "output_type": "execute_result"
    }
   ],
   "source": [
    "r_arrays"
   ]
  },
  {
   "cell_type": "markdown",
   "id": "237484b9",
   "metadata": {},
   "source": [
    "- 1 will repeated 0.1 times, 2 for .2 times and so on"
   ]
  },
  {
   "cell_type": "code",
   "execution_count": null,
   "id": "9eaa7a00",
   "metadata": {},
   "outputs": [],
   "source": []
  }
 ],
 "metadata": {
  "kernelspec": {
   "display_name": "Python 3",
   "language": "python",
   "name": "python3"
  },
  "language_info": {
   "codemirror_mode": {
    "name": "ipython",
    "version": 3
   },
   "file_extension": ".py",
   "mimetype": "text/x-python",
   "name": "python",
   "nbconvert_exporter": "python",
   "pygments_lexer": "ipython3",
   "version": "3.8.8"
  }
 },
 "nbformat": 4,
 "nbformat_minor": 5
}
