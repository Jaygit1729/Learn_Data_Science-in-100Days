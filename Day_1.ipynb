{
 "cells": [
  {
   "cell_type": "markdown",
   "id": "16c34c88",
   "metadata": {},
   "source": [
    " # 1. Anaconda installation"
   ]
  },
  {
   "cell_type": "markdown",
   "id": "94fd73bb",
   "metadata": {},
   "source": [
    "The first step is to set the environment. Jupyter Notebook is one of the best tools for data science \n",
    "programming.So to download jupyter notebook, we will be installing anaconda package and anaconda comes with a lots of another in built features."
   ]
  },
  {
   "cell_type": "markdown",
   "id": "9e606fb8",
   "metadata": {},
   "source": [
    "# 2. Creating Virtual Ennvironment for projects"
   ]
  },
  {
   "cell_type": "markdown",
   "id": "b2ba8bd6",
   "metadata": {},
   "source": [
    "Creating an environment is very important while working on a project because different \n",
    "projects have different requirements and dependency associated with the projects."
   ]
  },
  {
   "cell_type": "markdown",
   "id": "2413b593",
   "metadata": {},
   "source": [
    "## Step-1 : How to check all the environment list \n",
    "    conda env list"
   ]
  },
  {
   "cell_type": "markdown",
   "id": "71b59d53",
   "metadata": {},
   "source": [
    "Step-2 : Create a environment for project\n",
    "  conda create <environment name> -n python==3.6 (python version)\n",
    "    This means we want to create our project environment and install all the dependency in p"
   ]
  },
  {
   "cell_type": "code",
   "execution_count": null,
   "id": "54b093fe",
   "metadata": {},
   "outputs": [],
   "source": []
  }
 ],
 "metadata": {
  "kernelspec": {
   "display_name": "Python 3",
   "language": "python",
   "name": "python3"
  },
  "language_info": {
   "codemirror_mode": {
    "name": "ipython",
    "version": 3
   },
   "file_extension": ".py",
   "mimetype": "text/x-python",
   "name": "python",
   "nbconvert_exporter": "python",
   "pygments_lexer": "ipython3",
   "version": "3.8.8"
  }
 },
 "nbformat": 4,
 "nbformat_minor": 5
}
