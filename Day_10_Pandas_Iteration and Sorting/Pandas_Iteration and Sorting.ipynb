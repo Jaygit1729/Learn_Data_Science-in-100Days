{
 "cells": [
  {
   "cell_type": "markdown",
   "id": "67ce9ff9",
   "metadata": {},
   "source": [
    "- let's look at the three main ways to iterate over DataFrame:\n",
    "\n",
    "items()\n",
    "\n",
    "iterrows()\n",
    "\n",
    "itertuples()"
   ]
  },
  {
   "cell_type": "code",
   "execution_count": null,
   "id": "e2eb697d",
   "metadata": {},
   "outputs": [],
   "source": [
    "import pandas as pd\n",
    "\n",
    "df = pd.DataFrame({\n",
    "    'first_name': ['John', 'Jane', 'Marry', 'Victoria', 'Gabriel', 'Layla'],\n",
    "    'last_name': ['Smith', 'Doe', 'Jackson', 'Smith', 'Brown', 'Martinez'],\n",
    "    'age': [34, 29, 37, 52, 26, 32]},\n",
    "    index=['id001', 'id002', 'id003', 'id004', 'id005', 'id006'])"
   ]
  },
  {
   "cell_type": "code",
   "execution_count": null,
   "id": "7f535b86",
   "metadata": {},
   "outputs": [],
   "source": [
    "df"
   ]
  },
  {
   "cell_type": "code",
   "execution_count": null,
   "id": "09d97d40",
   "metadata": {},
   "outputs": [],
   "source": [
    "df.items()"
   ]
  },
  {
   "cell_type": "markdown",
   "id": "7226820d",
   "metadata": {},
   "source": [
    "This returns a generator:"
   ]
  },
  {
   "cell_type": "markdown",
   "id": "01b1d301",
   "metadata": {},
   "source": [
    "We can use this to generate pairs of col_name and data. These pairs will contain a column name and every row of data for that column. Let's loop through column names and their data:"
   ]
  },
  {
   "cell_type": "code",
   "execution_count": null,
   "id": "f6e58cb5",
   "metadata": {},
   "outputs": [],
   "source": [
    "for col_name, data in df.items():\n",
    "    print(\"col_name:\",col_name, \"\\ndata:\",data)"
   ]
  },
  {
   "cell_type": "code",
   "execution_count": null,
   "id": "7d3f1d41",
   "metadata": {},
   "outputs": [],
   "source": [
    "for col_name,data in df.items():\n",
    "    print('col_name:',col_name,\"\\ndata:\", data[1])"
   ]
  },
  {
   "cell_type": "code",
   "execution_count": null,
   "id": "e19490ef",
   "metadata": {},
   "outputs": [],
   "source": [
    "for col_name,data in df.items():\n",
    "    print('col_name:',col_name,\"\\ndata:\",data['id002'])"
   ]
  },
  {
   "cell_type": "markdown",
   "id": "5d24dc4a",
   "metadata": {},
   "source": [
    "Iterating DataFrames with iterrows():\n",
    "\n",
    "While df.items() iterates over the rows in column-wise, doing a cycle for each column, we can use iterrows() to get the entire row-data of an index.\n",
    "\n",
    "Let's try iterating over the rows with iterrows():"
   ]
  },
  {
   "cell_type": "code",
   "execution_count": null,
   "id": "815e776f",
   "metadata": {},
   "outputs": [],
   "source": [
    "%%prun\n",
    "for i, row in df.iterrows():\n",
    "    print(f\"Index: {i}\")\n",
    "    print(f\"{row}\\n\")"
   ]
  },
  {
   "cell_type": "markdown",
   "id": "f4831d0e",
   "metadata": {},
   "source": [
    "Iterating DataFrames with itertuples():\n",
    "\n",
    "The itertuples() function will also return a generator, which generates row values in tuples. Let's try this out:"
   ]
  },
  {
   "cell_type": "code",
   "execution_count": null,
   "id": "da5f2ce3",
   "metadata": {
    "scrolled": true
   },
   "outputs": [],
   "source": [
    "for row in df.itertuples():\n",
    "    print(row)"
   ]
  },
  {
   "cell_type": "markdown",
   "id": "bf2e74c0",
   "metadata": {},
   "source": [
    "The itertuples() method has two arguments: index and name.\n",
    "\n",
    "We can choose not to display index column by setting the index parameter to False:"
   ]
  },
  {
   "cell_type": "code",
   "execution_count": null,
   "id": "0c4c6a6a",
   "metadata": {},
   "outputs": [],
   "source": [
    "%%prun\n",
    "for row in df.itertuples(index=False):\n",
    "    print(row)"
   ]
  },
  {
   "cell_type": "markdown",
   "id": "ebce8dfb",
   "metadata": {},
   "source": [
    "As you've already noticed, this generator yields namedtuples with the default name of Pandas. We can change this by passing People argument to the name parameter. You can choose any name you like, but it's always best to pick names relevant to your data:"
   ]
  },
  {
   "cell_type": "code",
   "execution_count": null,
   "id": "6d7c6253",
   "metadata": {},
   "outputs": [],
   "source": [
    "for row in df.itertuples(index=False, name='People'):\n",
    "    print(row)"
   ]
  },
  {
   "cell_type": "markdown",
   "id": "8f5e2b3f",
   "metadata": {},
   "source": [
    "Iterrows():\n",
    "    \n",
    "Iterrows() is a Pandas inbuilt function to iterate through your data frame. It should be completely avoided as its performance is very slow compared to other iteration techniques. Iterrows() makes multiple function calls while iterating and each row of the iteration has properties of a data frame, which makes it slower."
   ]
  },
  {
   "cell_type": "markdown",
   "id": "1ec92641",
   "metadata": {},
   "source": [
    "- iterrows() takes 790 seconds to iterate through a data frame with 10 million records"
   ]
  },
  {
   "cell_type": "markdown",
   "id": "5ea18943",
   "metadata": {},
   "source": [
    "Itertuples() is a Pandas inbuilt function to iterate through your data frame. Itertuples() make a comparatively less number of function calls than iterrows() and carry much lesser overhead. Itertuples() iterates through the data frame by converting each row of data as a list of tuples.\n",
    "\n",
    "itertuples() takes 16 seconds to iterate through a data frame with 10 million records that are around 50x times faster than iterrows()."
   ]
  },
  {
   "cell_type": "markdown",
   "id": "440dd83f",
   "metadata": {},
   "source": [
    "## Numpy Array Iteration:\n",
    "\n",
    "- Iteration beats the whole purpose of using Pandas. Vectorization is always the best choice. Pandas come with df.values() function to convert the data frame to a list of list format."
   ]
  },
  {
   "cell_type": "code",
   "execution_count": null,
   "id": "cb5e1964",
   "metadata": {},
   "outputs": [],
   "source": [
    "df"
   ]
  },
  {
   "cell_type": "code",
   "execution_count": null,
   "id": "61789930",
   "metadata": {},
   "outputs": [],
   "source": [
    "Numpy_array=df.values\n",
    "Numpy_array"
   ]
  },
  {
   "cell_type": "code",
   "execution_count": null,
   "id": "d03df5f9",
   "metadata": {},
   "outputs": [],
   "source": [
    "for i in Numpy_array:\n",
    "    print(i)"
   ]
  },
  {
   "cell_type": "code",
   "execution_count": null,
   "id": "b5a43ea2",
   "metadata": {},
   "outputs": [],
   "source": [
    "\n",
    "for i in Numpy_array:\n",
    "    print(i[0])"
   ]
  },
  {
   "cell_type": "markdown",
   "id": "efb8c5cd",
   "metadata": {},
   "source": [
    "It took 14 seconds to iterate through a data frame with 10 million records that are around 56x times faster than iterrows().\n"
   ]
  },
  {
   "cell_type": "markdown",
   "id": "fbdf619c",
   "metadata": {},
   "source": [
    "Write a Pandas program to iterate through diamonds DataFrame."
   ]
  },
  {
   "cell_type": "code",
   "execution_count": null,
   "id": "59752418",
   "metadata": {},
   "outputs": [],
   "source": [
    "import pandas as pd\n",
    "diamonds = pd.read_csv('https://raw.githubusercontent.com/mwaskom/seaborn-data/master/diamonds.csv')"
   ]
  },
  {
   "cell_type": "code",
   "execution_count": null,
   "id": "acb24591",
   "metadata": {},
   "outputs": [],
   "source": [
    "diamonds.head()"
   ]
  },
  {
   "cell_type": "code",
   "execution_count": null,
   "id": "114537c3",
   "metadata": {},
   "outputs": [],
   "source": [
    "diamonds.shape"
   ]
  },
  {
   "cell_type": "code",
   "execution_count": null,
   "id": "a93b98b4",
   "metadata": {},
   "outputs": [],
   "source": [
    "%%prun\n",
    "for i in diamonds.itertuples(index=False,name='diamond'):\n",
    "    print(i)\n",
    "    \n",
    "# 1674377 function calls (1674355 primitive calls) in 10.949 seconds\n"
   ]
  },
  {
   "cell_type": "code",
   "execution_count": null,
   "id": "4b482f4a",
   "metadata": {},
   "outputs": [],
   "source": [
    "%%prun\n",
    "for i,row in diamonds.iterrows():\n",
    "    print(\"Index:\",i,\"\\nrow:\",row)\n",
    "# 78329388 function calls (75254804 primitive calls) in 205.141 seconds\n"
   ]
  },
  {
   "cell_type": "code",
   "execution_count": null,
   "id": "d0a40610",
   "metadata": {},
   "outputs": [],
   "source": []
  }
 ],
 "metadata": {
  "kernelspec": {
   "display_name": "Python 3",
   "language": "python",
   "name": "python3"
  },
  "language_info": {
   "codemirror_mode": {
    "name": "ipython",
    "version": 3
   },
   "file_extension": ".py",
   "mimetype": "text/x-python",
   "name": "python",
   "nbconvert_exporter": "python",
   "pygments_lexer": "ipython3",
   "version": "3.8.8"
  }
 },
 "nbformat": 4,
 "nbformat_minor": 5
}
