{
 "cells": [
  {
   "cell_type": "markdown",
   "id": "c2865234",
   "metadata": {
    "id": "c2865234"
   },
   "source": [
    "# Programming for DS - Python"
   ]
  },
  {
   "cell_type": "markdown",
   "id": "c2a7f04e",
   "metadata": {
    "id": "c2a7f04e"
   },
   "source": [
    "## Assignment questions"
   ]
  },
  {
   "cell_type": "markdown",
   "id": "3abed3ff",
   "metadata": {
    "id": "3abed3ff"
   },
   "source": [
    "### Q1. Print \"Welcome to Machine Learning Plus\"."
   ]
  },
  {
   "cell_type": "code",
   "execution_count": 1,
   "id": "6132fde8",
   "metadata": {},
   "outputs": [
    {
     "name": "stdout",
     "output_type": "stream",
     "text": [
      "Welcome to Machine Learning Plus\n"
     ]
    }
   ],
   "source": [
    "print(\"Welcome to Machine Learning Plus\")"
   ]
  },
  {
   "cell_type": "markdown",
   "id": "fedfde17",
   "metadata": {
    "id": "fedfde17"
   },
   "source": [
    "### Q2. Assign the string \"Welcome to Machine Learning Plus\" to a variable."
   ]
  },
  {
   "cell_type": "code",
   "execution_count": 2,
   "id": "35960e71",
   "metadata": {},
   "outputs": [],
   "source": [
    "DataScience_Class=(\"Welcome to Machine Learning Plus\")"
   ]
  },
  {
   "cell_type": "markdown",
   "id": "e0a9701e",
   "metadata": {
    "id": "e0a9701e"
   },
   "source": [
    "### Q3. Find the data type of variable x\n",
    "\n",
    "```\n",
    "#Input \n",
    "x = \"85\"\n",
    "```"
   ]
  },
  {
   "cell_type": "code",
   "execution_count": 3,
   "id": "79e13002",
   "metadata": {},
   "outputs": [
    {
     "name": "stdout",
     "output_type": "stream",
     "text": [
      "<class 'str'>\n"
     ]
    }
   ],
   "source": [
    "x='85'\n",
    "print(type(x))"
   ]
  },
  {
   "cell_type": "markdown",
   "id": "5b24b507",
   "metadata": {
    "id": "5b24b507"
   },
   "source": [
    "### Q4. Create a int variable and assign str datatype to it\n",
    "\n",
    "```\n",
    "# Input\n",
    "var = 5\n",
    "```"
   ]
  },
  {
   "cell_type": "code",
   "execution_count": 4,
   "id": "e32af108",
   "metadata": {},
   "outputs": [
    {
     "data": {
      "text/plain": [
       "str"
      ]
     },
     "execution_count": 4,
     "metadata": {},
     "output_type": "execute_result"
    }
   ],
   "source": [
    "var=5\n",
    "type_casting=str(var)\n",
    "type(type_casting)"
   ]
  },
  {
   "cell_type": "markdown",
   "id": "274e17e2-086e-4f04-b471-0f6b610ecb14",
   "metadata": {
    "id": "e0a9701e"
   },
   "source": [
    "### Q5. Round the variable upto 3 decimal places\n",
    "\n",
    "```\n",
    "#Input \n",
    "x = 85.545678\n",
    "```"
   ]
  },
  {
   "cell_type": "code",
   "execution_count": 5,
   "id": "4953afbb",
   "metadata": {},
   "outputs": [
    {
     "data": {
      "text/plain": [
       "85.546"
      ]
     },
     "execution_count": 5,
     "metadata": {},
     "output_type": "execute_result"
    }
   ],
   "source": [
    "import numpy as np\n",
    "x=85.545678\n",
    "rounding=np.round(x,3)\n",
    "rounding"
   ]
  },
  {
   "cell_type": "markdown",
   "id": "1c1c2c12-1a89-4d8a-94b1-6588ec8fdd1e",
   "metadata": {
    "id": "e0a9701e"
   },
   "source": [
    "### Q6. Ceil the variable x.\n",
    "\n",
    "```\n",
    "#Input \n",
    "x = 85.545678\n",
    "```"
   ]
  },
  {
   "cell_type": "code",
   "execution_count": 6,
   "id": "cacdfff6",
   "metadata": {},
   "outputs": [
    {
     "data": {
      "text/plain": [
       "86"
      ]
     },
     "execution_count": 6,
     "metadata": {},
     "output_type": "execute_result"
    }
   ],
   "source": [
    "import math\n",
    "x=85.545678\n",
    "ceiling=math.ceil(x)\n",
    "ceiling"
   ]
  },
  {
   "cell_type": "markdown",
   "id": "8af75f43",
   "metadata": {
    "id": "8af75f43"
   },
   "source": [
    "### Q7. Find the length of string.\n",
    "\n",
    "````\n",
    "#Input\n",
    "string = \"Welcome to Machine Learning Plus\"\n",
    "````\n"
   ]
  },
  {
   "cell_type": "code",
   "execution_count": 7,
   "id": "5cf42510",
   "metadata": {},
   "outputs": [
    {
     "data": {
      "text/plain": [
       "32"
      ]
     },
     "execution_count": 7,
     "metadata": {},
     "output_type": "execute_result"
    }
   ],
   "source": [
    "string= \"Welcome to Machine Learning Plus\"\n",
    "length=len(string)\n",
    "length"
   ]
  },
  {
   "cell_type": "markdown",
   "id": "0f3b12a7-233c-40cf-aff1-17992d485609",
   "metadata": {
    "id": "8af75f43"
   },
   "source": [
    "### Q8. Find the 10th character of the string.\n",
    "\n",
    "````\n",
    "#Input\n",
    "string = \"Welcome to Machine Learning Plus\"\n",
    "````\n"
   ]
  },
  {
   "cell_type": "code",
   "execution_count": 8,
   "id": "ed47cef2",
   "metadata": {},
   "outputs": [
    {
     "data": {
      "text/plain": [
       "'o'"
      ]
     },
     "execution_count": 8,
     "metadata": {},
     "output_type": "execute_result"
    }
   ],
   "source": [
    "string[9]"
   ]
  },
  {
   "cell_type": "markdown",
   "id": "f18b39f5-b550-4c51-bd19-5fa05f47a184",
   "metadata": {
    "id": "8af75f43"
   },
   "source": [
    "### Q9. Get all the character till 10th character of the string.\n",
    "\n",
    "````\n",
    "#Input\n",
    "string = \"Welcome to Machine Learning Plus\"\n",
    "````\n"
   ]
  },
  {
   "cell_type": "code",
   "execution_count": 9,
   "id": "7b0e1aa0",
   "metadata": {},
   "outputs": [
    {
     "data": {
      "text/plain": [
       "'Welcome to '"
      ]
     },
     "execution_count": 9,
     "metadata": {},
     "output_type": "execute_result"
    }
   ],
   "source": [
    "string[:11]"
   ]
  },
  {
   "cell_type": "markdown",
   "id": "c2b12c64-ed8f-46e7-8374-0e51d1c182e1",
   "metadata": {
    "id": "8af75f43"
   },
   "source": [
    "### Q10. Get every 3rd character of the string.\n",
    "\n",
    "````\n",
    "#Input\n",
    "string = \"Welcome to Machine Learning Plus\"\n",
    "````\n"
   ]
  },
  {
   "cell_type": "code",
   "execution_count": 10,
   "id": "e886c2ed",
   "metadata": {},
   "outputs": [
    {
     "data": {
      "text/plain": [
       "'Wceoai ai u'"
      ]
     },
     "execution_count": 10,
     "metadata": {},
     "output_type": "execute_result"
    }
   ],
   "source": [
    "string[::3]"
   ]
  },
  {
   "cell_type": "markdown",
   "id": "efb219e6-6a9c-4371-93cf-bff452f60793",
   "metadata": {
    "id": "8af75f43"
   },
   "source": [
    "### Q11. Get all the words in the string.\n",
    "\n",
    "````\n",
    "#Input\n",
    "string = \"Welcome to Machine Learning Plus\"\n",
    "````\n"
   ]
  },
  {
   "cell_type": "code",
   "execution_count": 11,
   "id": "9bd0129b",
   "metadata": {},
   "outputs": [
    {
     "data": {
      "text/plain": [
       "'Welcome to Machine Learning Plus'"
      ]
     },
     "execution_count": 11,
     "metadata": {},
     "output_type": "execute_result"
    }
   ],
   "source": [
    "string[:]"
   ]
  },
  {
   "cell_type": "markdown",
   "id": "e4bef641-b3a7-4fe1-9a85-1800cdf73a31",
   "metadata": {
    "id": "8af75f43"
   },
   "source": [
    "### Q12. Reverse all the words in the string.\n",
    "\n",
    "````\n",
    "#Input\n",
    "string = \"Welcome to Machine Learning Plus\"\n",
    "````\n"
   ]
  },
  {
   "cell_type": "code",
   "execution_count": 12,
   "id": "d84faf3f",
   "metadata": {},
   "outputs": [
    {
     "data": {
      "text/plain": [
       "'sulP gninraeL enihcaM ot emocleW'"
      ]
     },
     "execution_count": 12,
     "metadata": {},
     "output_type": "execute_result"
    }
   ],
   "source": [
    "string[::-1]"
   ]
  },
  {
   "cell_type": "code",
   "execution_count": 3,
   "id": "39136304",
   "metadata": {},
   "outputs": [
    {
     "data": {
      "text/plain": [
       "'plus learning machine to Welcome'"
      ]
     },
     "execution_count": 3,
     "metadata": {},
     "output_type": "execute_result"
    }
   ],
   "source": [
    "\n",
    "string = \"Welcome to machine learning plus\"\n",
    "\n",
    "words = string.split(' ') \n",
    "reverse_string = ' '.join(reversed(words))\n",
    "reverse_string"
   ]
  },
  {
   "cell_type": "markdown",
   "id": "8f6504b4-9869-4ddf-b2da-c1cd3a709e62",
   "metadata": {
    "id": "8af75f43"
   },
   "source": [
    "### Q13. Convert the string to title case (1st letter of every word upper case, rest of the characters lower case)\n",
    "\n",
    "````\n",
    "#Input\n",
    "string = \"Welcome to Machine Learning Plus\"\n",
    "````\n"
   ]
  },
  {
   "cell_type": "code",
   "execution_count": 13,
   "id": "d9807e31",
   "metadata": {},
   "outputs": [
    {
     "data": {
      "text/plain": [
       "'Welcome To Machine Learning Plus'"
      ]
     },
     "execution_count": 13,
     "metadata": {},
     "output_type": "execute_result"
    }
   ],
   "source": [
    "string.title()"
   ]
  },
  {
   "cell_type": "markdown",
   "id": "bbabb5b2-c8d6-4ad4-a32d-02fba4788f6a",
   "metadata": {
    "id": "8af75f43"
   },
   "source": [
    "### Q14. Replace all the @ in string with a\n",
    "\n",
    "````\n",
    "#Input\n",
    "string = \"\"I @m comfort@ble with python now\"\"\n",
    "````\n"
   ]
  },
  {
   "cell_type": "code",
   "execution_count": 14,
   "id": "f2885f3a",
   "metadata": {},
   "outputs": [
    {
     "data": {
      "text/plain": [
       "'I am comfortable with python now'"
      ]
     },
     "execution_count": 14,
     "metadata": {},
     "output_type": "execute_result"
    }
   ],
   "source": [
    "string = \"I @m comfort@ble with python now\"\n",
    "string.replace(\"@\",\"a\")"
   ]
  },
  {
   "cell_type": "markdown",
   "id": "c06ceaff",
   "metadata": {
    "id": "c06ceaff"
   },
   "source": [
    "### Q15. Find the number of elements in the list\n",
    "\n",
    "````\n",
    "# Inputs\n",
    "my_list = [\"Learn\", \"python\", \"happily\"]\n",
    "````"
   ]
  },
  {
   "cell_type": "code",
   "execution_count": 15,
   "id": "027496a5",
   "metadata": {},
   "outputs": [
    {
     "data": {
      "text/plain": [
       "3"
      ]
     },
     "execution_count": 15,
     "metadata": {},
     "output_type": "execute_result"
    }
   ],
   "source": [
    "my_list = [\"Learn\", \"python\", \"happily\"]\n",
    "len(my_list)"
   ]
  },
  {
   "cell_type": "markdown",
   "id": "d6439bbb",
   "metadata": {
    "id": "d6439bbb"
   },
   "source": [
    "### Q16. Remove the element \"happily\" from the given list.\n",
    "\n",
    "````\n",
    "# Inputs\n",
    "my_list = [\"Learn\", \"python\", \"happily\"]\n",
    "````"
   ]
  },
  {
   "cell_type": "code",
   "execution_count": 20,
   "id": "763995ca",
   "metadata": {},
   "outputs": [
    {
     "name": "stdout",
     "output_type": "stream",
     "text": [
      "removed element is:happily\n",
      "['Learn', 'python']\n"
     ]
    }
   ],
   "source": [
    "#method-1 using pop\n",
    "my_list = [\"Learn\", \"python\", \"happily\"]\n",
    "a=my_list.pop()\n",
    "print(f\"removed element is:{a}\")\n",
    "print(my_list)"
   ]
  },
  {
   "cell_type": "code",
   "execution_count": 21,
   "id": "e3773433",
   "metadata": {},
   "outputs": [
    {
     "data": {
      "text/plain": [
       "['Learn', 'python']"
      ]
     },
     "execution_count": 21,
     "metadata": {},
     "output_type": "execute_result"
    }
   ],
   "source": [
    "#method-2 using remove\n",
    "my_list = [\"Learn\", \"python\", \"happily\"]\n",
    "my_list.remove(\"happily\")\n",
    "my_list"
   ]
  },
  {
   "cell_type": "markdown",
   "id": "22b072b4",
   "metadata": {
    "id": "22b072b4"
   },
   "source": [
    "### Q17. Sort the given list in ascending order\n",
    "\n",
    "````\n",
    "# Inputs\n",
    "my_list=[\"Bosche\",\"Dell\",\"Cognizant\",\"Apple\"]\n",
    "````"
   ]
  },
  {
   "cell_type": "code",
   "execution_count": 22,
   "id": "bc27c6cc",
   "metadata": {},
   "outputs": [
    {
     "data": {
      "text/plain": [
       "['Apple', 'Bosche', 'Cognizant', 'Dell']"
      ]
     },
     "execution_count": 22,
     "metadata": {},
     "output_type": "execute_result"
    }
   ],
   "source": [
    "my_list=[\"Bosche\",\"Dell\",\"Cognizant\",\"Apple\"]\n",
    "my_list.sort()\n",
    "my_list"
   ]
  },
  {
   "cell_type": "markdown",
   "id": "4bf4e038",
   "metadata": {
    "id": "4bf4e038"
   },
   "source": [
    "### Q18. Find the maximum value in the given list\n",
    "\n",
    "````\n",
    "# Input\n",
    "my_list = [6,0,18,47,34]\n",
    "````"
   ]
  },
  {
   "cell_type": "code",
   "execution_count": 19,
   "id": "cdb19d15",
   "metadata": {},
   "outputs": [
    {
     "data": {
      "text/plain": [
       "47"
      ]
     },
     "execution_count": 19,
     "metadata": {},
     "output_type": "execute_result"
    }
   ],
   "source": [
    "my_list = [6,0,18,47,34]\n",
    "max(my_list)"
   ]
  },
  {
   "cell_type": "markdown",
   "id": "ca6cba17-cdd2-459b-81e3-64315c0c5b0f",
   "metadata": {
    "id": "22b072b4"
   },
   "source": [
    "### Q19. Replace the 3rd element of the list with \"Hp\"\n",
    "\n",
    "````\n",
    "# Inputs\n",
    "my_list=[\"Bosche\",\"Dell\",\"Cognizant\",\"Apple\"]\n",
    "````"
   ]
  },
  {
   "cell_type": "code",
   "execution_count": 23,
   "id": "1f68420e",
   "metadata": {},
   "outputs": [
    {
     "data": {
      "text/plain": [
       "['Bosche', 'Dell', 'Cognizant', 'Hp']"
      ]
     },
     "execution_count": 23,
     "metadata": {},
     "output_type": "execute_result"
    }
   ],
   "source": [
    "my_list=[\"Bosche\",\"Dell\",\"Cognizant\",\"Apple\"]\n",
    "my_list[3]='Hp'\n",
    "my_list"
   ]
  },
  {
   "cell_type": "markdown",
   "id": "5898ebba-230f-426b-8d68-27660673f6dc",
   "metadata": {
    "id": "22b072b4"
   },
   "source": [
    "### Q19. Copy the list 2 times and append it in the same list\n",
    "\n",
    "````\n",
    "# Inputs\n",
    "my_list=[\"Bosche\",\"Dell\",\"Cognizant\",\"Apple\"]\n",
    "````"
   ]
  },
  {
   "cell_type": "code",
   "execution_count": 24,
   "id": "c94fbc20",
   "metadata": {},
   "outputs": [
    {
     "name": "stdout",
     "output_type": "stream",
     "text": [
      "copied list:['Bosche', 'Dell', 'Cognizant', 'Hp', 'Bosche', 'Dell', 'Cognizant', 'Hp']\n"
     ]
    },
    {
     "data": {
      "text/plain": [
       "['Bosche',\n",
       " 'Dell',\n",
       " 'Cognizant',\n",
       " 'Hp',\n",
       " ['Bosche', 'Dell', 'Cognizant', 'Hp', 'Bosche', 'Dell', 'Cognizant', 'Hp']]"
      ]
     },
     "execution_count": 24,
     "metadata": {},
     "output_type": "execute_result"
    }
   ],
   "source": [
    "my_list1= 2*my_list\n",
    "print(f\"copied list:{my_list1}\")\n",
    "my_list.append(my_list1)\n",
    "my_list"
   ]
  },
  {
   "cell_type": "markdown",
   "id": "dce921a4-88d0-4495-baf9-ab967c233b2f",
   "metadata": {
    "id": "22b072b4"
   },
   "source": [
    "### Q20. Reverse the order of elements in given list\n",
    "\n",
    "````\n",
    "# Inputs\n",
    "my_list=[\"Bosche\",\"Dell\",\"Cognizant\",\"Apple\"]\n",
    "````"
   ]
  },
  {
   "cell_type": "code",
   "execution_count": 25,
   "id": "2a7a7fe8",
   "metadata": {},
   "outputs": [
    {
     "data": {
      "text/plain": [
       "['Apple', 'Cognizant', 'Dell', 'Bosche']"
      ]
     },
     "execution_count": 25,
     "metadata": {},
     "output_type": "execute_result"
    }
   ],
   "source": [
    "my_list=[\"Bosche\",\"Dell\",\"Cognizant\",\"Apple\"]\n",
    "my_list[::-1]"
   ]
  },
  {
   "cell_type": "markdown",
   "id": "7a7f673b-2004-40c3-9c1a-74f1e50d6cc1",
   "metadata": {
    "id": "22b072b4"
   },
   "source": [
    "### Q21. Create a list which contains every 2nd character from all the elements of the list\n",
    "\n",
    "````\n",
    "# Inputs\n",
    "my_list=[\"Bosche\",\"Dell\",\"Cognizant\",\"Apple\"]\n",
    "\n",
    "# Output\n",
    "['Bsh', 'Dl', 'Cgiat', 'Ape']\n",
    "````"
   ]
  },
  {
   "cell_type": "code",
   "execution_count": 26,
   "id": "ccd3b443",
   "metadata": {},
   "outputs": [
    {
     "data": {
      "text/plain": [
       "['Bsh', 'Dl', 'Cgiat', 'Ape']"
      ]
     },
     "execution_count": 26,
     "metadata": {},
     "output_type": "execute_result"
    }
   ],
   "source": [
    "[i.split()[0][::2] for i in my_list ]"
   ]
  },
  {
   "cell_type": "markdown",
   "id": "ceef6cae-a786-4de0-8ccd-4c20ea97c914",
   "metadata": {
    "id": "22b072b4"
   },
   "source": [
    "### Q22. Add a new key to a dictionary\n",
    "\n",
    "````\n",
    "# Inputs\n",
    "my_dict = {'a' : 1, 'b' : 2}\n",
    "\n",
    "Sample Dictionary : {a: 1, b: 2}\n",
    "\n",
    "\n",
    "# Output\n",
    "Expected Result : {a: 1, b: 2, c: 3}\n",
    "\n",
    "````"
   ]
  },
  {
   "cell_type": "code",
   "execution_count": 27,
   "id": "9925a0bd",
   "metadata": {},
   "outputs": [
    {
     "name": "stdout",
     "output_type": "stream",
     "text": [
      "{'a': 1, 'b': 2, 'c': 3}\n"
     ]
    }
   ],
   "source": [
    "my_dict = {'a' : 1, 'b' : 2}\n",
    "my_dict['c']=3\n",
    "print(my_dict)"
   ]
  },
  {
   "cell_type": "markdown",
   "id": "de5bf7ae-019c-4829-93b8-62ff632a5bf0",
   "metadata": {
    "id": "22b072b4"
   },
   "source": [
    "### Q23. Check whether the last digit of a number is divisible by 3 or not.\n",
    "\n",
    "````\n",
    "# Inputs\n",
    "num = 552\n",
    "````"
   ]
  },
  {
   "cell_type": "code",
   "execution_count": 28,
   "id": "7e68b7a2",
   "metadata": {},
   "outputs": [
    {
     "name": "stdout",
     "output_type": "stream",
     "text": [
      "No, last digit of number 552 is  2 and its not divisible by 3\n"
     ]
    }
   ],
   "source": [
    "num = 552\n",
    "\n",
    "last_digit= num % 10\n",
    "if last_digit % 3==0:\n",
    "    print(f\"yes, last digit of number {num} is {last_digit} and its divisible by 3\")\n",
    "else:\n",
    "    print(f\"No, last digit of number {num} is  {last_digit} and its not divisible by 3\")"
   ]
  },
  {
   "cell_type": "code",
   "execution_count": 29,
   "id": "3d6e855a",
   "metadata": {},
   "outputs": [
    {
     "name": "stdout",
     "output_type": "stream",
     "text": [
      "yes, last digit of number 553 is 3 and its divisible by 3\n"
     ]
    }
   ],
   "source": [
    "num = 553\n",
    "\n",
    "last_digit= num % 10\n",
    "if last_digit % 3==0:\n",
    "    print(f\"yes, last digit of number {num} is {last_digit} and its divisible by 3\")\n",
    "else:\n",
    "    print(f\"No, last digit of number {num} is  {last_digit} and its not divisible by 3\")"
   ]
  },
  {
   "cell_type": "markdown",
   "id": "7b22fecc",
   "metadata": {
    "id": "7b22fecc"
   },
   "source": [
    "### Q24. Calculate the sum of all numbers from 1 to a given number num\n",
    "\n",
    "````\n",
    "# Inputs\n",
    "num = 12\n",
    "````\n"
   ]
  },
  {
   "cell_type": "code",
   "execution_count": 32,
   "id": "a133c26d",
   "metadata": {},
   "outputs": [
    {
     "name": "stdout",
     "output_type": "stream",
     "text": [
      "sum = 78\n"
     ]
    }
   ],
   "source": [
    "n = 12\n",
    "sum = 0\n",
    "while n >= 0:\n",
    "    sum += n\n",
    "    n -= 1\n",
    "print(\"sum =\", sum)"
   ]
  },
  {
   "cell_type": "markdown",
   "id": "cf0a8b26",
   "metadata": {
    "id": "cf0a8b26"
   },
   "source": [
    "### Q25. Print letters in a string line by line using while loop\n",
    "\n",
    "````\n",
    "# Input\n",
    "str1=\"Hello world\"\n",
    "````\n"
   ]
  },
  {
   "cell_type": "code",
   "execution_count": 34,
   "id": "33ed4cff",
   "metadata": {},
   "outputs": [
    {
     "name": "stdout",
     "output_type": "stream",
     "text": [
      "H\n",
      "e\n",
      "l\n",
      "l\n",
      "o\n",
      " \n",
      "w\n",
      "o\n",
      "r\n",
      "l\n",
      "d\n"
     ]
    }
   ],
   "source": [
    "str1=\"Hello world\"\n",
    "\n",
    "i=0\n",
    "\n",
    "while i < len(str1):\n",
    "    print (str1[i])\n",
    "    i += 1"
   ]
  },
  {
   "cell_type": "code",
   "execution_count": null,
   "id": "b6436744",
   "metadata": {},
   "outputs": [],
   "source": []
  }
 ],
 "metadata": {
  "colab": {
   "name": "Assessment solutions.ipynb",
   "provenance": []
  },
  "kernelspec": {
   "display_name": "Python 3",
   "language": "python",
   "name": "python3"
  },
  "language_info": {
   "codemirror_mode": {
    "name": "ipython",
    "version": 3
   },
   "file_extension": ".py",
   "mimetype": "text/x-python",
   "name": "python",
   "nbconvert_exporter": "python",
   "pygments_lexer": "ipython3",
   "version": "3.8.8"
  }
 },
 "nbformat": 4,
 "nbformat_minor": 5
}
