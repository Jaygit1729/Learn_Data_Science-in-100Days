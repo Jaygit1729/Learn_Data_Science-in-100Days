{
 "cells": [
  {
   "cell_type": "markdown",
   "id": "c2865234",
   "metadata": {
    "id": "c2865234"
   },
   "source": [
    "# Programming for DS - Python"
   ]
  },
  {
   "cell_type": "markdown",
   "id": "c2a7f04e",
   "metadata": {
    "id": "c2a7f04e"
   },
   "source": [
    "## Assignment solutions"
   ]
  },
  {
   "cell_type": "markdown",
   "id": "3abed3ff",
   "metadata": {
    "id": "3abed3ff"
   },
   "source": [
    "### Q1. Print \"Welcome to Machine Learning Plus\"."
   ]
  },
  {
   "cell_type": "code",
   "execution_count": 1,
   "id": "82e897d3",
   "metadata": {
    "id": "82e897d3",
    "outputId": "9ba88a73-940c-41ce-b956-69e7ac502074"
   },
   "outputs": [
    {
     "name": "stdout",
     "output_type": "stream",
     "text": [
      "Welcome to Machine Learning Plus\n"
     ]
    }
   ],
   "source": [
    "# Solution \n",
    "\n",
    "print(\"Welcome to Machine Learning Plus\")"
   ]
  },
  {
   "cell_type": "markdown",
   "id": "fedfde17",
   "metadata": {
    "id": "fedfde17"
   },
   "source": [
    "### Q2. Assign the string \"Welcome to Machine Learning Plus\" to a variable."
   ]
  },
  {
   "cell_type": "code",
   "execution_count": 3,
   "id": "cfba402a",
   "metadata": {
    "id": "cfba402a",
    "outputId": "9cd6a790-9b4f-4c35-f8b7-c1684e184afd"
   },
   "outputs": [
    {
     "data": {
      "text/plain": [
       "'Welcome to Machine Learning Plus'"
      ]
     },
     "execution_count": 3,
     "metadata": {},
     "output_type": "execute_result"
    }
   ],
   "source": [
    "# Solution \n",
    "\n",
    "variable = \"Welcome to Machine Learning Plus\"\n",
    "variable"
   ]
  },
  {
   "cell_type": "markdown",
   "id": "e0a9701e",
   "metadata": {
    "id": "e0a9701e"
   },
   "source": [
    "### Q3. Find the data type of variable x\n",
    "\n",
    "```\n",
    "#Input \n",
    "x = \"85\"\n",
    "```"
   ]
  },
  {
   "cell_type": "code",
   "execution_count": 4,
   "id": "e78fed3f",
   "metadata": {
    "colab": {
     "base_uri": "https://localhost:8080/"
    },
    "executionInfo": {
     "elapsed": 3,
     "status": "ok",
     "timestamp": 1643613012983,
     "user": {
      "displayName": "Vishnu Kaimal",
      "photoUrl": "https://lh3.googleusercontent.com/a-/AOh14Ghr0s7RRG_K8yAfPng_LdbfHLT7rBwVtDuLlUCJzA=s64",
      "userId": "11804322656526615562"
     },
     "user_tz": -330
    },
    "id": "e78fed3f",
    "outputId": "9aeee4ac-a62f-4b05-d391-83eb9f7c7471"
   },
   "outputs": [
    {
     "data": {
      "text/plain": [
       "str"
      ]
     },
     "execution_count": 4,
     "metadata": {},
     "output_type": "execute_result"
    }
   ],
   "source": [
    "# Solution\n",
    "\n",
    "x = \"85\"\n",
    "type(x)"
   ]
  },
  {
   "cell_type": "markdown",
   "id": "5b24b507",
   "metadata": {
    "id": "5b24b507"
   },
   "source": [
    "### Q4. Create a int variable and assign str datatype to it\n",
    "\n",
    "```\n",
    "# Input\n",
    "var = 5\n",
    "```"
   ]
  },
  {
   "cell_type": "code",
   "execution_count": 11,
   "id": "79b63e9e",
   "metadata": {
    "id": "79b63e9e",
    "outputId": "cab1f7a8-8b14-473c-babf-7bc18f5b72e3"
   },
   "outputs": [
    {
     "data": {
      "text/plain": [
       "str"
      ]
     },
     "execution_count": 11,
     "metadata": {},
     "output_type": "execute_result"
    }
   ],
   "source": [
    "# Solution\n",
    "\n",
    "var = 5\n",
    "var = str(var)\n",
    "type(var)"
   ]
  },
  {
   "cell_type": "markdown",
   "id": "274e17e2-086e-4f04-b471-0f6b610ecb14",
   "metadata": {
    "id": "e0a9701e"
   },
   "source": [
    "### Q5. Round the variable upto 3 decimal places\n",
    "\n",
    "```\n",
    "#Input \n",
    "x = 85.545678\n",
    "```"
   ]
  },
  {
   "cell_type": "code",
   "execution_count": 12,
   "id": "227c0782-79fd-4b25-878c-4121e9208664",
   "metadata": {},
   "outputs": [
    {
     "data": {
      "text/plain": [
       "85.546"
      ]
     },
     "execution_count": 12,
     "metadata": {},
     "output_type": "execute_result"
    }
   ],
   "source": [
    "# Solution\n",
    "\n",
    "x = 85.545678\n",
    "round(x, 3)"
   ]
  },
  {
   "cell_type": "markdown",
   "id": "1c1c2c12-1a89-4d8a-94b1-6588ec8fdd1e",
   "metadata": {
    "id": "e0a9701e"
   },
   "source": [
    "### Q6. Ceil the variable x.\n",
    "\n",
    "```\n",
    "#Input \n",
    "x = 85.545678\n",
    "```"
   ]
  },
  {
   "cell_type": "code",
   "execution_count": 16,
   "id": "3caafd05-93e0-4f1f-82e6-45568c482011",
   "metadata": {},
   "outputs": [
    {
     "data": {
      "text/plain": [
       "86"
      ]
     },
     "execution_count": 16,
     "metadata": {},
     "output_type": "execute_result"
    }
   ],
   "source": [
    "# Solution\n",
    "\n",
    "import math\n",
    "x = 85.545678\n",
    "math.ceil(x)"
   ]
  },
  {
   "cell_type": "markdown",
   "id": "8af75f43",
   "metadata": {
    "id": "8af75f43"
   },
   "source": [
    "### Q7. Find the length of string.\n",
    "\n",
    "````\n",
    "#Input\n",
    "string = \"Welcome to Machine Learning Plus\"\n",
    "````\n"
   ]
  },
  {
   "cell_type": "code",
   "execution_count": 17,
   "id": "075e4c79",
   "metadata": {
    "id": "075e4c79",
    "outputId": "f750fa5c-e209-4919-ea46-c3f49cedeefd"
   },
   "outputs": [
    {
     "data": {
      "text/plain": [
       "32"
      ]
     },
     "execution_count": 17,
     "metadata": {},
     "output_type": "execute_result"
    }
   ],
   "source": [
    "# solution\n",
    "\n",
    "string = \"Welcome to Machine Learning Plus\"\n",
    "len(string)"
   ]
  },
  {
   "cell_type": "markdown",
   "id": "0f3b12a7-233c-40cf-aff1-17992d485609",
   "metadata": {
    "id": "8af75f43"
   },
   "source": [
    "### Q8. Find the 10th character of the string.\n",
    "\n",
    "````\n",
    "#Input\n",
    "string = \"Welcome to Machine Learning Plus\"\n",
    "````\n"
   ]
  },
  {
   "cell_type": "code",
   "execution_count": 18,
   "id": "8743a33b-8f23-4d68-a869-f84f28aa66f7",
   "metadata": {
    "id": "075e4c79",
    "outputId": "f750fa5c-e209-4919-ea46-c3f49cedeefd"
   },
   "outputs": [
    {
     "data": {
      "text/plain": [
       "'o'"
      ]
     },
     "execution_count": 18,
     "metadata": {},
     "output_type": "execute_result"
    }
   ],
   "source": [
    "# solution\n",
    "\n",
    "string = \"Welcome to Machine Learning Plus\"\n",
    "string[9]"
   ]
  },
  {
   "cell_type": "markdown",
   "id": "f18b39f5-b550-4c51-bd19-5fa05f47a184",
   "metadata": {
    "id": "8af75f43"
   },
   "source": [
    "### Q9. Get all the character till 10th character of the string.\n",
    "\n",
    "````\n",
    "#Input\n",
    "string = \"Welcome to Machine Learning Plus\"\n",
    "````\n"
   ]
  },
  {
   "cell_type": "code",
   "execution_count": 21,
   "id": "9312ce61-3a81-4b4b-9e75-486db2e834eb",
   "metadata": {
    "id": "075e4c79",
    "outputId": "f750fa5c-e209-4919-ea46-c3f49cedeefd"
   },
   "outputs": [
    {
     "data": {
      "text/plain": [
       "'Welcome to'"
      ]
     },
     "execution_count": 21,
     "metadata": {},
     "output_type": "execute_result"
    }
   ],
   "source": [
    "# solution\n",
    "\n",
    "string = \"Welcome to Machine Learning Plus\"\n",
    "string[:10]"
   ]
  },
  {
   "cell_type": "markdown",
   "id": "c2b12c64-ed8f-46e7-8374-0e51d1c182e1",
   "metadata": {
    "id": "8af75f43"
   },
   "source": [
    "### Q10. Get every 3rd character of the string.\n",
    "\n",
    "````\n",
    "#Input\n",
    "string = \"Welcome to Machine Learning Plus\"\n",
    "````\n"
   ]
  },
  {
   "cell_type": "code",
   "execution_count": 22,
   "id": "89ccca21-def5-4d82-bb83-2a82d6a6f34c",
   "metadata": {
    "id": "075e4c79",
    "outputId": "f750fa5c-e209-4919-ea46-c3f49cedeefd"
   },
   "outputs": [
    {
     "data": {
      "text/plain": [
       "'Wceoai ai u'"
      ]
     },
     "execution_count": 22,
     "metadata": {},
     "output_type": "execute_result"
    }
   ],
   "source": [
    "# solution\n",
    "\n",
    "string = \"Welcome to Machine Learning Plus\"\n",
    "string[::3]"
   ]
  },
  {
   "cell_type": "markdown",
   "id": "efb219e6-6a9c-4371-93cf-bff452f60793",
   "metadata": {
    "id": "8af75f43"
   },
   "source": [
    "### Q11. Get all the words in the string.\n",
    "\n",
    "````\n",
    "#Input\n",
    "string = \"Welcome to Machine Learning Plus\"\n",
    "````\n"
   ]
  },
  {
   "cell_type": "code",
   "execution_count": 27,
   "id": "7cffe355-ba5e-4d13-b93c-57533c81a64a",
   "metadata": {
    "id": "075e4c79",
    "outputId": "f750fa5c-e209-4919-ea46-c3f49cedeefd"
   },
   "outputs": [
    {
     "data": {
      "text/plain": [
       "['Welcome', 'to', 'Machine', 'Learning', 'Plus']"
      ]
     },
     "execution_count": 27,
     "metadata": {},
     "output_type": "execute_result"
    }
   ],
   "source": [
    "# solution\n",
    "\n",
    "string = \"Welcome to Machine Learning Plus\"\n",
    "string.split(\" \")"
   ]
  },
  {
   "cell_type": "markdown",
   "id": "e4bef641-b3a7-4fe1-9a85-1800cdf73a31",
   "metadata": {
    "id": "8af75f43"
   },
   "source": [
    "### Q12. Reverse all the words in the string.\n",
    "\n",
    "````\n",
    "#Input\n",
    "string = \"Welcome to Machine Learning Plus\"\n",
    "````\n"
   ]
  },
  {
   "cell_type": "code",
   "execution_count": 30,
   "id": "06b66edc-db91-461a-94da-0a00277777e5",
   "metadata": {
    "id": "075e4c79",
    "outputId": "f750fa5c-e209-4919-ea46-c3f49cedeefd"
   },
   "outputs": [
    {
     "data": {
      "text/plain": [
       "'plus learning machine to Welcome'"
      ]
     },
     "execution_count": 30,
     "metadata": {},
     "output_type": "execute_result"
    }
   ],
   "source": [
    "# solution\n",
    "\n",
    "string = \"Welcome to machine learning plus\"\n",
    "\n",
    "words = string.split(' ') \n",
    "reverse_string = ' '.join(reversed(words))\n",
    "reverse_string"
   ]
  },
  {
   "cell_type": "markdown",
   "id": "8f6504b4-9869-4ddf-b2da-c1cd3a709e62",
   "metadata": {
    "id": "8af75f43"
   },
   "source": [
    "### Q13. Convert the string to title case (1st letter of every word upper case, rest of the characters lower case)\n",
    "\n",
    "````\n",
    "#Input\n",
    "string = \"Welcome to Machine Learning Plus\"\n",
    "````\n"
   ]
  },
  {
   "cell_type": "code",
   "execution_count": 31,
   "id": "bd206d7e-a418-4ffa-83e3-ca0b6df63aa2",
   "metadata": {
    "id": "075e4c79",
    "outputId": "f750fa5c-e209-4919-ea46-c3f49cedeefd"
   },
   "outputs": [
    {
     "data": {
      "text/plain": [
       "'Welcome To Machine Learning Plus'"
      ]
     },
     "execution_count": 31,
     "metadata": {},
     "output_type": "execute_result"
    }
   ],
   "source": [
    "# solution\n",
    "\n",
    "string = \"Welcome to machine learning plus\"\n",
    "string.title()"
   ]
  },
  {
   "cell_type": "markdown",
   "id": "bbabb5b2-c8d6-4ad4-a32d-02fba4788f6a",
   "metadata": {
    "id": "8af75f43"
   },
   "source": [
    "### Q14. Replace all the @ in string with a\n",
    "\n",
    "````\n",
    "#Input\n",
    "string = \"\"I @m comfort@ble with python now\"\"\n",
    "````\n"
   ]
  },
  {
   "cell_type": "code",
   "execution_count": 32,
   "id": "c0037fa2-b6ca-41e1-8e75-a1f7b05902cc",
   "metadata": {
    "id": "075e4c79",
    "outputId": "f750fa5c-e209-4919-ea46-c3f49cedeefd"
   },
   "outputs": [
    {
     "data": {
      "text/plain": [
       "'I am comfortable with python now'"
      ]
     },
     "execution_count": 32,
     "metadata": {},
     "output_type": "execute_result"
    }
   ],
   "source": [
    "# solution\n",
    "\n",
    "string = \"I @m comfort@ble with python now\"\n",
    "string.replace(\"@\", \"a\")"
   ]
  },
  {
   "cell_type": "markdown",
   "id": "c06ceaff",
   "metadata": {
    "id": "c06ceaff"
   },
   "source": [
    "### Q15. Find the number of elements in the list\n",
    "\n",
    "````\n",
    "# Inputs\n",
    "my_list = [\"Learn\", \"python\", \"happily\"]\n",
    "````"
   ]
  },
  {
   "cell_type": "code",
   "execution_count": 37,
   "id": "13e1a411",
   "metadata": {
    "id": "13e1a411",
    "outputId": "337d8381-c4be-4fc4-e784-bd875c145b32"
   },
   "outputs": [
    {
     "data": {
      "text/plain": [
       "3"
      ]
     },
     "execution_count": 37,
     "metadata": {},
     "output_type": "execute_result"
    }
   ],
   "source": [
    "# Solution\n",
    "\n",
    "my_list = [\"Learn\", \"python\", \"happily\"]\n",
    "len(my_list)"
   ]
  },
  {
   "cell_type": "markdown",
   "id": "d6439bbb",
   "metadata": {
    "id": "d6439bbb"
   },
   "source": [
    "### Q16. Remove the element \"happily\" from the given list.\n",
    "\n",
    "````\n",
    "# Inputs\n",
    "my_list = [\"Learn\", \"python\", \"happily\"]\n",
    "````"
   ]
  },
  {
   "cell_type": "code",
   "execution_count": 36,
   "id": "262870b1-f3a0-45c0-af0a-de9ee90b3c56",
   "metadata": {
    "id": "13e1a411",
    "outputId": "337d8381-c4be-4fc4-e784-bd875c145b32"
   },
   "outputs": [
    {
     "data": {
      "text/plain": [
       "['Learn', 'python']"
      ]
     },
     "execution_count": 36,
     "metadata": {},
     "output_type": "execute_result"
    }
   ],
   "source": [
    "# Solution\n",
    "\n",
    "my_list = [\"Learn\", \"python\", \"happily\"]\n",
    "my_list.remove(\"happily\")\n",
    "my_list"
   ]
  },
  {
   "cell_type": "markdown",
   "id": "22b072b4",
   "metadata": {
    "id": "22b072b4"
   },
   "source": [
    "### Q17. Sort the given list in ascending order\n",
    "\n",
    "````\n",
    "# Inputs\n",
    "my_list=[\"Bosche\",\"Dell\",\"Cognizant\",\"Apple\"]\n",
    "````"
   ]
  },
  {
   "cell_type": "code",
   "execution_count": 35,
   "id": "5b329a7d",
   "metadata": {
    "id": "5b329a7d",
    "outputId": "f8e9441a-51df-46ed-9932-9a7b3e3f0a4f"
   },
   "outputs": [
    {
     "data": {
      "text/plain": [
       "['Apple', 'Bosche', 'Cognizant', 'Dell']"
      ]
     },
     "execution_count": 35,
     "metadata": {},
     "output_type": "execute_result"
    }
   ],
   "source": [
    "# Solution\n",
    "\n",
    "my_list = [\"Bosche\",\"Dell\",\"Cognizant\",\"Apple\"]\n",
    "my_list.sort()\n",
    "my_list"
   ]
  },
  {
   "cell_type": "markdown",
   "id": "4bf4e038",
   "metadata": {
    "id": "4bf4e038"
   },
   "source": [
    "### Q18. Find the maximum value in the given list\n",
    "\n",
    "````\n",
    "# Input\n",
    "my_list = [6,0,18,47,34]\n",
    "````"
   ]
  },
  {
   "cell_type": "code",
   "execution_count": 38,
   "id": "69ab71f3",
   "metadata": {
    "id": "69ab71f3",
    "outputId": "2ef919fa-e869-4bfb-822d-d6bfc11d9ac3"
   },
   "outputs": [
    {
     "name": "stdout",
     "output_type": "stream",
     "text": [
      "47\n"
     ]
    }
   ],
   "source": [
    "# Solution\n",
    "\n",
    "my_list = [6,0,18,47,34]\n",
    "print(max(my_list))"
   ]
  },
  {
   "cell_type": "markdown",
   "id": "ca6cba17-cdd2-459b-81e3-64315c0c5b0f",
   "metadata": {
    "id": "22b072b4"
   },
   "source": [
    "### Q19. Replace the 3rd element of the list with \"Hp\"\n",
    "\n",
    "````\n",
    "# Inputs\n",
    "my_list=[\"Bosche\",\"Dell\",\"Cognizant\",\"Apple\"]\n",
    "````"
   ]
  },
  {
   "cell_type": "code",
   "execution_count": 39,
   "id": "3f2cdd08-ddb3-41f8-a912-91596223361b",
   "metadata": {
    "id": "5b329a7d",
    "outputId": "f8e9441a-51df-46ed-9932-9a7b3e3f0a4f"
   },
   "outputs": [
    {
     "data": {
      "text/plain": [
       "['Bosche', 'Dell', 'Hp', 'Apple']"
      ]
     },
     "execution_count": 39,
     "metadata": {},
     "output_type": "execute_result"
    }
   ],
   "source": [
    "# Solution\n",
    "\n",
    "my_list = [\"Bosche\",\"Dell\",\"Cognizant\",\"Apple\"]\n",
    "my_list[2] = \"Hp\"\n",
    "my_list"
   ]
  },
  {
   "cell_type": "markdown",
   "id": "5898ebba-230f-426b-8d68-27660673f6dc",
   "metadata": {
    "id": "22b072b4"
   },
   "source": [
    "### Q19. Copy the list 2 times and append it in the same list\n",
    "\n",
    "````\n",
    "# Inputs\n",
    "my_list=[\"Bosche\",\"Dell\",\"Cognizant\",\"Apple\"]\n",
    "````"
   ]
  },
  {
   "cell_type": "code",
   "execution_count": 1,
   "id": "8d484c46-17d2-420c-8531-27cd33acfd15",
   "metadata": {
    "id": "5b329a7d",
    "outputId": "f8e9441a-51df-46ed-9932-9a7b3e3f0a4f"
   },
   "outputs": [
    {
     "data": {
      "text/plain": [
       "['Bosche',\n",
       " 'Dell',\n",
       " 'Cognizant',\n",
       " 'Apple',\n",
       " 'Bosche',\n",
       " 'Dell',\n",
       " 'Cognizant',\n",
       " 'Apple',\n",
       " 'Bosche',\n",
       " 'Dell',\n",
       " 'Cognizant',\n",
       " 'Apple']"
      ]
     },
     "execution_count": 1,
     "metadata": {},
     "output_type": "execute_result"
    }
   ],
   "source": [
    "# Solution\n",
    "\n",
    "my_list = [\"Bosche\",\"Dell\",\"Cognizant\",\"Apple\"]\n",
    "my_list = my_list*3\n",
    "my_list"
   ]
  },
  {
   "cell_type": "markdown",
   "id": "dce921a4-88d0-4495-baf9-ab967c233b2f",
   "metadata": {
    "id": "22b072b4"
   },
   "source": [
    "### Q20. Reverse the order of elements in given list\n",
    "\n",
    "````\n",
    "# Inputs\n",
    "my_list=[\"Bosche\",\"Dell\",\"Cognizant\",\"Apple\"]\n",
    "````"
   ]
  },
  {
   "cell_type": "code",
   "execution_count": 43,
   "id": "ad7d3bc4-f6f7-4742-8534-91d5ffafca82",
   "metadata": {
    "id": "5b329a7d",
    "outputId": "f8e9441a-51df-46ed-9932-9a7b3e3f0a4f"
   },
   "outputs": [
    {
     "data": {
      "text/plain": [
       "['Apple', 'Cognizant', 'Dell', 'Bosche']"
      ]
     },
     "execution_count": 43,
     "metadata": {},
     "output_type": "execute_result"
    }
   ],
   "source": [
    "# Solution\n",
    "\n",
    "my_list = [\"Bosche\",\"Dell\",\"Cognizant\",\"Apple\"]\n",
    "my_list.reverse()\n",
    "my_list"
   ]
  },
  {
   "cell_type": "markdown",
   "id": "7a7f673b-2004-40c3-9c1a-74f1e50d6cc1",
   "metadata": {
    "id": "22b072b4"
   },
   "source": [
    "### Q21. Create a list which contains every 2nd character from all the elements of the list\n",
    "\n",
    "````\n",
    "# Inputs\n",
    "my_list=[\"Bosche\",\"Dell\",\"Cognizant\",\"Apple\"]\n",
    "\n",
    "# Output\n",
    "['Bsh', 'Dl', 'Cgiat', 'Ape']\n",
    "````"
   ]
  },
  {
   "cell_type": "code",
   "execution_count": 44,
   "id": "9eec7ba1-7224-4293-8fde-d550db33068e",
   "metadata": {
    "id": "5b329a7d",
    "outputId": "f8e9441a-51df-46ed-9932-9a7b3e3f0a4f"
   },
   "outputs": [
    {
     "data": {
      "text/plain": [
       "['Bsh', 'Dl', 'Cgiat', 'Ape']"
      ]
     },
     "execution_count": 44,
     "metadata": {},
     "output_type": "execute_result"
    }
   ],
   "source": [
    "# Solution\n",
    "\n",
    "my_list = [\"Bosche\",\"Dell\",\"Cognizant\",\"Apple\"]\n",
    "new_list = [x[::2] for x in my_list]\n",
    "new_list"
   ]
  },
  {
   "cell_type": "markdown",
   "id": "ceef6cae-a786-4de0-8ccd-4c20ea97c914",
   "metadata": {
    "id": "22b072b4"
   },
   "source": [
    "### Q22. Add a new key to a dictionary\n",
    "\n",
    "````\n",
    "# Inputs\n",
    "my_dict = {'a' : 1, 'b' : 2}\n",
    "\n",
    "Sample Dictionary : {a: 1, b: 2}\n",
    "\n",
    "\n",
    "# Output\n",
    "Expected Result : {a: 1, b: 2, c: 3}\n",
    "\n",
    "````"
   ]
  },
  {
   "cell_type": "code",
   "execution_count": 46,
   "id": "cef3052d-6fe2-49f0-a604-d9fb649ef637",
   "metadata": {
    "id": "5b329a7d",
    "outputId": "f8e9441a-51df-46ed-9932-9a7b3e3f0a4f"
   },
   "outputs": [
    {
     "data": {
      "text/plain": [
       "{'a': 1, 'b': 2, 'c': 3}"
      ]
     },
     "execution_count": 46,
     "metadata": {},
     "output_type": "execute_result"
    }
   ],
   "source": [
    "# Solution\n",
    "\n",
    "my_dict = {'a' : 1, 'b' : 2}\n",
    "my_dict.update({'c' : 3})\n",
    "my_dict"
   ]
  },
  {
   "cell_type": "markdown",
   "id": "de5bf7ae-019c-4829-93b8-62ff632a5bf0",
   "metadata": {
    "id": "22b072b4"
   },
   "source": [
    "### Q23. Check whether the last digit of a number is divisible by 3 or not.\n",
    "\n",
    "````\n",
    "# Inputs\n",
    "num = 552\n",
    "````"
   ]
  },
  {
   "cell_type": "code",
   "execution_count": 47,
   "id": "099881ec-4c65-4eda-b704-063d4274fbbf",
   "metadata": {
    "id": "5b329a7d",
    "outputId": "f8e9441a-51df-46ed-9932-9a7b3e3f0a4f"
   },
   "outputs": [
    {
     "name": "stdout",
     "output_type": "stream",
     "text": [
      "Last digit of number is not divisible by 3 \n"
     ]
    }
   ],
   "source": [
    "# Solution\n",
    "\n",
    "num = 552\n",
    "\n",
    "ld=num%10\n",
    "if ld%3==0:\n",
    "     print(\"Last digit of number is divisible by 3 \")\n",
    "else:\n",
    "     print(\"Last digit of number is not divisible by 3 \")"
   ]
  },
  {
   "cell_type": "markdown",
   "id": "7b22fecc",
   "metadata": {
    "id": "7b22fecc"
   },
   "source": [
    "### Q24. Calculate the sum of all numbers from 1 to a given number num\n",
    "\n",
    "````\n",
    "# Inputs\n",
    "num = 12\n",
    "````\n"
   ]
  },
  {
   "cell_type": "code",
   "execution_count": 50,
   "id": "4d1526cd",
   "metadata": {
    "id": "4d1526cd",
    "outputId": "906ea929-89e2-4f50-cfee-17c661789472"
   },
   "outputs": [
    {
     "name": "stdout",
     "output_type": "stream",
     "text": [
      "\n",
      "\n",
      "Sum is:  78\n"
     ]
    }
   ],
   "source": [
    "# Solution\n",
    "num = 12\n",
    "\n",
    "s = 0\n",
    "for i in range(1, num + 1, 1):\n",
    "    # add current number to sum variable\n",
    "    s += i\n",
    "print(\"\\n\")\n",
    "print(\"Sum is: \", s)"
   ]
  },
  {
   "cell_type": "markdown",
   "id": "cf0a8b26",
   "metadata": {
    "id": "cf0a8b26"
   },
   "source": [
    "### Q25. Print letters in a string line by line using while loop\n",
    "\n",
    "````\n",
    "# Input\n",
    "str1=\"Hello world\"\n",
    "````\n"
   ]
  },
  {
   "cell_type": "code",
   "execution_count": 51,
   "id": "066ee385",
   "metadata": {
    "id": "066ee385",
    "outputId": "2a73fec2-5bf0-45dc-ffc8-d85453bf5d94"
   },
   "outputs": [
    {
     "name": "stdout",
     "output_type": "stream",
     "text": [
      "H\n",
      "e\n",
      "l\n",
      "l\n",
      "o\n",
      " \n",
      "w\n",
      "o\n",
      "r\n",
      "l\n",
      "d\n"
     ]
    }
   ],
   "source": [
    "# Solution\n",
    "\n",
    "str1=\"Hello world\"\n",
    "\n",
    "i=0\n",
    "while i!=len(str1):\n",
    "    print(str1[i])\n",
    "    i=i+1\n",
    "    "
   ]
  }
 ],
 "metadata": {
  "colab": {
   "name": "Assessment solutions.ipynb",
   "provenance": []
  },
  "kernelspec": {
   "display_name": "Python 3",
   "language": "python",
   "name": "python3"
  },
  "language_info": {
   "codemirror_mode": {
    "name": "ipython",
    "version": 3
   },
   "file_extension": ".py",
   "mimetype": "text/x-python",
   "name": "python",
   "nbconvert_exporter": "python",
   "pygments_lexer": "ipython3",
   "version": "3.8.8"
  }
 },
 "nbformat": 4,
 "nbformat_minor": 5
}
