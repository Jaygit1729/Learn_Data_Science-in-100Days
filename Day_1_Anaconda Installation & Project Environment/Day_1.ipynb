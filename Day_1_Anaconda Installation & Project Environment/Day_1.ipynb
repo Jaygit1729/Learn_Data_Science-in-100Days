{
 "cells": [
  {
   "cell_type": "markdown",
   "id": "2671574f",
   "metadata": {},
   "source": [
    " # 1. Anaconda installation"
   ]
  },
  {
   "cell_type": "markdown",
   "id": "698c020f",
   "metadata": {},
   "source": [
    "The first step is to set the environment. Jupyter Notebook is one of the best tools for data science \n",
    "programming.So to download jupyter notebook, we will be installing anaconda package and anaconda comes with a lots of another in built features."
   ]
  },
  {
   "cell_type": "markdown",
   "id": "10e6d9e5",
   "metadata": {},
   "source": [
    "# 2. Creating Virtual Environment for projects"
   ]
  },
  {
   "cell_type": "markdown",
   "id": "d317a6b9",
   "metadata": {},
   "source": [
    "Creating an environment is very important while working on a project because different \n",
    "projects have different requirements and dependency associated with the projects."
   ]
  },
  {
   "cell_type": "markdown",
   "id": "a7a6e59f",
   "metadata": {},
   "source": [
    "## Step-1 : How to check all the environment list \n",
    "                conda env list"
   ]
  },
  {
   "cell_type": "markdown",
   "id": "0740b634",
   "metadata": {},
   "source": [
    "## Step-2 : Create a environment for project\n",
    "                conda create <environment name> -n python==3.6 (python version)\n",
    "    "
   ]
  },
  {
   "cell_type": "markdown",
   "id": "4482af4c",
   "metadata": {},
   "source": [
    "## Step-3 : Activate the created environment\n",
    "                conda activate <environment name>"
   ]
  },
  {
   "cell_type": "markdown",
   "id": "ec1d1a4a",
   "metadata": {},
   "source": [
    "## Step-4 : Verify that the new environment was installed correctly:\n",
    "                 conda env list\n"
   ]
  },
  {
   "cell_type": "markdown",
   "id": "6d6077c3",
   "metadata": {},
   "source": [
    "Apart from this there are lot of other functionality will be there. https://docs.conda.io/projects/conda/en/latest/user-guide/tasks/manage-environments.html#creating-an-environment-with-commands is the detail about how to clone and update the existing environment "
   ]
  },
  {
   "cell_type": "code",
   "execution_count": null,
   "id": "f8d1e92b",
   "metadata": {},
   "outputs": [],
   "source": []
  }
 ],
 "metadata": {
  "kernelspec": {
   "display_name": "Python 3",
   "language": "python",
   "name": "python3"
  },
  "language_info": {
   "codemirror_mode": {
    "name": "ipython",
    "version": 3
   },
   "file_extension": ".py",
   "mimetype": "text/x-python",
   "name": "python",
   "nbconvert_exporter": "python",
   "pygments_lexer": "ipython3",
   "version": "3.8.8"
  }
 },
 "nbformat": 4,
 "nbformat_minor": 5
}
