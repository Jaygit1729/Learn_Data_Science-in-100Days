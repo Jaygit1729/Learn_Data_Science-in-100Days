{
 "cells": [
  {
   "cell_type": "markdown",
   "id": "f373e994",
   "metadata": {},
   "source": [
    "# Variable: \n"
   ]
  },
  {
   "cell_type": "markdown",
   "id": "d0799d6c",
   "metadata": {},
   "source": [
    "- Variable basically used to hold the data or value in general.Varibles are containers for storing data values.\n",
    "- Python is a object oriented programming language so python doesn't have any define method for declaring a variable meaning Python has no command for declaring a variable.\n",
    " \n",
    "- Variable is declared as soon as we assign a value to it.Once we assign a value to varibale python automatically identify the datatype of the variable\n",
    "- A variable name must start with a letter or the underscore character\n",
    "- A variable name cannot start with a number\n",
    "- A variable name can only contain alpha-numeric characters and underscores (A-z, 0-9, and _ )\n",
    "- Variable names are case-sensitive\n",
    "1.Camel Case\n",
    "- ex-myVariableName = \"Jay\"\n",
    "\n",
    "2.Pascal Case\n",
    "- ex-MyVariableName = \"Jay\"\n",
    "\n",
    "3.Snake Case\n",
    "- ex-my_variable_name = \"Jay\"\n",
    "\n",
    "- That being said, Let's start the with some practical exercise.\n"
   ]
  },
  {
   "cell_type": "markdown",
   "id": "612eef31",
   "metadata": {},
   "source": [
    "# Creating Variables"
   ]
  },
  {
   "cell_type": "code",
   "execution_count": 11,
   "id": "55b6968c",
   "metadata": {},
   "outputs": [
    {
     "name": "stdout",
     "output_type": "stream",
     "text": [
      "100\n"
     ]
    }
   ],
   "source": [
    "x=100\n",
    "print(x)"
   ]
  },
  {
   "cell_type": "markdown",
   "id": "888bb893",
   "metadata": {},
   "source": [
    "# Casting"
   ]
  },
  {
   "cell_type": "code",
   "execution_count": 2,
   "id": "8010d676",
   "metadata": {},
   "outputs": [
    {
     "name": "stdout",
     "output_type": "stream",
     "text": [
      "4.0\n",
      "4\n"
     ]
    }
   ],
   "source": [
    "x=float(4)\n",
    "y=int(4.0)\n",
    "print(x)\n",
    "print(y)"
   ]
  },
  {
   "cell_type": "markdown",
   "id": "34f3aaee",
   "metadata": {},
   "source": [
    "# Get the Type"
   ]
  },
  {
   "cell_type": "code",
   "execution_count": 10,
   "id": "42533ee2",
   "metadata": {},
   "outputs": [
    {
     "name": "stdout",
     "output_type": "stream",
     "text": [
      "<class 'float'>\n",
      "<class 'int'>\n"
     ]
    }
   ],
   "source": [
    "x=float(4)\n",
    "y=int(4.0)\n",
    "print(type(x))\n",
    "print(type(y))"
   ]
  },
  {
   "cell_type": "markdown",
   "id": "d046115d",
   "metadata": {},
   "source": [
    "# STRING"
   ]
  },
  {
   "cell_type": "markdown",
   "id": "8267f4cd",
   "metadata": {},
   "source": [
    "- String is series of character object represented with the single or double quotation\n"
   ]
  },
  {
   "cell_type": "markdown",
   "id": "fb5148d7",
   "metadata": {},
   "source": [
    "Indexing of String"
   ]
  },
  {
   "cell_type": "code",
   "execution_count": 16,
   "id": "536a00b4",
   "metadata": {},
   "outputs": [
    {
     "name": "stdout",
     "output_type": "stream",
     "text": [
      "1\n"
     ]
    }
   ],
   "source": [
    "a = \"100DS of data science!\"\n",
    "print(a[0])\n"
   ]
  },
  {
   "cell_type": "markdown",
   "id": "3b9c48f1",
   "metadata": {},
   "source": [
    "String Length"
   ]
  },
  {
   "cell_type": "code",
   "execution_count": 17,
   "id": "6ebd5865",
   "metadata": {},
   "outputs": [
    {
     "data": {
      "text/plain": [
       "22"
      ]
     },
     "execution_count": 17,
     "metadata": {},
     "output_type": "execute_result"
    }
   ],
   "source": [
    "a = \"100DS of data science!\"\n",
    "len(a)"
   ]
  },
  {
   "cell_type": "markdown",
   "id": "3c4b33db",
   "metadata": {},
   "source": [
    "Check String"
   ]
  },
  {
   "cell_type": "code",
   "execution_count": 18,
   "id": "197836bf",
   "metadata": {},
   "outputs": [
    {
     "name": "stdout",
     "output_type": "stream",
     "text": [
      "True\n"
     ]
    }
   ],
   "source": [
    "a = \"100DS of data science!\"\n",
    "print(\"100\" in \"100DS of data science!\" )"
   ]
  },
  {
   "cell_type": "markdown",
   "id": "b18fc284",
   "metadata": {},
   "source": [
    "Slicing:\n",
    "- return a range of characters\n",
    "- Specify the start index and the end index, separated by a colon, to return a part of the string."
   ]
  },
  {
   "cell_type": "code",
   "execution_count": 20,
   "id": "457b2908",
   "metadata": {},
   "outputs": [
    {
     "name": "stdout",
     "output_type": "stream",
     "text": [
      "100DS\n"
     ]
    }
   ],
   "source": [
    "a = \"100DS of data science!\"\n",
    "print(a[0:5])"
   ]
  },
  {
   "cell_type": "markdown",
   "id": "5bebd83e",
   "metadata": {},
   "source": [
    "Replace String"
   ]
  },
  {
   "cell_type": "code",
   "execution_count": 23,
   "id": "5559b4fc",
   "metadata": {},
   "outputs": [
    {
     "name": "stdout",
     "output_type": "stream",
     "text": [
      "100 days of data science!\n"
     ]
    }
   ],
   "source": [
    "a = \"100DS of data science!\"\n",
    "print(a.replace(\"DS\",\" days\"))"
   ]
  },
  {
   "cell_type": "markdown",
   "id": "d6fb512f",
   "metadata": {},
   "source": [
    "Split String"
   ]
  },
  {
   "cell_type": "markdown",
   "id": "43730867",
   "metadata": {},
   "source": [
    "The split() method returns a list where the text between the specified separator becomes the list items."
   ]
  },
  {
   "cell_type": "code",
   "execution_count": 24,
   "id": "2d7d71c5",
   "metadata": {},
   "outputs": [
    {
     "name": "stdout",
     "output_type": "stream",
     "text": [
      "['100DS', 'of', 'data', 'science!']\n"
     ]
    }
   ],
   "source": [
    "a = \"100DS of data science!\"\n",
    "print(a.split(\" \"))"
   ]
  },
  {
   "cell_type": "markdown",
   "id": "db99d9c6",
   "metadata": {},
   "source": [
    "# String Methods"
   ]
  },
  {
   "cell_type": "markdown",
   "id": "3b522d97",
   "metadata": {},
   "source": [
    "capitalize() :  Converts the first character to upper case\n",
    "\n",
    "casefold()   : \tConverts string into lower case\n",
    "    \n",
    "center()     :\tReturns a centered string\n",
    "    \n",
    "count()\t     :  Returns the number of times a specified value                     occurs in a string\n",
    "    \n",
    "endswith()\t :  Returns true if the string ends with the                         specified value\n",
    " \n",
    "find()\t     :  Searches the string for a specified value and                      returns the position of where it was found\n",
    "    \n",
    "  index()\t     :  Searches the string for a specified value and                     returns the position of where it was found\n",
    " - - - - - - - - - - -  \n",
    "    isalnum():Returns True if all characters in the string are alphanumeric\n",
    "    \n",
    "    isalpha()\t:Returns True if all characters in the string are in the alphabet\n",
    "    \n",
    "    isdecimal()\t:Returns True if all characters in the string are decimals\n",
    "    \n",
    "    isdigit()\t:Returns True if all characters in the string are digits\n",
    "    \n",
    "    isidentifier()\t:Returns True if the string is an identifier\n",
    "    \n",
    "    islower()\t:Returns True if all characters in the string are lower case\n",
    "    \n",
    "    isnumeric():\tReturns True if all characters in the string are numeric\n",
    "    \n",
    "    isprintable()\t:Returns True if all characters in the string are printable\n",
    "    \n",
    "    isspace()\t:Returns True if all characters in the string are whitespaces\n",
    "    \n",
    "    istitle():\tReturns True if the string follows the rules of a title\n",
    "    \n",
    "    isupper():\tReturns True if all characters in the string are upper case\n",
    "    \n",
    "    join():\tJoins the elements of an iterable to the end of the string\n",
    "    \n",
    "    ljust():\tReturns a left justified version of the string\n",
    "    \n",
    "    lower():\tConverts a string into lower case\n",
    "    \n",
    "    lstrip():\tReturns a left trim version of the string\n",
    "    \n",
    "    maketrans()\t:Returns a translation table to be used in translations\n",
    "    \n",
    "    partition()\t:Returns a tuple where the string is parted into three parts\n",
    "    \n",
    "    replace()\t:Returns a string where a specified value is replaced with a specified value\n",
    "    \n",
    "    rfind()\t:Searches the string for a specified value and returns the last position of where it was found\n",
    "    \n",
    "    rindex()\t:Searches the string for a specified value and returns the last position of where it was found\n",
    "    \n",
    "    rjust()\t:Returns a right justified version of the string\n",
    "    \n",
    "    rpartition()\t:Returns a tuple where the string is parted into three parts\n",
    "    \n",
    "    rsplit()\t:Splits the string at the specified separator, and returns a list\n",
    "    \n",
    "    rstrip()\t:Returns a right trim version of the string\n",
    "    \n",
    "    split()\t:Splits the string at the specified separator, and returns a list\n",
    "    \n",
    "    splitlines():\tSplits the string at line breaks and returns a list\n",
    "    \n",
    "    startswith():\tReturns true if the string starts with the specified value\n",
    "    \n",
    "    strip()\t:Returns a trimmed version of the string\n",
    "    \n",
    "    swapcase():\tSwaps cases, lower case becomes upper case and vice versa\n",
    "    \n",
    "    title()\t:Converts the first character of each word to upper case\n",
    "    \n",
    "    translate():\tReturns a translated string\n",
    "    \n",
    "    upper():\tConverts a string into upper case\n",
    "    \n",
    "    zfill():\tFills the string with a specified number of 0 values at the beginning\n",
    "\n"
   ]
  },
  {
   "cell_type": "code",
   "execution_count": null,
   "id": "de544b17",
   "metadata": {},
   "outputs": [],
   "source": []
  }
 ],
 "metadata": {
  "kernelspec": {
   "display_name": "Python 3",
   "language": "python",
   "name": "python3"
  },
  "language_info": {
   "codemirror_mode": {
    "name": "ipython",
    "version": 3
   },
   "file_extension": ".py",
   "mimetype": "text/x-python",
   "name": "python",
   "nbconvert_exporter": "python",
   "pygments_lexer": "ipython3",
   "version": "3.8.8"
  }
 },
 "nbformat": 4,
 "nbformat_minor": 5
}
