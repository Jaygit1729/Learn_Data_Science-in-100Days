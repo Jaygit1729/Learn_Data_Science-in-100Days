{
 "cells": [
  {
   "cell_type": "markdown",
   "id": "9cff47c8",
   "metadata": {},
   "source": [
    "- Python allows us to store the integer, floating, and complex numbers and also lets us convert between them.\n",
    "\n",
    "- Since Python is dynamically-typed, there is no need to specify the type of data for a variable."
   ]
  },
  {
   "cell_type": "markdown",
   "id": "5a2511fb",
   "metadata": {},
   "source": [
    "# Python Numeric Data Types"
   ]
  },
  {
   "cell_type": "markdown",
   "id": "6ff5e4be",
   "metadata": {},
   "source": [
    "- Integers are one of the Python data types. \n",
    "- An integer is a whole number, negative, positive or zero. In Python, integer variables are defined by assigning a whole number to a variable. Python's type() function can be used to determine the data type of a variable."
   ]
  },
  {
   "cell_type": "code",
   "execution_count": 5,
   "id": "ca5664df",
   "metadata": {},
   "outputs": [
    {
     "name": "stdout",
     "output_type": "stream",
     "text": [
      "<class 'int'>\n"
     ]
    }
   ],
   "source": [
    "a=7\n",
    "print(type(a))"
   ]
  },
  {
   "cell_type": "markdown",
   "id": "cea32cf3",
   "metadata": {},
   "source": [
    "# Floating Point Numbers\n"
   ]
  },
  {
   "cell_type": "markdown",
   "id": "9fc61b66",
   "metadata": {},
   "source": [
    "- Floating point numbers or floats are another Python data type. Floats are decimals, positive, negative and zero. Floats can also be represented by numbers in scientific notation which contain exponents.\n",
    "\n",
    "- Both a lower case e or an upper case E can be used to define floats in scientific notation. In Python, a float can be defined using a decimal point . when a variable is assigned.\n"
   ]
  },
  {
   "cell_type": "code",
   "execution_count": 3,
   "id": "740952a0",
   "metadata": {},
   "outputs": [
    {
     "name": "stdout",
     "output_type": "stream",
     "text": [
      "<class 'float'>\n"
     ]
    }
   ],
   "source": [
    "b=10.5\n",
    "print(type(b))"
   ]
  },
  {
   "cell_type": "code",
   "execution_count": 5,
   "id": "c3d6f291",
   "metadata": {},
   "outputs": [
    {
     "name": "stdout",
     "output_type": "stream",
     "text": [
      "3.141592653589793\n"
     ]
    }
   ],
   "source": [
    "from math import pi\n",
    "c=pi\n",
    "print(c)"
   ]
  },
  {
   "cell_type": "markdown",
   "id": "f9426130",
   "metadata": {},
   "source": [
    "A float value is only accurate upto 15 decimal places. After that, it rounds the number off."
   ]
  },
  {
   "cell_type": "markdown",
   "id": "b7b3477a",
   "metadata": {},
   "source": [
    "# Complex Numbers\n"
   ]
  },
  {
   "cell_type": "markdown",
   "id": "143c4ad0",
   "metadata": {},
   "source": [
    "- Another useful numeric data type for problem solvers is the complex number data type. \n",
    "- A complex number is defined in Python using a real component + an imaginary component j. The letter j must be used to denote the imaginary component. Using the letter i to define a complex number returns an error in Python.\n"
   ]
  },
  {
   "cell_type": "code",
   "execution_count": 7,
   "id": "f4d62136",
   "metadata": {},
   "outputs": [
    {
     "name": "stdout",
     "output_type": "stream",
     "text": [
      "<class 'complex'>\n"
     ]
    }
   ],
   "source": [
    "d=2+3j\n",
    "print(type(d))"
   ]
  },
  {
   "cell_type": "markdown",
   "id": "cf6e2f29",
   "metadata": {},
   "source": [
    "# Writing numbers in binary, octal, and hexadecimal in Python"
   ]
  },
  {
   "cell_type": "code",
   "execution_count": 10,
   "id": "7a49a4d0",
   "metadata": {},
   "outputs": [
    {
     "name": "stdout",
     "output_type": "stream",
     "text": [
      "3\n"
     ]
    }
   ],
   "source": [
    "# Binary\n",
    "e= 0b11\n",
    "print(e)"
   ]
  },
  {
   "cell_type": "code",
   "execution_count": 11,
   "id": "c37c8ba6",
   "metadata": {},
   "outputs": [
    {
     "name": "stdout",
     "output_type": "stream",
     "text": [
      "8\n"
     ]
    }
   ],
   "source": [
    "#octane\n",
    "f= 0o10\n",
    "print(f)"
   ]
  },
  {
   "cell_type": "code",
   "execution_count": 13,
   "id": "05ec5e3b",
   "metadata": {},
   "outputs": [
    {
     "name": "stdout",
     "output_type": "stream",
     "text": [
      "255\n"
     ]
    }
   ],
   "source": [
    "#hexadecimal\n",
    "g= 0xff\n",
    "print(g)"
   ]
  },
  {
   "cell_type": "markdown",
   "id": "9130ee24",
   "metadata": {},
   "source": [
    "# Boolean data type"
   ]
  },
  {
   "cell_type": "markdown",
   "id": "a456b470",
   "metadata": {},
   "source": [
    "- It used to built the truth values of an expressions."
   ]
  },
  {
   "cell_type": "markdown",
   "id": "99c86419",
   "metadata": {},
   "source": [
    "\n",
    "- The Python Boolean type has only two possible values:\n",
    "\n",
    "True\n",
    "\n",
    "False"
   ]
  },
  {
   "cell_type": "code",
   "execution_count": 15,
   "id": "80231aed",
   "metadata": {},
   "outputs": [
    {
     "data": {
      "text/plain": [
       "bool"
      ]
     },
     "execution_count": 15,
     "metadata": {},
     "output_type": "execute_result"
    }
   ],
   "source": [
    "type(False)"
   ]
  },
  {
   "cell_type": "code",
   "execution_count": 16,
   "id": "44f28901",
   "metadata": {},
   "outputs": [
    {
     "data": {
      "text/plain": [
       "bool"
      ]
     },
     "execution_count": 16,
     "metadata": {},
     "output_type": "execute_result"
    }
   ],
   "source": [
    "type(True)"
   ]
  },
  {
   "cell_type": "markdown",
   "id": "a87520e1",
   "metadata": {},
   "source": [
    "# Casting of data types:"
   ]
  },
  {
   "cell_type": "code",
   "execution_count": 17,
   "id": "efd5e60a",
   "metadata": {},
   "outputs": [
    {
     "name": "stdout",
     "output_type": "stream",
     "text": [
      "3\n"
     ]
    }
   ],
   "source": [
    "x= 3.25\n",
    "y=int(x)\n",
    "print(y)"
   ]
  },
  {
   "cell_type": "code",
   "execution_count": 18,
   "id": "5375605e",
   "metadata": {},
   "outputs": [
    {
     "name": "stdout",
     "output_type": "stream",
     "text": [
      "3\n"
     ]
    }
   ],
   "source": [
    "#what if we take higher number in float?\n",
    "x=3.95\n",
    "y=int(x)\n",
    "print(y)"
   ]
  },
  {
   "cell_type": "markdown",
   "id": "cb404d98",
   "metadata": {},
   "source": [
    "so, int is not rounding off the floating number but it takes the previous number of that floating number"
   ]
  },
  {
   "cell_type": "code",
   "execution_count": 19,
   "id": "987b831d",
   "metadata": {},
   "outputs": [
    {
     "name": "stdout",
     "output_type": "stream",
     "text": [
      "False\n"
     ]
    }
   ],
   "source": [
    "x=None\n",
    "y=bool(x)\n",
    "print(y)"
   ]
  },
  {
   "cell_type": "code",
   "execution_count": 20,
   "id": "5a7381d9",
   "metadata": {},
   "outputs": [
    {
     "name": "stdout",
     "output_type": "stream",
     "text": [
      "True\n"
     ]
    }
   ],
   "source": [
    "x=\"None\"\n",
    "y=bool(x)\n",
    "print(y)"
   ]
  },
  {
   "cell_type": "markdown",
   "id": "01c1f0f3",
   "metadata": {},
   "source": [
    "So, this will be considered as string. None simply means variable doesn't have any value attached to it."
   ]
  }
 ],
 "metadata": {
  "kernelspec": {
   "display_name": "Python 3",
   "language": "python",
   "name": "python3"
  },
  "language_info": {
   "codemirror_mode": {
    "name": "ipython",
    "version": 3
   },
   "file_extension": ".py",
   "mimetype": "text/x-python",
   "name": "python",
   "nbconvert_exporter": "python",
   "pygments_lexer": "ipython3",
   "version": "3.8.8"
  }
 },
 "nbformat": 4,
 "nbformat_minor": 5
}
