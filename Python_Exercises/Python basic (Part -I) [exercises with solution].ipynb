{
 "cells": [
  {
   "cell_type": "markdown",
   "id": "0ee63bf9",
   "metadata": {},
   "source": [
    "1. Write a Python program to print the following string in a specific format (see the output)."
   ]
  },
  {
   "attachments": {
    "image-2.png": {
     "image/png": "[encoded data removed]"
    }
   },
   "cell_type": "markdown",
   "id": "1f79db1e",
   "metadata": {},
   "source": [
    "![image-2.png](attachment:image-2.png)"
   ]
  },
  {
   "cell_type": "code",
   "execution_count": 1,
   "id": "34a20bba",
   "metadata": {},
   "outputs": [
    {
     "name": "stdout",
     "output_type": "stream",
     "text": [
      "Twinkle, twinkle, little star,\n",
      "\tHow I wonder what you are! \n",
      "\t\tUp above the world so high, \n",
      "\t\tLike a diamond in the sky. \n",
      "Twinkle, twinkle, little star, \n",
      "\tHow I wonder what you are\n"
     ]
    }
   ],
   "source": [
    "print(\"Twinkle, twinkle, little star,\\n\\tHow I wonder what you are! \\n\\t\\tUp above the world so high, \\n\\t\\tLike a diamond in the sky. \\nTwinkle, twinkle, little star, \\n\\tHow I wonder what you are\")"
   ]
  },
  {
   "cell_type": "markdown",
   "id": "65f4e284",
   "metadata": {},
   "source": [
    "2. Write a Python program to get the Python version you are using"
   ]
  },
  {
   "cell_type": "code",
   "execution_count": 2,
   "id": "4281c88b",
   "metadata": {},
   "outputs": [
    {
     "name": "stdout",
     "output_type": "stream",
     "text": [
      "3.8.8 (default, Apr 13 2021, 15:08:03) [MSC v.1916 64 bit (AMD64)]\n",
      "sys.version_info(major=3, minor=8, micro=8, releaselevel='final', serial=0)\n"
     ]
    }
   ],
   "source": [
    "import sys\n",
    "print(sys.version)\n",
    "print(sys.version_info)"
   ]
  },
  {
   "cell_type": "markdown",
   "id": "41106771",
   "metadata": {},
   "source": [
    "Write a Python program to display the current date and time."
   ]
  },
  {
   "cell_type": "code",
   "execution_count": 3,
   "id": "39751ae5",
   "metadata": {},
   "outputs": [
    {
     "data": {
      "text/plain": [
       "datetime.datetime(2022, 1, 30, 23, 19, 37, 328949)"
      ]
     },
     "execution_count": 3,
     "metadata": {},
     "output_type": "execute_result"
    }
   ],
   "source": [
    "from datetime import datetime\n",
    "datetime.now()"
   ]
  },
  {
   "cell_type": "code",
   "execution_count": 4,
   "id": "c7c3dde0",
   "metadata": {},
   "outputs": [
    {
     "name": "stdout",
     "output_type": "stream",
     "text": [
      "now = 2022-01-30 23:19:37.359847\n",
      "date and time = 30/01/2022 23:19:37\n"
     ]
    }
   ],
   "source": [
    "from datetime import datetime\n",
    "\n",
    "# datetime object containing current date and time\n",
    "now = datetime.now()\n",
    " \n",
    "print(\"now =\", now)\n",
    "\n",
    "# dd/mm/YY H:M:S\n",
    "dt_string = now.strftime(\"%d/%m/%Y %H:%M:%S\")\n",
    "print(\"date and time =\", dt_string)\t\n"
   ]
  },
  {
   "cell_type": "code",
   "execution_count": 5,
   "id": "033cfce3",
   "metadata": {},
   "outputs": [
    {
     "name": "stdout",
     "output_type": "stream",
     "text": [
      "Today's date: 2022-01-30\n"
     ]
    }
   ],
   "source": [
    "from datetime import date\n",
    "today = date.today()\n",
    "print(\"Today's date:\", today)\n"
   ]
  },
  {
   "cell_type": "code",
   "execution_count": 6,
   "id": "e475c1b8",
   "metadata": {},
   "outputs": [
    {
     "name": "stdout",
     "output_type": "stream",
     "text": [
      "d1: 30-01-22\n",
      "d2: 01-30-22\n",
      "d3: January-30-22\n",
      "d4: Jan-30-22\n"
     ]
    }
   ],
   "source": [
    "# Current date in different formats\n",
    "from datetime import date\n",
    "today_date=date.today()\n",
    "d1=today_date.strftime(\"%d-%m-%y\")\n",
    "print('d1:',d1)\n",
    "d2=today_date.strftime(\"%m-%d-%y\")\n",
    "print('d2:',d2)\n",
    "d3=today_date.strftime('%B-%d-%y')\n",
    "print('d3:',d3)\n",
    "d4=today_date.strftime('%b-%d-%y')\n",
    "print('d4:',d4)"
   ]
  },
  {
   "cell_type": "markdown",
   "id": "487709f5",
   "metadata": {},
   "source": [
    "Write a Python Program which gives Current using different method"
   ]
  },
  {
   "cell_type": "code",
   "execution_count": 7,
   "id": "265566d9",
   "metadata": {},
   "outputs": [
    {
     "data": {
      "text/plain": [
       "'23-19-37'"
      ]
     },
     "execution_count": 7,
     "metadata": {},
     "output_type": "execute_result"
    }
   ],
   "source": [
    "from datetime import datetime\n",
    "time=datetime.now()\n",
    "time_only=time.strftime(\"%H-%M-%S\")\n",
    "time_only"
   ]
  },
  {
   "cell_type": "code",
   "execution_count": 8,
   "id": "590506cb",
   "metadata": {},
   "outputs": [
    {
     "data": {
      "text/plain": [
       "datetime.time(23, 19, 37, 422641)"
      ]
     },
     "execution_count": 8,
     "metadata": {},
     "output_type": "execute_result"
    }
   ],
   "source": [
    "from datetime import datetime\n",
    "time=datetime.now().time()\n",
    "time"
   ]
  },
  {
   "cell_type": "code",
   "execution_count": 9,
   "id": "b5849e2b",
   "metadata": {},
   "outputs": [
    {
     "name": "stdout",
     "output_type": "stream",
     "text": [
      "time.struct_time(tm_year=2022, tm_mon=1, tm_mday=30, tm_hour=23, tm_min=19, tm_sec=37, tm_wday=6, tm_yday=30, tm_isdst=0)\n",
      "\n",
      "\n",
      "23:19:37\n"
     ]
    }
   ],
   "source": [
    "import time\n",
    "\n",
    "t = time.localtime()\n",
    "print(t)\n",
    "current_time = time.strftime(\"%H:%M:%S\", t)\n",
    "print(\"\\n\")\n",
    "print(current_time)"
   ]
  },
  {
   "cell_type": "code",
   "execution_count": 10,
   "id": "d5617f2c",
   "metadata": {},
   "outputs": [
    {
     "name": "stdout",
     "output_type": "stream",
     "text": [
      "NY time: 12:49:37\n",
      "London time: 17:49:37\n"
     ]
    }
   ],
   "source": [
    "from datetime import datetime\n",
    "import pytz\n",
    "\n",
    "tz_NY = pytz.timezone('America/New_York') \n",
    "datetime_NY = datetime.now(tz_NY)\n",
    "print(\"NY time:\", datetime_NY.strftime(\"%H:%M:%S\"))\n",
    "\n",
    "tz_London = pytz.timezone('Europe/London')\n",
    "datetime_London = datetime.now(tz_London)\n",
    "print(\"London time:\", datetime_London.strftime(\"%H:%M:%S\"))"
   ]
  },
  {
   "cell_type": "markdown",
   "id": "b67449c7",
   "metadata": {},
   "source": [
    "Write a Python program which accepts the radius of a circle from the user and compute the area"
   ]
  },
  {
   "cell_type": "code",
   "execution_count": 1,
   "id": "d0c8c91b",
   "metadata": {},
   "outputs": [
    {
     "name": "stdout",
     "output_type": "stream",
     "text": [
      "enter the radius of the circle:,2\n"
     ]
    },
    {
     "data": {
      "text/plain": [
       "12.566370614359172"
      ]
     },
     "execution_count": 1,
     "metadata": {},
     "output_type": "execute_result"
    }
   ],
   "source": [
    "from math import pi\n",
    "radius=float(input('enter the radius of the circle:,'))\n",
    "area= pi * radius**2\n",
    "area"
   ]
  },
  {
   "cell_type": "markdown",
   "id": "4d643c00",
   "metadata": {},
   "source": [
    "Write a Python program which accepts the user's first and last name and print them in reverse order with a space between them"
   ]
  },
  {
   "cell_type": "code",
   "execution_count": 2,
   "id": "efbc7edb",
   "metadata": {},
   "outputs": [
    {
     "name": "stdout",
     "output_type": "stream",
     "text": [
      "enter the first name:jay\n",
      "enter the last name:patel\n",
      "patel jay\n"
     ]
    }
   ],
   "source": [
    "first_name=input(\"enter the first name:\")\n",
    "last_name=input(\"enter the last name:\")\n",
    "combine_name= last_name+ \" \"+first_name\n",
    "print(combine_name)"
   ]
  },
  {
   "cell_type": "markdown",
   "id": "d1c3697f",
   "metadata": {},
   "source": [
    "Write a Python program which accepts a sequence of comma-separated numbers from user and generate a list and a tuple with those numbers"
   ]
  },
  {
   "cell_type": "code",
   "execution_count": 4,
   "id": "0d23a5a3",
   "metadata": {
    "scrolled": true
   },
   "outputs": [
    {
     "name": "stdout",
     "output_type": "stream",
     "text": [
      "enter the use input:12345\n",
      "['1', '2', '3', '4', '5']\n",
      "('1', '2', '3', '4', '5')\n"
     ]
    }
   ],
   "source": [
    "inputs=input(\"enter the use input:\")\n",
    "print(list(inputs))\n",
    "print(tuple(inputs))"
   ]
  },
  {
   "cell_type": "code",
   "execution_count": 5,
   "id": "90581ba9",
   "metadata": {},
   "outputs": [
    {
     "name": "stdout",
     "output_type": "stream",
     "text": [
      "enter the use input:jay\n"
     ]
    },
    {
     "data": {
      "text/plain": [
       "['jay']"
      ]
     },
     "execution_count": 5,
     "metadata": {},
     "output_type": "execute_result"
    }
   ],
   "source": [
    "inputs=input(\"enter the use input:\")\n",
    "list=inputs.split(\",\")\n",
    "list\n"
   ]
  },
  {
   "cell_type": "markdown",
   "id": "1cc2c2fe",
   "metadata": {},
   "source": [
    "Write a Python program to accept a filename from the user and print the extension of that."
   ]
  },
  {
   "cell_type": "code",
   "execution_count": 6,
   "id": "6a175754",
   "metadata": {},
   "outputs": [
    {
     "name": "stdout",
     "output_type": "stream",
     "text": [
      "enter the filename:filename.txt\n"
     ]
    },
    {
     "data": {
      "text/plain": [
       "'txt'"
      ]
     },
     "execution_count": 6,
     "metadata": {},
     "output_type": "execute_result"
    }
   ],
   "source": [
    "p_name=input('enter the filename:')\n",
    "p_name.split(\".\")[-1]\n"
   ]
  },
  {
   "cell_type": "markdown",
   "id": "6e9be70a",
   "metadata": {},
   "source": [
    "Write a Python program that accepts an integer (n) and computes the value of n+nn+nnn"
   ]
  },
  {
   "cell_type": "code",
   "execution_count": 7,
   "id": "5a68967c",
   "metadata": {
    "scrolled": true
   },
   "outputs": [
    {
     "name": "stdout",
     "output_type": "stream",
     "text": [
      "Enter a number n: 5\n",
      "The value is: 615\n"
     ]
    }
   ],
   "source": [
    "n=int(input(\"Enter a number n: \"))\n",
    "temp=str(n)\n",
    "t1=temp+temp\n",
    "t2=temp+temp+temp\n",
    "comp=n+int(t1)+int(t2)\n",
    "print(\"The value is:\",comp)"
   ]
  },
  {
   "cell_type": "code",
   "execution_count": 8,
   "id": "bea194ed",
   "metadata": {},
   "outputs": [
    {
     "name": "stdout",
     "output_type": "stream",
     "text": [
      "Input an integer : 5\n",
      "615\n"
     ]
    }
   ],
   "source": [
    "#string formatting\n",
    "a = int(input(\"Input an integer : \"))\n",
    "n1 = int( \"%s\" % a )\n",
    "n2 = int( \"%s%s\" % (a,a) )\n",
    "n3 = int( \"%s%s%s\" % (a,a,a) )\n",
    "print (n1+n2+n3)"
   ]
  },
  {
   "cell_type": "markdown",
   "id": "8ca537d7",
   "metadata": {},
   "source": [
    " Write a Python program to print the documents (syntax, description etc.) of Python built-in function(s).\n",
    "\n",
    "Sample function : abs()\n",
    "\n",
    "Expected Result :\n",
    "\n",
    "abs(number) -> number\n",
    "\n",
    "Return the absolute value of the argument."
   ]
  },
  {
   "cell_type": "code",
   "execution_count": 9,
   "id": "960f6c81",
   "metadata": {},
   "outputs": [
    {
     "name": "stdout",
     "output_type": "stream",
     "text": [
      "Return the absolute value of the argument.\n"
     ]
    }
   ],
   "source": [
    "print(abs.__doc__)"
   ]
  },
  {
   "cell_type": "code",
   "execution_count": 12,
   "id": "1bfccc45",
   "metadata": {},
   "outputs": [
    {
     "name": "stdout",
     "output_type": "stream",
     "text": [
      "<built-in function dir>\n"
     ]
    }
   ],
   "source": [
    "print(dir)"
   ]
  },
  {
   "cell_type": "code",
   "execution_count": 13,
   "id": "0b2de5dd",
   "metadata": {},
   "outputs": [
    {
     "name": "stdout",
     "output_type": "stream",
     "text": [
      "Built-in mutable sequence.\n",
      "\n",
      "If no argument is given, the constructor creates a new empty list.\n",
      "The argument must be an iterable if specified.\n"
     ]
    }
   ],
   "source": [
    "print(list.__doc__)"
   ]
  },
  {
   "cell_type": "code",
   "execution_count": 14,
   "id": "243229d5",
   "metadata": {},
   "outputs": [
    {
     "name": "stdout",
     "output_type": "stream",
     "text": [
      "<built-in method __dir__ of builtin_function_or_method object at 0x00000157C3EC0720>\n"
     ]
    }
   ],
   "source": [
    "print(dir.__dir__)"
   ]
  },
  {
   "cell_type": "code",
   "execution_count": 15,
   "id": "673b5c92",
   "metadata": {},
   "outputs": [
    {
     "name": "stdout",
     "output_type": "stream",
     "text": [
      "<built-in method __dir__ of list object at 0x00000157C811A940>\n"
     ]
    }
   ],
   "source": [
    "print(list.__dir__)"
   ]
  },
  {
   "cell_type": "markdown",
   "id": "922f5b47",
   "metadata": {},
   "source": [
    "Write a Python program to print the calendar of a given month and year.\n",
    "\n"
   ]
  },
  {
   "cell_type": "code",
   "execution_count": 20,
   "id": "dc487dee",
   "metadata": {},
   "outputs": [
    {
     "name": "stdout",
     "output_type": "stream",
     "text": [
      "enter the year:2021\n",
      "enter the month:01\n",
      "    January 2021\n",
      "Mo Tu We Th Fr Sa Su\n",
      "             1  2  3\n",
      " 4  5  6  7  8  9 10\n",
      "11 12 13 14 15 16 17\n",
      "18 19 20 21 22 23 24\n",
      "25 26 27 28 29 30 31\n",
      "\n"
     ]
    }
   ],
   "source": [
    "import calendar\n",
    "y=int(input(\"enter the year:\"))\n",
    "m=int(input(\"enter the month:\"))\n",
    "print(calendar.month(y,m))"
   ]
  },
  {
   "cell_type": "markdown",
   "id": "ffb2a658",
   "metadata": {},
   "source": [
    "Write a Python program to get a new string from a given string where \"Is\" has been added to the front. If the given string already begins with \"Is\" then return the string unchanged. "
   ]
  },
  {
   "cell_type": "code",
   "execution_count": 39,
   "id": "87f65d41",
   "metadata": {},
   "outputs": [
    {
     "data": {
      "text/plain": [
       "'Lsjay'"
      ]
     },
     "execution_count": 39,
     "metadata": {},
     "output_type": "execute_result"
    }
   ],
   "source": [
    "a=[]\n",
    "def string(n):\n",
    "    if n.startswith(\"Ls\"):\n",
    "        print(n)\n",
    "    else :\n",
    "        return \"Ls\"+ str(n) \n",
    "string('jay')"
   ]
  },
  {
   "cell_type": "code",
   "execution_count": 41,
   "id": "e95f8688",
   "metadata": {},
   "outputs": [
    {
     "data": {
      "text/plain": [
       "'Lslsjay'"
      ]
     },
     "execution_count": 41,
     "metadata": {},
     "output_type": "execute_result"
    }
   ],
   "source": [
    "a=[]\n",
    "def string(n):\n",
    "    if n.startswith(\"Ls\"):\n",
    "        print(n)\n",
    "    else :\n",
    "        return \"Ls\"+ n \n",
    "string('lsjay')"
   ]
  },
  {
   "cell_type": "code",
   "execution_count": 43,
   "id": "6ab0f53d",
   "metadata": {},
   "outputs": [
    {
     "name": "stdout",
     "output_type": "stream",
     "text": [
      "IsArray\n",
      "IsEmpty\n"
     ]
    }
   ],
   "source": [
    "def new_string(str):\n",
    "    if len(str) >= 2 and str[:2] == \"Is\":\n",
    "        return str\n",
    "    return \"Is\" + str\n",
    "\n",
    "print(new_string(\"Array\"))\n",
    "print(new_string(\"IsEmpty\"))"
   ]
  },
  {
   "cell_type": "markdown",
   "id": "bcf6eb9e",
   "metadata": {},
   "source": [
    "Write a Python program to get a string which is n (non-negative integer) copies of a given string"
   ]
  },
  {
   "cell_type": "code",
   "execution_count": 45,
   "id": "f3411882",
   "metadata": {},
   "outputs": [
    {
     "name": "stdout",
     "output_type": "stream",
     "text": [
      "abcabc\n",
      ".py.py.py\n"
     ]
    }
   ],
   "source": [
    "def larger_string(str, n):\n",
    "    result = \"\"\n",
    "    for i in range(n):\n",
    "        result = result + str\n",
    "    return result\n",
    "\n",
    "print(larger_string('abc', 2))\n",
    "print(larger_string('.py', 3))"
   ]
  },
  {
   "cell_type": "code",
   "execution_count": 53,
   "id": "d94318b3",
   "metadata": {},
   "outputs": [
    {
     "name": "stdout",
     "output_type": "stream",
     "text": [
      "abcabc\n",
      ".py.py.py\n"
     ]
    }
   ],
   "source": [
    "def larger_string(str,n):\n",
    "    return  str * abs(n)\n",
    "print(larger_string('abc', -2))\n",
    "print(larger_string('.py', 3))"
   ]
  },
  {
   "cell_type": "code",
   "execution_count": null,
   "id": "12c46223",
   "metadata": {},
   "outputs": [],
   "source": []
  }
 ],
 "metadata": {
  "kernelspec": {
   "display_name": "Python 3",
   "language": "python",
   "name": "python3"
  },
  "language_info": {
   "codemirror_mode": {
    "name": "ipython",
    "version": 3
   },
   "file_extension": ".py",
   "mimetype": "text/x-python",
   "name": "python",
   "nbconvert_exporter": "python",
   "pygments_lexer": "ipython3",
   "version": "3.8.8"
  }
 },
 "nbformat": 4,
 "nbformat_minor": 5
}
