{
 "cells": [
  {
   "cell_type": "markdown",
   "id": "fa4b3e81",
   "metadata": {},
   "source": [
    "Write a Python program to generate  random value between two integers (inclusive) and a random multiple of 7 between 0 and 70."
   ]
  },
  {
   "cell_type": "code",
   "execution_count": 19,
   "id": "ec6709b1",
   "metadata": {},
   "outputs": [
    {
     "name": "stdout",
     "output_type": "stream",
     "text": [
      "Generate a random value between two integers, inclusive:\n"
     ]
    },
    {
     "data": {
      "text/plain": [
       "4"
      ]
     },
     "execution_count": 19,
     "metadata": {},
     "output_type": "execute_result"
    }
   ],
   "source": [
    "import numpy as np\n",
    "print(\"Generate a random value between two integers, inclusive:\")\n",
    "\n",
    "random_int=np.random.randint(1,10)\n",
    "random_int"
   ]
  },
  {
   "cell_type": "code",
   "execution_count": 20,
   "id": "7f5686c7",
   "metadata": {},
   "outputs": [
    {
     "name": "stdout",
     "output_type": "stream",
     "text": [
      "Generate a random multiple of 7 between 0 and 70:\n",
      "42\n"
     ]
    }
   ],
   "source": [
    "print(\"Generate a random multiple of 7 between 0 and 70:\")\n",
    "\n",
    "print(np.random.randint(0, 10) * 7)\n"
   ]
  },
  {
   "cell_type": "code",
   "execution_count": null,
   "id": "de21ad98",
   "metadata": {},
   "outputs": [],
   "source": []
  }
 ],
 "metadata": {
  "kernelspec": {
   "display_name": "Python 3",
   "language": "python",
   "name": "python3"
  },
  "language_info": {
   "codemirror_mode": {
    "name": "ipython",
    "version": 3
   },
   "file_extension": ".py",
   "mimetype": "text/x-python",
   "name": "python",
   "nbconvert_exporter": "python",
   "pygments_lexer": "ipython3",
   "version": "3.8.8"
  }
 },
 "nbformat": 4,
 "nbformat_minor": 5
}
