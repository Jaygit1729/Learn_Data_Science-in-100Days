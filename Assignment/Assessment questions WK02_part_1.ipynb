{
 "cells": [
  {
   "cell_type": "markdown",
   "id": "c2865234",
   "metadata": {
    "id": "c2865234"
   },
   "source": [
    "# Advanced Python - Set 1"
   ]
  },
  {
   "cell_type": "markdown",
   "id": "cf11f572",
   "metadata": {
    "id": "cf11f572"
   },
   "source": [
    "### Q1. You are given a list of inputs, find out which all numbers are greater than 10.\n",
    "\n",
    "Eg:\n",
    "\n",
    "Input: [10, 11, 30, 4]\n",
    "\n",
    "Output: 11, 30"
   ]
  },
  {
   "cell_type": "code",
   "execution_count": 1,
   "id": "df096099",
   "metadata": {
    "id": "df096099"
   },
   "outputs": [],
   "source": [
    "#Input data\n",
    "input_list = [1, 2, 10, 3, 23, 41, 9, 2, 44, 20, 1, 2, 10, 10]"
   ]
  },
  {
   "cell_type": "code",
   "execution_count": 9,
   "id": "85032231",
   "metadata": {
    "id": "85032231"
   },
   "outputs": [
    {
     "data": {
      "text/plain": [
       "[23, 41, 44, 20]"
      ]
     },
     "execution_count": 9,
     "metadata": {},
     "output_type": "execute_result"
    }
   ],
   "source": [
    "# Write your solution here\n",
    "[i for i in input_list if i>10]"
   ]
  },
  {
   "cell_type": "markdown",
   "id": "48b5b2ae",
   "metadata": {
    "id": "48b5b2ae"
   },
   "source": [
    "### Q2. You are given temperature measured in degree degree celsius, convert it into degree fahrenheit.\n",
    "\n",
    "Formula for convering ${}^{0}C$ to ${}^{0}F$ :\n",
    "\n",
    "$Fahrenheit (°F) = (Celsius * 1.8) + 32 $\n",
    "\n",
    "Eg:\n",
    "\n",
    "Input: 40\n",
    "\n",
    "Output: 104"
   ]
  },
  {
   "cell_type": "code",
   "execution_count": null,
   "id": "4f07067b",
   "metadata": {
    "id": "4f07067b"
   },
   "outputs": [],
   "source": [
    "# Input data\n",
    "temp_in_degree_celsius = 42"
   ]
  },
  {
   "cell_type": "code",
   "execution_count": 11,
   "id": "eb728433",
   "metadata": {
    "id": "eb728433"
   },
   "outputs": [
    {
     "data": {
      "text/plain": [
       "107.60000000000001"
      ]
     },
     "execution_count": 11,
     "metadata": {},
     "output_type": "execute_result"
    }
   ],
   "source": [
    "# Write your solution here\n",
    "def degree_fahre(c):\n",
    "    f=(c*1.8)+32\n",
    "    return f\n",
    "degree_fahre(42)"
   ]
  },
  {
   "cell_type": "markdown",
   "id": "7b22fecc",
   "metadata": {
    "id": "7b22fecc"
   },
   "source": [
    "### Q3. Write a function that takes input marks out of hundred and returns a grade according to the logic below:\n",
    "\n",
    "- Above 95: O\n",
    "- 90 or Above, Less than 95: A+\n",
    "- 85 or Above,Less than 90: A\n",
    "- 80 or Above, Less than 85: B\n",
    "- 70 or Above, Less than 80: C\n",
    "- 40 or Above, Less than 70: P\n",
    "- Less than 40: F\n",
    "\n",
    "Eg:\n",
    "\n",
    "Input: [90, 56, 70, 88]\n",
    "\n",
    "Output: A+, P, C, A"
   ]
  },
  {
   "cell_type": "code",
   "execution_count": 12,
   "id": "393bfcf2",
   "metadata": {
    "id": "393bfcf2"
   },
   "outputs": [],
   "source": [
    "# Input marks\n",
    "input=[60, 70, 89, 45, 23, 100, 100, 98, 39, 89, 71, 69]"
   ]
  },
  {
   "cell_type": "code",
   "execution_count": 17,
   "id": "4d1526cd",
   "metadata": {
    "id": "4d1526cd"
   },
   "outputs": [
    {
     "name": "stdout",
     "output_type": "stream",
     "text": [
      "P F A P F O O O F A C P "
     ]
    }
   ],
   "source": [
    "# Solution\n",
    "for i in input:\n",
    "    if i>95: \n",
    "        print('O',end=\" \")\n",
    "    elif i<95 and i>90:\n",
    "        print('A+',end=\" \")\n",
    "    elif i<90 and  i>85:\n",
    "        print('A',end=\" \")\n",
    "    elif i<85 and i>80:\n",
    "        print(\"B\",end=\" \")\n",
    "    elif i<80 and i>70:\n",
    "        print('C',end=\" \")\n",
    "    elif i<70 and i>40:\n",
    "        print('P',end=\" \")\n",
    "    else:\n",
    "        print('F',end=\" \")"
   ]
  },
  {
   "cell_type": "markdown",
   "id": "XZMmvdLkque0",
   "metadata": {
    "id": "XZMmvdLkque0"
   },
   "source": [
    "### Q4. Write a Python function that checks whether the given strings are palindrome or not.\n",
    "\n",
    "string1 = \"nurses run\"\n",
    "\n",
    "string2 = \"good day\"\n",
    "\n",
    "Expected output:\n",
    "\n",
    "Palindrome\n",
    "\n",
    "Not Palindrome"
   ]
  },
  {
   "cell_type": "code",
   "execution_count": 1,
   "id": "92d83d06-8faa-4179-9d40-df638b1baf9e",
   "metadata": {},
   "outputs": [
    {
     "name": "stdout",
     "output_type": "stream",
     "text": [
      "enter the string for palindrome checkingmadam\n",
      "Number is palindrome\n"
     ]
    }
   ],
   "source": [
    "user_input= input('enter the string for palindrome checking')\n",
    "b=user_input[-1::-1]\n",
    "if user_input==b:\n",
    "    print('Number is palindrome')\n",
    "else:\n",
    "    print('number is not a palindrome')"
   ]
  },
  {
   "cell_type": "markdown",
   "id": "7e07c312",
   "metadata": {
    "id": "7e07c312"
   },
   "source": [
    "### Q4. Write a function to check if a number is palindrome\n",
    "\n",
    "**Inputs**:\n",
    "\n",
    "101\n",
    "\n",
    "122\n",
    "\n",
    "303\n",
    "\n",
    "**Outputs**:\n",
    "\n",
    "Palindrome\n",
    "\n",
    "Not Palindrome\n",
    "\n",
    "Palindrome"
   ]
  },
  {
   "cell_type": "code",
   "execution_count": 8,
   "id": "ef54add7",
   "metadata": {},
   "outputs": [
    {
     "data": {
      "text/plain": [
       "52"
      ]
     },
     "execution_count": 8,
     "metadata": {},
     "output_type": "execute_result"
    }
   ],
   "source": [
    "525//10"
   ]
  },
  {
   "cell_type": "code",
   "execution_count": 10,
   "id": "f4490b03",
   "metadata": {
    "id": "f4490b03"
   },
   "outputs": [
    {
     "name": "stdout",
     "output_type": "stream",
     "text": [
      "enter the number:,101\n",
      "number is palindrom\n"
     ]
    }
   ],
   "source": [
    "#Solution\n",
    "user=int(input('enter the number:,'))\n",
    "rev=0\n",
    "x=user\n",
    "while user > 0:\n",
    "    rev= rev * 10 + user % 10\n",
    "    user=user//10 \n",
    "if x==rev:\n",
    "    print('number is palindrom')\n",
    "else:\n",
    "    print('number is not palindorm')"
   ]
  },
  {
   "cell_type": "markdown",
   "id": "sR1h8_y3pXXT",
   "metadata": {
    "id": "sR1h8_y3pXXT"
   },
   "source": [
    "### Q4. Write a function which takes a positive integer as input and prints fibonacci numbers till that number.\n",
    "\n",
    "Eg: \n",
    "\n",
    "Input: 7\n",
    "\n",
    "Output: 1, 1, 2, 3, 5, 8, 13"
   ]
  },
  {
   "cell_type": "code",
   "execution_count": 71,
   "id": "U0giNneepgVt",
   "metadata": {
    "id": "U0giNneepgVt"
   },
   "outputs": [
    {
     "data": {
      "text/plain": [
       "[1, 1, 2, 3, 5, 8, 13]"
      ]
     },
     "execution_count": 71,
     "metadata": {},
     "output_type": "execute_result"
    }
   ],
   "source": [
    "#Solution\n",
    "def fibonacci(n):\n",
    "    a,b=1,1\n",
    "    for i in range(n):\n",
    "        yield a\n",
    "        a,b=b,a+b\n",
    "fib=list(fibonacci(7))\n",
    "fib"
   ]
  },
  {
   "cell_type": "markdown",
   "id": "3deac35f",
   "metadata": {
    "id": "3deac35f"
   },
   "source": [
    "### Q5. Consider the following function and the input list, show how you can pass in the arguments without mentioning the individual elements of the list."
   ]
  },
  {
   "cell_type": "code",
   "execution_count": 76,
   "id": "313de154",
   "metadata": {
    "id": "313de154"
   },
   "outputs": [],
   "source": [
    "# Code snippet\n",
    "def calc_sum(number1, number2, number3, number4, number5):\n",
    "    return number1 + number2 + number3 + number4 + number5\n",
    "\n",
    "input_list = [19, 23, 44, 1, 33]"
   ]
  },
  {
   "cell_type": "code",
   "execution_count": 77,
   "id": "34c82fde",
   "metadata": {
    "id": "34c82fde"
   },
   "outputs": [
    {
     "data": {
      "text/plain": [
       "120"
      ]
     },
     "execution_count": 77,
     "metadata": {},
     "output_type": "execute_result"
    }
   ],
   "source": [
    "# Solution\n",
    "calc_sum(*input_list)"
   ]
  },
  {
   "cell_type": "markdown",
   "id": "8ef398c1",
   "metadata": {
    "id": "8ef398c1"
   },
   "source": [
    "### Q6. Consider the following function and the input dictionary, show how to pass in the arguments without mentioning the individual elements of the list."
   ]
  },
  {
   "cell_type": "code",
   "execution_count": 78,
   "id": "cd15b392",
   "metadata": {
    "id": "cd15b392"
   },
   "outputs": [],
   "source": [
    "# Code snippet\n",
    "def calc_sum(number1, number2, number3, number4, number5):\n",
    "    return number1 + number2 + number3 + number4 + number5\n",
    "\n",
    "input_dict = {'number1': 23, 'number2':69, 'number3':4, 'number4':3, 'number5':0}"
   ]
  },
  {
   "cell_type": "code",
   "execution_count": 79,
   "id": "01804e1c",
   "metadata": {
    "id": "01804e1c"
   },
   "outputs": [
    {
     "data": {
      "text/plain": [
       "99"
      ]
     },
     "execution_count": 79,
     "metadata": {},
     "output_type": "execute_result"
    }
   ],
   "source": [
    "# Solution\n",
    "calc_sum(**input_dict)"
   ]
  },
  {
   "cell_type": "markdown",
   "id": "e7cd5392",
   "metadata": {
    "id": "e7cd5392"
   },
   "source": [
    "### Q7. Create a class to represent the bank account of a customer and include the following attributes:\n",
    "\n",
    "- Customer name\n",
    "- Account Number\n",
    "- Account balance\n",
    "\n",
    "It should also contain functions for viewing, debiting and crediting from the account balance.\n",
    "\n",
    "Show how the class works by initializing the customer class values of your choice and demonstrate the debit and credit functions.\n",
    "\n",
    "```py\n",
    "\n",
    "customer_1 = Customer(name=\"John\", account_number=\"090\", balance=10000)\n",
    "customer_1.debit(100)\n",
    "customer_1.get_balance()\n",
    "```\n",
    "\n",
    "Expected output:\n",
    "9900"
   ]
  },
  {
   "cell_type": "code",
   "execution_count": 86,
   "id": "754b5554",
   "metadata": {
    "id": "754b5554"
   },
   "outputs": [
    {
     "data": {
      "text/plain": [
       "1000"
      ]
     },
     "execution_count": 86,
     "metadata": {},
     "output_type": "execute_result"
    }
   ],
   "source": [
    "# Solution\n",
    "class Customer():\n",
    "    def __init__(self,name,account_number,balance):\n",
    "        self.name=name\n",
    "        self.account_number=account_number\n",
    "        self.balance=balance\n",
    "    \n",
    "    def get_balance(self):\n",
    "        return self.balance\n",
    "    \n",
    "    def debit(self,amount):\n",
    "        self.balance -= amount\n",
    "        \n",
    "    def credit(self,amount):\n",
    "        self.balance += amount\n",
    "customer_1=customer(name='John',account_number='090',balance=1000)\n",
    "customer_1.debit(100)\n",
    "customer_1.credit(100)\n",
    "customer_1.get_balance()"
   ]
  },
  {
   "cell_type": "markdown",
   "id": "wznKDSHOfYn3",
   "metadata": {
    "id": "wznKDSHOfYn3"
   },
   "source": [
    "### Q8. Create a Student class and initialize it with name and roll number. Make methods to :\n",
    "1. Display - It should display all informations of the student.\n",
    "2. setAge - It should assign age to student\n",
    "3. setMarks - It should assign marks to the student."
   ]
  },
  {
   "cell_type": "code",
   "execution_count": 90,
   "id": "gV0_E7gdfe-0",
   "metadata": {
    "id": "gV0_E7gdfe-0"
   },
   "outputs": [
    {
     "name": "stdout",
     "output_type": "stream",
     "text": [
      "age of the student is : 22\n",
      "marks of the student is : 87\n",
      "name of the student is : Vijay\n",
      "roll_no of the student is : 110\n"
     ]
    }
   ],
   "source": [
    "# Solution\n",
    "class Student():\n",
    "    def __init__(self,name,roll_num):\n",
    "        self.name=name\n",
    "        self.roll_num=roll_num\n",
    "\n",
    "    def setage(self,age):\n",
    "        self.age=age\n",
    "        \n",
    "    def setmarks(self,marks):\n",
    "        self.marks=marks\n",
    "        \n",
    "    def display(self):\n",
    "        print('age of the student is :', self.age)\n",
    "        print('marks of the student is :', self.marks)\n",
    "        print('name of the student is :', self.name)\n",
    "        print('roll_no of the student is :', self.roll_num)\n",
    "student_1 = Student('Vijay','110')\n",
    "student_1.setage(22)\n",
    "student_1.setmarks(87)\n",
    "student_1.display()"
   ]
  },
  {
   "cell_type": "markdown",
   "id": "D599wHAWhF2z",
   "metadata": {
    "id": "D599wHAWhF2z"
   },
   "source": [
    "### Q9. Create a Time class and initialize it with hours and minutes.\n",
    "1. Make a method addTime which should take two time object and add them. E.g.- (2 hour and 50 min)+(1 hr and 20 min) is (4 hr and 10 min)\n",
    "2. Make a method displayTime which should print the time.\n",
    "3. Make a method DisplayMinute which should display the total minutes in the Time. E.g.- (1 hr 2 min) should display 62 minute."
   ]
  },
  {
   "cell_type": "code",
   "execution_count": 94,
   "id": "ad2950cf-bd59-4796-a274-b2cc061b8eb0",
   "metadata": {},
   "outputs": [
    {
     "name": "stdout",
     "output_type": "stream",
     "text": [
      "06:59\n",
      "59\n"
     ]
    }
   ],
   "source": [
    "class AddTime():\n",
    "    def __init__(self,hours,minutes):\n",
    "        self.hours=hours\n",
    "        self.minutes=minutes\n",
    "    \n",
    "    def addTime(self,time1,time2):\n",
    "        time_zero = dt.datetime.strptime('00:00:00', '%H:%M:%S')\n",
    "        self.time = time_1 - time_zero + time_2\n",
    "    \n",
    "    def displayTime(self):\n",
    "        print(self.time.strftime('%H:%M'))\n",
    "        \n",
    "    def displayMinute(self):\n",
    "        print(self.time.minute)\n",
    "import datetime as dt\n",
    "time_1 = datetime.datetime.strptime(\"2:49\", \"%H:%M\")\n",
    "time_2 = datetime.datetime.strptime(\"4:10\", \"%H:%M\")\n",
    "\n",
    "add_time = AddTime('2:50','1:20')\n",
    "add_time.addTime(time_1, time_2)\n",
    "add_time.displayTime()\n",
    "add_time.displayMinute()"
   ]
  },
  {
   "cell_type": "markdown",
   "id": "2416e343",
   "metadata": {
    "id": "2416e343"
   },
   "source": [
    "### Q10. Create a class Child which has attributes, Name, age and gender.\n",
    "\n",
    "- Create another class **Student** which inherits the child class and has an attribute of grade.\n",
    "- Demonstrate both classes by initializing them.\n"
   ]
  },
  {
   "cell_type": "code",
   "execution_count": 96,
   "id": "c33a5b03",
   "metadata": {
    "id": "c33a5b03"
   },
   "outputs": [
    {
     "name": "stdout",
     "output_type": "stream",
     "text": [
      "Name: Ashwin\n",
      "Age: 7\n",
      "Gender: Male\n",
      "grade: III\n"
     ]
    }
   ],
   "source": [
    "# Solution\n",
    "class Child():\n",
    "    \n",
    "    def __init__(self,name,age,gender):\n",
    "        self.name=name\n",
    "        self.age=age\n",
    "        self.gender=gender\n",
    "        \n",
    "    def get_details(self):\n",
    "        print('Name: '+self.name)\n",
    "        print('Age: '+str(self.age))\n",
    "        print('Gender: '+self.gender)\n",
    "\n",
    "class Student(Child):\n",
    "    \n",
    "    def __init__(self,name,age,gender,grade):\n",
    "        self.grade=grade\n",
    "        super().__init__(name,age,gender)\n",
    "    \n",
    "    def get_details(self):\n",
    "        super().get_details()\n",
    "        print('grade: '+self.grade)\n",
    "        \n",
    "s = Student('Ashwin', 7, \"Male\", \"III\")\n",
    "s.get_details()"
   ]
  },
  {
   "cell_type": "markdown",
   "id": "fafb2ad5",
   "metadata": {
    "id": "fafb2ad5"
   },
   "source": [
    "### Q12. Add error handling capabilities for the following function.\n",
    "\n",
    "```add_two_nums(a, b)``` is a python function which adds two ``` _positive_``` integers. \n",
    "\n",
    "However the function currently lacks error handling capabilities. \n",
    "\n",
    "Add in try, except block so that the following code runs error free.\n",
    "\n",
    "Make sure to include handling for all the errors so that they can be properly debugged."
   ]
  },
  {
   "cell_type": "code",
   "execution_count": 22,
   "id": "18b94809",
   "metadata": {
    "id": "18b94809"
   },
   "outputs": [],
   "source": [
    "def add_two_nums(a, b):\n",
    "    try:\n",
    "        assert isinstance(a, int)\n",
    "        assert isinstance(b, int)\n",
    "    except AssertionError:\n",
    "        print(\"Error: One of the arguments provided is not an integer\")\n",
    "        return\n",
    "    \n",
    "    result = a+b\n",
    "    \n",
    "    try:\n",
    "        assert result >= 0\n",
    "    except AssertionError:\n",
    "        print(\"Error: The sum is negative\")\n",
    "        return\n",
    "    \n",
    "    return result"
   ]
  },
  {
   "cell_type": "code",
   "execution_count": 23,
   "id": "e9187244",
   "metadata": {
    "id": "e9187244"
   },
   "outputs": [
    {
     "name": "stdout",
     "output_type": "stream",
     "text": [
      "15\n",
      "Error: One of the arguments provided is not an integer\n",
      "None\n",
      "Error: The sum is negative\n",
      "None\n"
     ]
    }
   ],
   "source": [
    "print(add_two_nums(5, 10))\n",
    "print(add_two_nums(1, 'sdf'))\n",
    "print(add_two_nums(5, -7))"
   ]
  },
  {
   "cell_type": "markdown",
   "id": "16cbad51",
   "metadata": {
    "id": "16cbad51"
   },
   "source": [
    "### Q13. Enhance the error handling.\n",
    "\n",
    "```get_element(arr, index)``` is a python function for getting the element from a list using the index.\n",
    "\n",
    "However, currently the function prints all the errors as 'Error in code'.\n",
    "\n",
    "Use multiple exceptions to handle errors and print the corresponding error message as specified in the inputs."
   ]
  },
  {
   "cell_type": "code",
   "execution_count": 34,
   "id": "3decead1",
   "metadata": {
    "id": "3decead1"
   },
   "outputs": [],
   "source": [
    "# Modify this function\n",
    "def get_element(arr, index):\n",
    "    try:\n",
    "        return arr[index]\n",
    "    except TypeError:\n",
    "        print('wrong input, please check the input')\n",
    "    except IndexError:\n",
    "        print(\"wrong index, index is out of range\")\n",
    "        "
   ]
  },
  {
   "cell_type": "code",
   "execution_count": 35,
   "id": "5982b1b8",
   "metadata": {
    "id": "5982b1b8"
   },
   "outputs": [],
   "source": [
    "arr = [19, 23, 44, 1, 33]"
   ]
  },
  {
   "cell_type": "code",
   "execution_count": 36,
   "id": "240bb128",
   "metadata": {
    "id": "240bb128"
   },
   "outputs": [
    {
     "data": {
      "text/plain": [
       "44"
      ]
     },
     "execution_count": 36,
     "metadata": {},
     "output_type": "execute_result"
    }
   ],
   "source": [
    "get_element(arr, 2)"
   ]
  },
  {
   "cell_type": "code",
   "execution_count": 37,
   "id": "c0bb5f83",
   "metadata": {
    "id": "c0bb5f83"
   },
   "outputs": [
    {
     "name": "stdout",
     "output_type": "stream",
     "text": [
      "wrong input, please check the input\n"
     ]
    }
   ],
   "source": [
    "get_element(10, 's') # Expected output: wrong input type"
   ]
  },
  {
   "cell_type": "code",
   "execution_count": 38,
   "id": "8f8f7553",
   "metadata": {
    "id": "8f8f7553"
   },
   "outputs": [
    {
     "name": "stdout",
     "output_type": "stream",
     "text": [
      "wrong index, index is out of range\n"
     ]
    }
   ],
   "source": [
    "get_element(arr, 8) # Expected output: Indexing error"
   ]
  },
  {
   "cell_type": "markdown",
   "id": "Fm2GNZIgI2Fz",
   "metadata": {
    "id": "Fm2GNZIgI2Fz"
   },
   "source": [
    "## Special questions\n",
    "\n",
    "Try attempting these questions to get a hang of building logic and getting more comfortable with using various functions of python."
   ]
  },
  {
   "cell_type": "markdown",
   "id": "Dk-tvjcWZrvt",
   "metadata": {
    "id": "Dk-tvjcWZrvt"
   },
   "source": [
    "### Q14. Write a function which takes a string and converts it into NATO phonetic alphabets.\n",
    "\n",
    "Nato phonetic alphabets are code words assigned to each English alphabet so that they are phonetically distinguishable. The code for each of the alphabets are as follows:\n",
    "\n",
    "- A : Alfa\n",
    "- B : Bravo\n",
    "- C : Charlie\n",
    "- D : Delta\n",
    "- E : Echo\n",
    "- F : Foxtrot\n",
    "- G : Golf\n",
    "- H : Hotel\n",
    "- I : India\n",
    "- J : Juliett\n",
    "- K : Kilo\n",
    "- L : Lima\n",
    "- M : Mike\n",
    "- N : November\n",
    "- O : Oscar\n",
    "- P : Papa\n",
    "- Q : Quebec\n",
    "- R : Romeo\n",
    "- S : Sierra\n",
    "- T : Tango\n",
    "- U : Uniform\n",
    "- V : Victor\n",
    "- W : Whiskey\n",
    "- X : X-ray\n",
    "- Y : Yankee\n",
    "- Z : Zulu\n",
    "\n",
    "Eg: \n",
    "\n",
    "Input: Hello\n",
    "\n",
    "Output: HOTEL ECHO LIMA LIMA OMEGA"
   ]
  },
  {
   "cell_type": "code",
   "execution_count": 54,
   "id": "729e0750",
   "metadata": {},
   "outputs": [
    {
     "name": "stdout",
     "output_type": "stream",
     "text": [
      "Hotel Echo Lima Lima Oscar "
     ]
    }
   ],
   "source": [
    "\n",
    "def convert_to_nato(string):\n",
    "    NATO={\"A\"  : \"Alfa\",\n",
    "                    \"B\"  : \"Bravo\",\n",
    "                    \"C\"  : \"Charlie\",\n",
    "                    \"D\"  : \"Delta\",\n",
    "                    \"E\"  : \"Echo\",\n",
    "                    \"F\"  : \"Foxtrot\",\n",
    "                    \"G\"  : \"Golf\",\n",
    "                    \"H\"  : \"Hotel\",\n",
    "                    \"I\"  : \"India\",\n",
    "                    \"J\"  : \"Juliett\",\n",
    "                    \"K\"  : \"Kilo\",\n",
    "                    \"L\"  : \"Lima\",\n",
    "                    \"M\"  : \"Mike\",\n",
    "                    \"N\"  : \"November\",\n",
    "                    \"O\"  : \"Oscar\",\n",
    "                    \"P\"  : \"Papa\",\n",
    "                    \"Q\"  : \"Quebec\",\n",
    "                    \"R\"  : \"Romeo\",\n",
    "                    \"S\"  : \"Sierra\",\n",
    "                    \"T\"  : \"Tango\",\n",
    "                    \"U\"  : \"Uniform\",\n",
    "                    \"V\"  : \"Victor\",\n",
    "                    \"W\"  : \"Whiskey\",\n",
    "                    \"X\"  : \"X-ray\",\n",
    "                    \"Y\"  : \"Yankee\",\n",
    "                    \"Z\"  : \"Zulu\"}\n",
    "    for i in string:\n",
    "        emp_string=' '\n",
    "        NATOs= NATO[i] + emp_string\n",
    "        print(NATOs,end=\"\")\n",
    "        \n",
    "convert_to_nato('HELLO')       "
   ]
  },
  {
   "cell_type": "markdown",
   "id": "OB6t4sP7bXdC",
   "metadata": {
    "id": "OB6t4sP7bXdC"
   },
   "source": [
    "### Q15. Write a function to count the number of unique items in a list.\n",
    "\n",
    "Eg:\n",
    "\n",
    "Input: [1, 1, 1, 2, 2, 2, 2, 2, 'a', 'a']\n",
    "\n",
    "Output: \n",
    "\n",
    "1 occurs 3 times.\n",
    "\n",
    "2 occurs 5 times.\n",
    "\n",
    "'a' occurs 2 times.\n",
    "\n"
   ]
  },
  {
   "cell_type": "code",
   "execution_count": 57,
   "id": "179e175a",
   "metadata": {},
   "outputs": [
    {
     "data": {
      "text/plain": [
       "Counter({1: 3, 2: 5, 'a': 2})"
      ]
     },
     "execution_count": 57,
     "metadata": {},
     "output_type": "execute_result"
    }
   ],
   "source": [
    "Input=[1, 1, 1, 2, 2, 2, 2, 2, 'a', 'a']\n",
    "\n",
    "from collections import Counter\n",
    "count_element= Counter(Input)\n",
    "count_element"
   ]
  },
  {
   "cell_type": "code",
   "execution_count": null,
   "id": "f972ba68",
   "metadata": {},
   "outputs": [],
   "source": []
  }
 ],
 "metadata": {
  "colab": {
   "collapsed_sections": [
    "7b22fecc",
    "2416e343"
   ],
   "name": "Assessment questions WK02_part_1.ipynb",
   "provenance": []
  },
  "kernelspec": {
   "display_name": "Python 3",
   "language": "python",
   "name": "python3"
  },
  "language_info": {
   "codemirror_mode": {
    "name": "ipython",
    "version": 3
   },
   "file_extension": ".py",
   "mimetype": "text/x-python",
   "name": "python",
   "nbconvert_exporter": "python",
   "pygments_lexer": "ipython3",
   "version": "3.8.8"
  }
 },
 "nbformat": 4,
 "nbformat_minor": 5
}
