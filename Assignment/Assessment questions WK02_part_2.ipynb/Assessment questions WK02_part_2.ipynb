{
 "cells": [
  {
   "cell_type": "markdown",
   "id": "c2865234",
   "metadata": {
    "id": "c2865234"
   },
   "source": [
    "# Advanced Python"
   ]
  },
  {
   "cell_type": "markdown",
   "id": "7e07c312",
   "metadata": {
    "id": "7e07c312"
   },
   "source": [
    "### Q1. Write a _lambda_ function to convert degree farenheit to degree celsius"
   ]
  },
  {
   "cell_type": "code",
   "execution_count": 3,
   "id": "02900ef1",
   "metadata": {
    "id": "02900ef1"
   },
   "outputs": [],
   "source": [
    "# Input\n",
    "temp_in_farenheit = 120"
   ]
  },
  {
   "cell_type": "code",
   "execution_count": 5,
   "id": "f4490b03",
   "metadata": {
    "id": "f4490b03"
   },
   "outputs": [
    {
     "data": {
      "text/plain": [
       "48.888888888888886"
      ]
     },
     "execution_count": 5,
     "metadata": {},
     "output_type": "execute_result"
    }
   ],
   "source": [
    "#Solution\n",
    "(lambda x:(x-32)/1.8)(temp_in_farenheit)"
   ]
  },
  {
   "cell_type": "markdown",
   "id": "sR1h8_y3pXXT",
   "metadata": {
    "id": "sR1h8_y3pXXT"
   },
   "source": [
    "### Q2. Write a _lambda_ function to find the largest of 2 numbers."
   ]
  },
  {
   "cell_type": "code",
   "execution_count": 6,
   "id": "U0giNneepgVt",
   "metadata": {
    "colab": {
     "base_uri": "https://localhost:8080/"
    },
    "executionInfo": {
     "elapsed": 435,
     "status": "ok",
     "timestamp": 1644228615700,
     "user": {
      "displayName": "Vishnu Kaimal",
      "photoUrl": "https://lh3.googleusercontent.com/a-/AOh14Ghr0s7RRG_K8yAfPng_LdbfHLT7rBwVtDuLlUCJzA=s64",
      "userId": "11804322656526615562"
     },
     "user_tz": -330
    },
    "id": "U0giNneepgVt",
    "outputId": "be3d6f43-1c32-4f1f-e872-e1c51847833e"
   },
   "outputs": [
    {
     "data": {
      "text/plain": [
       "20"
      ]
     },
     "execution_count": 6,
     "metadata": {},
     "output_type": "execute_result"
    }
   ],
   "source": [
    "#Solution\n",
    "(lambda x,y:x if x>y else y)(10,20)"
   ]
  },
  {
   "cell_type": "markdown",
   "id": "a2bff2f5",
   "metadata": {
    "id": "a2bff2f5"
   },
   "source": [
    "### Q3. Write the input_timestamp function decorator which is a function that adds timestamp to the return string\n",
    "\n",
    "Consider the following function:\n",
    "\n",
    "```py\n",
    "def add_timestamp(args):\n",
    "    # Write your code here.\n",
    "\n",
    "@add_timestamp\n",
    "def print_list(str_list: list):\n",
    "    return str(str_list)\n",
    "```"
   ]
  },
  {
   "cell_type": "markdown",
   "id": "92595539",
   "metadata": {
    "id": "92595539"
   },
   "source": [
    "Finish the ```add_timestamp``` function so that we get the following outputs for the inputs.\n",
    "\n",
    "Eg:\n",
    "\n",
    "Input: [1, 2, 3, 4] \n",
    "\n",
    "Output: \"[1, 2, 3, 4] - %d-%m-%y %H:%M:%S\"."
   ]
  },
  {
   "cell_type": "code",
   "execution_count": 62,
   "id": "275bcfe1",
   "metadata": {},
   "outputs": [
    {
     "ename": "ValueError",
     "evalue": "time data '[1, 2, 3, 4]' does not match format '%d/%m/%y %H:%M:%S.%f'",
     "output_type": "error",
     "traceback": [
      "\u001b[1;31m---------------------------------------------------------------------------\u001b[0m",
      "\u001b[1;31mValueError\u001b[0m                                Traceback (most recent call last)",
      "\u001b[1;32m<ipython-input-62-6b7ab46e4579>\u001b[0m in \u001b[0;36m<module>\u001b[1;34m\u001b[0m\n\u001b[0;32m      6\u001b[0m \u001b[1;33m\u001b[0m\u001b[0m\n\u001b[0;32m      7\u001b[0m \u001b[1;33m@\u001b[0m\u001b[0madd_timestamp\u001b[0m\u001b[1;33m\u001b[0m\u001b[1;33m\u001b[0m\u001b[0m\n\u001b[1;32m----> 8\u001b[1;33m \u001b[1;32mdef\u001b[0m \u001b[0mprint_list\u001b[0m\u001b[1;33m(\u001b[0m\u001b[0mstr_list\u001b[0m\u001b[1;33m:\u001b[0m \u001b[0mlist\u001b[0m\u001b[1;33m)\u001b[0m\u001b[1;33m:\u001b[0m\u001b[1;33m\u001b[0m\u001b[1;33m\u001b[0m\u001b[0m\n\u001b[0m\u001b[0;32m      9\u001b[0m     \u001b[1;32mreturn\u001b[0m \u001b[0mstr\u001b[0m\u001b[1;33m(\u001b[0m\u001b[0mstr_list\u001b[0m\u001b[1;33m)\u001b[0m\u001b[1;33m\u001b[0m\u001b[1;33m\u001b[0m\u001b[0m\n",
      "\u001b[1;32m<ipython-input-62-6b7ab46e4579>\u001b[0m in \u001b[0;36madd_timestamp\u001b[1;34m(*args)\u001b[0m\n\u001b[0;32m      3\u001b[0m \u001b[1;32mdef\u001b[0m \u001b[0madd_timestamp\u001b[0m\u001b[1;33m(\u001b[0m\u001b[1;33m*\u001b[0m\u001b[0margs\u001b[0m\u001b[1;33m)\u001b[0m\u001b[1;33m:\u001b[0m\u001b[1;33m\u001b[0m\u001b[1;33m\u001b[0m\u001b[0m\n\u001b[0;32m      4\u001b[0m     \u001b[0mformat_data\u001b[0m \u001b[1;33m=\u001b[0m \u001b[1;34m\"%d/%m/%y %H:%M:%S.%f\"\u001b[0m\u001b[1;33m\u001b[0m\u001b[1;33m\u001b[0m\u001b[0m\n\u001b[1;32m----> 5\u001b[1;33m     \u001b[0mdt\u001b[0m\u001b[1;33m.\u001b[0m\u001b[0mdatetime\u001b[0m\u001b[1;33m.\u001b[0m\u001b[0mstrptime\u001b[0m\u001b[1;33m(\u001b[0m\u001b[0mstr\u001b[0m\u001b[1;33m(\u001b[0m\u001b[0mstr_list\u001b[0m\u001b[1;33m)\u001b[0m\u001b[1;33m,\u001b[0m \u001b[0mformat_data\u001b[0m\u001b[1;33m)\u001b[0m\u001b[1;33m\u001b[0m\u001b[1;33m\u001b[0m\u001b[0m\n\u001b[0m\u001b[0;32m      6\u001b[0m \u001b[1;33m\u001b[0m\u001b[0m\n\u001b[0;32m      7\u001b[0m \u001b[1;33m@\u001b[0m\u001b[0madd_timestamp\u001b[0m\u001b[1;33m\u001b[0m\u001b[1;33m\u001b[0m\u001b[0m\n",
      "\u001b[1;32m~\\anaconda3\\lib\\_strptime.py\u001b[0m in \u001b[0;36m_strptime_datetime\u001b[1;34m(cls, data_string, format)\u001b[0m\n\u001b[0;32m    566\u001b[0m     \"\"\"Return a class cls instance based on the input string and the\n\u001b[0;32m    567\u001b[0m     format string.\"\"\"\n\u001b[1;32m--> 568\u001b[1;33m     \u001b[0mtt\u001b[0m\u001b[1;33m,\u001b[0m \u001b[0mfraction\u001b[0m\u001b[1;33m,\u001b[0m \u001b[0mgmtoff_fraction\u001b[0m \u001b[1;33m=\u001b[0m \u001b[0m_strptime\u001b[0m\u001b[1;33m(\u001b[0m\u001b[0mdata_string\u001b[0m\u001b[1;33m,\u001b[0m \u001b[0mformat\u001b[0m\u001b[1;33m)\u001b[0m\u001b[1;33m\u001b[0m\u001b[1;33m\u001b[0m\u001b[0m\n\u001b[0m\u001b[0;32m    569\u001b[0m     \u001b[0mtzname\u001b[0m\u001b[1;33m,\u001b[0m \u001b[0mgmtoff\u001b[0m \u001b[1;33m=\u001b[0m \u001b[0mtt\u001b[0m\u001b[1;33m[\u001b[0m\u001b[1;33m-\u001b[0m\u001b[1;36m2\u001b[0m\u001b[1;33m:\u001b[0m\u001b[1;33m]\u001b[0m\u001b[1;33m\u001b[0m\u001b[1;33m\u001b[0m\u001b[0m\n\u001b[0;32m    570\u001b[0m     \u001b[0margs\u001b[0m \u001b[1;33m=\u001b[0m \u001b[0mtt\u001b[0m\u001b[1;33m[\u001b[0m\u001b[1;33m:\u001b[0m\u001b[1;36m6\u001b[0m\u001b[1;33m]\u001b[0m \u001b[1;33m+\u001b[0m \u001b[1;33m(\u001b[0m\u001b[0mfraction\u001b[0m\u001b[1;33m,\u001b[0m\u001b[1;33m)\u001b[0m\u001b[1;33m\u001b[0m\u001b[1;33m\u001b[0m\u001b[0m\n",
      "\u001b[1;32m~\\anaconda3\\lib\\_strptime.py\u001b[0m in \u001b[0;36m_strptime\u001b[1;34m(data_string, format)\u001b[0m\n\u001b[0;32m    347\u001b[0m     \u001b[0mfound\u001b[0m \u001b[1;33m=\u001b[0m \u001b[0mformat_regex\u001b[0m\u001b[1;33m.\u001b[0m\u001b[0mmatch\u001b[0m\u001b[1;33m(\u001b[0m\u001b[0mdata_string\u001b[0m\u001b[1;33m)\u001b[0m\u001b[1;33m\u001b[0m\u001b[1;33m\u001b[0m\u001b[0m\n\u001b[0;32m    348\u001b[0m     \u001b[1;32mif\u001b[0m \u001b[1;32mnot\u001b[0m \u001b[0mfound\u001b[0m\u001b[1;33m:\u001b[0m\u001b[1;33m\u001b[0m\u001b[1;33m\u001b[0m\u001b[0m\n\u001b[1;32m--> 349\u001b[1;33m         raise ValueError(\"time data %r does not match format %r\" %\n\u001b[0m\u001b[0;32m    350\u001b[0m                          (data_string, format))\n\u001b[0;32m    351\u001b[0m     \u001b[1;32mif\u001b[0m \u001b[0mlen\u001b[0m\u001b[1;33m(\u001b[0m\u001b[0mdata_string\u001b[0m\u001b[1;33m)\u001b[0m \u001b[1;33m!=\u001b[0m \u001b[0mfound\u001b[0m\u001b[1;33m.\u001b[0m\u001b[0mend\u001b[0m\u001b[1;33m(\u001b[0m\u001b[1;33m)\u001b[0m\u001b[1;33m:\u001b[0m\u001b[1;33m\u001b[0m\u001b[1;33m\u001b[0m\u001b[0m\n",
      "\u001b[1;31mValueError\u001b[0m: time data '[1, 2, 3, 4]' does not match format '%d/%m/%y %H:%M:%S.%f'"
     ]
    }
   ],
   "source": [
    "import datetime as dt\n",
    "str_list=[1, 2, 3, 4]\n",
    "def add_timestamp(*args):\n",
    "    format_data = \"%d/%m/%y %H:%M:%S.%f\"\n",
    "    dt.datetime.strptime(str(str_list), format_data)\n",
    "\n",
    "@add_timestamp\n",
    "def print_list(str_list: list):\n",
    "    return str(str_list)"
   ]
  },
  {
   "cell_type": "markdown",
   "id": "388c19f4",
   "metadata": {},
   "source": [
    "### Q4. Write an iterator class that iterates from 1 to 100."
   ]
  },
  {
   "cell_type": "code",
   "execution_count": 64,
   "id": "16713aeb",
   "metadata": {},
   "outputs": [],
   "source": [
    "# Enter your solution here\n",
    "class iterator:\n",
    "    def __init__(self,number):\n",
    "        self.number=number\n",
    "    def __iter__(self):\n",
    "        return self\n",
    "            \n",
    "    def __next__(self):\n",
    "        number = self.number\n",
    "        for i in range(number):\n",
    "                return number\n",
    "\n",
    "i=iterator(101)           "
   ]
  },
  {
   "cell_type": "markdown",
   "id": "e703c24e",
   "metadata": {},
   "source": [
    "### Q5. Write an iterator class that gets initialized with a datetime stamp and a unit of time increment. That iterates over the next timestep with the specified unit of increment.\n",
    "\n",
    "EG 1:\n",
    "\n",
    "Input: **Starting Timestamp:** 8th Feb 2022 12:00:00, **time increment:** 1 hour\n",
    "Output: 8th Feb 2022 13:00:00, 8th Feb 2022 14:00:00, 8th Feb 2022 15:00:00, 8th Feb 2022 16:00:00 and so on\n",
    "\n",
    "EG 2:\n",
    "\n",
    "\n",
    "Input: **Starting Timestamp:** 20th Feb 2022 12:00:00, **time increment:** 5 days\n",
    "Output: 25th Feb 2022 13:00:00, 2nd March 2022 13:00:00, 7th March 2022 13:00:00, 12th March 2022 13:00:00 and so on"
   ]
  },
  {
   "cell_type": "code",
   "execution_count": null,
   "id": "a66a85cf",
   "metadata": {},
   "outputs": [],
   "source": [
    "# Enter your solution here"
   ]
  },
  {
   "cell_type": "markdown",
   "id": "e6fe6962",
   "metadata": {},
   "source": [
    "### Q6. Create a generator object that generates numbers in the fibonacci series."
   ]
  },
  {
   "cell_type": "code",
   "execution_count": 67,
   "id": "cc00c11a",
   "metadata": {},
   "outputs": [
    {
     "data": {
      "text/plain": [
       "[1, 1, 2, 3, 5, 8, 13, 21, 34, 55]"
      ]
     },
     "execution_count": 67,
     "metadata": {},
     "output_type": "execute_result"
    }
   ],
   "source": [
    "# Enter your code here\n",
    "def fibonacci(number):\n",
    "    x,y=1,1\n",
    "    for i in range(number):\n",
    "        yield x\n",
    "        x,y=y,x+y\n",
    "fib=list(fibonacci(10))\n",
    "fib"
   ]
  },
  {
   "cell_type": "markdown",
   "id": "Inkva21hTv_4",
   "metadata": {
    "id": "Inkva21hTv_4"
   },
   "source": [
    "# Modules"
   ]
  },
  {
   "cell_type": "markdown",
   "id": "R3RzsxYkTyn2",
   "metadata": {
    "id": "R3RzsxYkTyn2"
   },
   "source": [
    "### Q7. Import named tuple from the collections module"
   ]
  },
  {
   "cell_type": "code",
   "execution_count": 56,
   "id": "uBtBwn8JT9Em",
   "metadata": {
    "id": "uBtBwn8JT9Em"
   },
   "outputs": [],
   "source": [
    "from collections import namedtuple"
   ]
  },
  {
   "cell_type": "markdown",
   "id": "P2l1PAvzT80G",
   "metadata": {
    "id": "P2l1PAvzT80G"
   },
   "source": [
    "### Q8. Define a named tuple type called employee with properties name, age, salary."
   ]
  },
  {
   "cell_type": "code",
   "execution_count": 59,
   "id": "g4VTMcDRUK-1",
   "metadata": {
    "id": "g4VTMcDRUK-1"
   },
   "outputs": [
    {
     "name": "stdout",
     "output_type": "stream",
     "text": [
      "john\n",
      "28\n"
     ]
    },
    {
     "data": {
      "text/plain": [
       "500"
      ]
     },
     "execution_count": 59,
     "metadata": {},
     "output_type": "execute_result"
    }
   ],
   "source": [
    "employee=namedtuple('employee',['name','age','salary'])\n",
    "john=employee(name='john',age=28,salary=500)\n",
    "print(john.name)\n",
    "print(john.age)\n",
    "john.salary"
   ]
  },
  {
   "cell_type": "markdown",
   "id": "SpRIKzclULYV",
   "metadata": {
    "id": "SpRIKzclULYV"
   },
   "source": [
    "### Q9. Using the employee named tuple, create an employee with name=John, age=28, salary=5000."
   ]
  },
  {
   "cell_type": "markdown",
   "id": "97b1838c",
   "metadata": {
    "id": "97b1838c"
   },
   "source": [
    "# Pip"
   ]
  },
  {
   "cell_type": "markdown",
   "id": "b426af1e",
   "metadata": {
    "id": "b426af1e"
   },
   "source": [
    "### Q10. Using pip install numpy and pandas packages."
   ]
  },
  {
   "cell_type": "code",
   "execution_count": 8,
   "id": "431537bc",
   "metadata": {
    "id": "431537bc"
   },
   "outputs": [
    {
     "name": "stdout",
     "output_type": "stream",
     "text": [
      "Requirement already satisfied: numpy in c:\\users\\jay patel\\anaconda3\\lib\\site-packages (1.19.2)\n"
     ]
    }
   ],
   "source": [
    "#Enter your code to install numpy\n",
    "!pip install numpy "
   ]
  },
  {
   "cell_type": "code",
   "execution_count": 9,
   "id": "4ddb41d0",
   "metadata": {
    "id": "4ddb41d0"
   },
   "outputs": [
    {
     "name": "stdout",
     "output_type": "stream",
     "text": [
      "Requirement already satisfied: pandas in c:\\users\\jay patel\\anaconda3\\lib\\site-packages (1.3.5)\n",
      "Requirement already satisfied: pytz>=2017.3 in c:\\users\\jay patel\\anaconda3\\lib\\site-packages (from pandas) (2021.1)\n",
      "Requirement already satisfied: python-dateutil>=2.7.3 in c:\\users\\jay patel\\anaconda3\\lib\\site-packages (from pandas) (2.8.1)\n",
      "Requirement already satisfied: numpy>=1.17.3 in c:\\users\\jay patel\\anaconda3\\lib\\site-packages (from pandas) (1.19.2)\n",
      "Requirement already satisfied: six>=1.5 in c:\\users\\jay patel\\anaconda3\\lib\\site-packages (from python-dateutil>=2.7.3->pandas) (1.15.0)\n"
     ]
    }
   ],
   "source": [
    "# Enter your code to install pandas\n",
    "!pip install pandas"
   ]
  },
  {
   "cell_type": "code",
   "execution_count": 10,
   "id": "Xyv1ReGDTVhA",
   "metadata": {
    "id": "Xyv1ReGDTVhA"
   },
   "outputs": [],
   "source": [
    "# Import numpy and Pandas in this cell\n",
    "import numpy as np\n",
    "import pandas as pd"
   ]
  },
  {
   "cell_type": "markdown",
   "id": "pmgqXpLLVpvF",
   "metadata": {
    "id": "pmgqXpLLVpvF"
   },
   "source": [
    "# APIs"
   ]
  },
  {
   "cell_type": "markdown",
   "id": "Kd7Qy4LEVsHF",
   "metadata": {
    "id": "Kd7Qy4LEVsHF"
   },
   "source": [
    "### Q11. Import the requests library and get the html page of www.google.com"
   ]
  },
  {
   "cell_type": "code",
   "execution_count": 11,
   "id": "c4b1cdc9-3fde-443a-a618-78c2f26bd05d",
   "metadata": {},
   "outputs": [],
   "source": [
    "import requests"
   ]
  },
  {
   "cell_type": "code",
   "execution_count": 13,
   "id": "2cf6cc3c-85ff-4fae-8af7-21a4971b46d0",
   "metadata": {},
   "outputs": [],
   "source": [
    "google=requests.get('https://www.google.com/')"
   ]
  },
  {
   "cell_type": "code",
   "execution_count": 14,
   "id": "c6318148-cbb9-4a31-b4de-5a2303a4bf5b",
   "metadata": {},
   "outputs": [
    {
     "name": "stdout",
     "output_type": "stream",
     "text": [
      "<!doctype html><html itemscope=\"\" itemtype=\"http://schema.org/WebPage\" lang=\"en-IN\"><head><meta content=\"text/html; charset=UTF-8\" http-equiv=\"Content-Type\"><meta content=\"/logos/doodles/2022/valentines-day-2022-6753651837109186.2-l.png\" itemprop=\"image\"><meta content=\"Valentine's Day 2022\" property=\"twitter:title\"><meta content=\"Happy Valentine's Day 2022! #GoogleDoodle\" property=\"twitter:description\"><meta content=\"Happy Valentine's Day 2022! #GoogleDoodle\" property=\"og:description\"><meta content=\"summary_large_image\" property=\"twitter:card\"><meta content=\"@GoogleDoodles\" property=\"twitter:site\"><meta content=\"https://www.google.com/logos/doodles/2022/valentines-day-2022-6753651837109186.4-2xa.gif\" property=\"twitter:image\"><meta content=\"https://www.google.com/logos/doodles/2022/valentines-day-2022-6753651837109186.4-2xa.gif\" property=\"og:image\"><meta content=\"909\" property=\"og:image:width\"><meta content=\"400\" property=\"og:image:height\"><meta content=\"https://www.google.com/logos/doodles/2022/valentines-day-2022-6753651837109186.4-2xa.gif\" property=\"og:url\"><meta content=\"video.other\" property=\"og:type\"><title>Google</title><script nonce=\"9x02nU/RlSaiaEAfxNbXIw==\">(function(){window.google={kEI:'ylYJYrSbAu-Xr7wPuMKciAc',kEXPI:'0,1302536,56873,6059,206,2414,2390,2316,383,246,5,1354,4013,1237,1122516,1197791,640,380059,16115,28684,17572,4858,1362,9290,3030,17579,4020,978,13228,3847,10622,22741,5081,1593,1279,2742,149,1103,840,2196,4101,108,3406,606,2023,1777,520,6342,8328,3227,1989,856,7,17450,11624,4696,908,2,941,2614,13142,3,576,1014,1,5444,149,11323,2652,4,1528,2304,6463,576,74,4610,17339,3050,2658,7357,30,11413,2215,2305,2132,16786,5818,2539,4094,17,4035,3,3541,1,16807,38,6866,18443,2,14022,1931,784,255,4550,743,5853,10463,1160,1311,4368,1021,2380,2718,18233,28,2,2,5,7754,2124,2444,2577,10,3671,6717,5300,2,4520,2089,4789,1253,5835,5658,2,8169,1139,4332,8,4669,340,1015,57,690,705,445,2,2,1,5656,5300,347,1196,2278,2529,5013,1872,437,1557,10,1,436,1047,6963,83,62,113,2453,685,2,1,1870,5,37,5,394,68,762,187,98,539,161,1,2,129,56,2,2260,8443,1207,690,4,9,1125,753,255,753,554,813,3198,147,830,340,451,9,2,354,88,946,816,855,147,69,425,909,635,932,1789,6,3,847,657,2414,109,1,26,108,200,99,1721,5480660,1153,8795535,1323,882,444,1,2,80,1,1796,1,9,2553,1,748,141,795,563,1,4265,1,1,2,1331,4142,2609,155,17,13,72,139,4,2,20,2,169,13,19,46,5,39,96,548,29,2,2,1,2,1,2,2,7,4,1,2,2,2,2,2,2,353,513,186,1,1,158,3,2,2,2,2,2,4,2,3,3,269,1601,141,348,43,2,179,10,1,52,3,2,4,23652497,299839,4041690,3,450,1964,1491,9,1435,159,1358,4726,3,927,318,20,1821,1858,565,681,75,1624',kBL:'DwE_'};google.sn='webhp';google.kHL='en-IN';})();(function(){\n",
      "var f=this||self;var h,k=[];function l(a){for(var b;a&&(!a.getAttribute||!(b=a.getAttribute(\"eid\")));)a=a.parentNode;return b||h}function m(a){for(var b=null;a&&(!a.getAttribute||!(b=a.getAttribute(\"leid\")));)a=a.parentNode;return b}\n",
      "function n(a,b,c,d,g){var e=\"\";c||-1!==b.search(\"&ei=\")||(e=\"&ei=\"+l(d),-1===b.search(\"&lei=\")&&(d=m(d))&&(e+=\"&lei=\"+d));d=\"\";!c&&f._cshid&&-1===b.search(\"&cshid=\")&&\"slh\"!==a&&(d=\"&cshid=\"+f._cshid);c=c||\"/\"+(g||\"gen_204\")+\"?atyp=i&ct=\"+a+\"&cad=\"+b+e+\"&zx=\"+Date.now()+d;/^http:/i.test(c)&&\"https:\"===window.location.protocol&&(google.ml&&google.ml(Error(\"a\"),!1,{src:c,glmm:1}),c=\"\");return c};h=google.kEI;google.getEI=l;google.getLEI=m;google.ml=function(){return null};google.log=function(a,b,c,d,g){if(c=n(a,b,c,d,g)){a=new Image;var e=k.length;k[e]=a;a.onerror=a.onload=a.onabort=function(){delete k[e]};a.src=c}};google.logUrl=n;}).call(this);(function(){\n",
      "google.y={};google.sy=[];google.x=function(a,b){if(a)var c=a.id;else{do c=Math.random();while(google.y[c])}google.y[c]=[a,b];return!1};google.sx=function(a){google.sy.push(a)};google.lm=[];google.plm=function(a){google.lm.push.apply(google.lm,a)};google.lq=[];google.load=function(a,b,c){google.lq.push([[a],b,c])};google.loadAll=function(a,b){google.lq.push([a,b])};google.bx=!1;google.lx=function(){};}).call(this);google.f={};(function(){\n",
      "document.documentElement.addEventListener(\"submit\",function(b){var a;if(a=b.target){var c=a.getAttribute(\"data-submitfalse\");a=\"1\"===c||\"q\"===c&&!a.elements.q.value?!0:!1}else a=!1;a&&(b.preventDefault(),b.stopPropagation())},!0);document.documentElement.addEventListener(\"click\",function(b){var a;a:{for(a=b.target;a&&a!==document.documentElement;a=a.parentElement)if(\"A\"===a.tagName){a=\"1\"===a.getAttribute(\"data-nohref\");break a}a=!1}a&&b.preventDefault()},!0);}).call(this);</script><style>#gbar,#guser{font-size:13px;padding-top:1px !important;}#gbar{height:22px}#guser{padding-bottom:7px !important;text-align:right}.gbh,.gbd{border-top:1px solid #c9d7f1;font-size:1px}.gbh{height:0;position:absolute;top:24px;width:100%}@media all{.gb1{height:22px;margin-right:.5em;vertical-align:top}#gbar{float:left}}a.gb1,a.gb4{text-decoration:underline !important}a.gb1,a.gb4{color:#00c !important}.gbi .gb4{color:#dd8e27 !important}.gbf .gb4{color:#900 !important}\n",
      "</style><style>body,td,a,p,.h{font-family:arial,sans-serif}body{margin:0;overflow-y:scroll}#gog{padding:3px 8px 0}td{line-height:.8em}.gac_m td{line-height:17px}form{margin-bottom:20px}.h{color:#1558d6}em{font-weight:bold;font-style:normal}.lst{height:25px;width:496px}.gsfi,.lst{font:18px arial,sans-serif}.gsfs{font:17px arial,sans-serif}.ds{display:inline-box;display:inline-block;margin:3px 0 4px;margin-left:4px}input{font-family:inherit}body{background:#fff;color:#000}a{color:#4b11a8;text-decoration:none}a:hover,a:active{text-decoration:underline}.fl a{color:#1558d6}a:visited{color:#4b11a8}.sblc{padding-top:5px}.sblc a{display:block;margin:2px 0;margin-left:13px;font-size:11px}.lsbb{background:#f8f9fa;border:solid 1px;border-color:#dadce0 #70757a #70757a #dadce0;height:30px}.lsbb{display:block}#WqQANb a{display:inline-block;margin:0 12px}.lsb{background:url(/images/nav_logo229.png) 0 -261px repeat-x;border:none;color:#000;cursor:pointer;height:30px;margin:0;outline:0;font:15px arial,sans-serif;vertical-align:top}.lsb:active{background:#dadce0}.lst:focus{outline:none}</style><script nonce=\"9x02nU/RlSaiaEAfxNbXIw==\">(function(){window.google.erd={jsr:1,bv:1529,de:true};\n",
      "var f=this||self;var g,h,k=null!==(g=f.mei)&&void 0!==g?g:1,l=null!==(h=f.sdo)&&void 0!==h?h:!0,p=0,q,r=google.erd,u=r.jsr;google.ml=function(a,b,d,m,c){c=void 0===c?2:c;b&&(q=a&&a.message);if(google.dl)return google.dl(a,c,d),null;if(0>u){window.console&&console.error(a,d);if(-2===u)throw a;b=!1}else b=!a||!a.message||\"Error loading script\"===a.message||p>=k&&!m?!1:!0;if(!b)return null;p++;d=d||{};var e=c;c=encodeURIComponent;b=\"/gen_204?atyp=i&ei=\"+c(google.kEI);google.kEXPI&&(b+=\"&jexpid=\"+c(google.kEXPI));b+=\"&srcpg=\"+c(google.sn)+\"&jsr=\"+c(r.jsr)+\"&bver=\"+c(r.bv)+(\"&jsel=\"+e);e=a.lineNumber;void 0!==e&&(b+=\"&line=\"+\n",
      "e);var n=a.fileName;n&&(b+=\"&script=\"+c(n),e&&n===window.location.href&&(e=document.documentElement.outerHTML.split(\"\\n\")[e],b+=\"&cad=\"+c(e?e.substring(0,300):\"No script found.\")));for(var t in d)b+=\"&\",b+=c(t),b+=\"=\",b+=c(d[t]);b=b+\"&emsg=\"+c(a.name+\": \"+a.message);b=b+\"&jsst=\"+c(a.stack||\"N/A\");12288<=b.length&&(b=b.substr(0,12288));a=b;m||google.log(0,\"\",a);return a};window.onerror=function(a,b,d,m,c){q!==a&&(a=c instanceof Error?c:Error(a),void 0===d||\"lineNumber\"in a||(a.lineNumber=d),void 0===b||\"fileName\"in a||(a.fileName=b),google.ml(a,!1,void 0,!1,\"SyntaxError\"===a.name||\"SyntaxError\"===a.message.substring(0,11)?2:0));q=null;l&&p>=k&&(window.onerror=null)};})();</script></head><body bgcolor=\"#fff\"><script nonce=\"9x02nU/RlSaiaEAfxNbXIw==\">(function(){var src='/images/nav_logo229.png';var iesg=false;document.body.onload = function(){window.n && window.n();if (document.images){new Image().src=src;}\n",
      "if (!iesg){document.f&&document.f.q.focus();document.gbqf&&document.gbqf.q.focus();}\n",
      "}\n",
      "})();</script><div id=\"mngb\"><div id=gbar><nobr><b class=gb1>Search</b> <a class=gb1 href=\"https://www.google.co.in/imghp?hl=en&tab=wi\">Images</a> <a class=gb1 href=\"https://maps.google.co.in/maps?hl=en&tab=wl\">Maps</a> <a class=gb1 href=\"https://play.google.com/?hl=en&tab=w8\">Play</a> <a class=gb1 href=\"https://www.youtube.com/?gl=IN&tab=w1\">YouTube</a> <a class=gb1 href=\"https://news.google.com/?tab=wn\">News</a> <a class=gb1 href=\"https://mail.google.com/mail/?tab=wm\">Gmail</a> <a class=gb1 href=\"https://drive.google.com/?tab=wo\">Drive</a> <a class=gb1 style=\"text-decoration:none\" href=\"https://www.google.co.in/intl/en/about/products?tab=wh\"><u>More</u> &raquo;</a></nobr></div><div id=guser width=100%><nobr><span id=gbn class=gbi></span><span id=gbf class=gbf></span><span id=gbe></span><a href=\"http://www.google.co.in/history/optout?hl=en\" class=gb4>Web History</a> | <a  href=\"/preferences?hl=en\" class=gb4>Settings</a> | <a target=_top id=gb_70 href=\"https://accounts.google.com/ServiceLogin?hl=en&passive=true&continue=https://www.google.com/&ec=GAZAAQ\" class=gb4>Sign in</a></nobr></div><div class=gbh style=left:0></div><div class=gbh style=right:0></div></div><center><br clear=\"all\" id=\"lgpd\"><div id=\"lga\"><a href=\"/search?ie=UTF-8&amp;q=Valentine%27s+Day&amp;oi=ddle&amp;ct=174788753&amp;hl=en-GB&amp;si=ANhW_NqMq05hm_NHatki2oB83qRn9HU6YTauVAJv82wgMbWR1cT7rovFvpEBQSnF3qfD4Osi1QW1gpNqATKgRxisnWyUFe_8DcovD-e8f7Ez9INvBGdhWVM%3D&amp;sa=X&amp;ved=0ahUKEwi0qLGEsP31AhXvy4sBHTghB3EQPQgD\"><img alt=\"Valentine's Day 2022\" border=\"0\" height=\"200\" src=\"/logos/doodles/2022/valentines-day-2022-6753651837109186.2-l.png\" title=\"Valentine's Day 2022\" width=\"455\" id=\"hplogo\"><br></a><br></div><form action=\"/search\" name=\"f\"><table cellpadding=\"0\" cellspacing=\"0\"><tr valign=\"top\"><td width=\"25%\">&nbsp;</td><td align=\"center\" nowrap=\"\"><input name=\"ie\" value=\"ISO-8859-1\" type=\"hidden\"><input value=\"en-IN\" name=\"hl\" type=\"hidden\"><input name=\"source\" type=\"hidden\" value=\"hp\"><input name=\"biw\" type=\"hidden\"><input name=\"bih\" type=\"hidden\"><div class=\"ds\" style=\"height:32px;margin:4px 0\"><input class=\"lst\" style=\"margin:0;padding:5px 8px 0 6px;vertical-align:top;color:#000\" autocomplete=\"off\" value=\"\" title=\"Google Search\" maxlength=\"2048\" name=\"q\" size=\"57\"></div><br style=\"line-height:0\"><span class=\"ds\"><span class=\"lsbb\"><input class=\"lsb\" value=\"Google Search\" name=\"btnG\" type=\"submit\"></span></span><span class=\"ds\"><span class=\"lsbb\"><input class=\"lsb\" id=\"tsuid1\" value=\"I'm Feeling Lucky\" name=\"btnI\" type=\"submit\"><script nonce=\"9x02nU/RlSaiaEAfxNbXIw==\">(function(){var id='tsuid1';document.getElementById(id).onclick = function(){if (this.form.q.value){this.checked = 1;if (this.form.iflsig)this.form.iflsig.disabled = false;}\n",
      "else top.location='/doodles/';};})();</script><input value=\"AHkkrS4AAAAAYglk2jHQzU9p5ktglaJuuHJ1o70i-UCq\" name=\"iflsig\" type=\"hidden\"></span></span></td><td class=\"fl sblc\" align=\"left\" nowrap=\"\" width=\"25%\"><a href=\"/advanced_search?hl=en-IN&amp;authuser=0\">Advanced search</a></td></tr></table><input id=\"gbv\" name=\"gbv\" type=\"hidden\" value=\"1\"><script nonce=\"9x02nU/RlSaiaEAfxNbXIw==\">(function(){\n",
      "var a,b=\"1\";if(document&&document.getElementById)if(\"undefined\"!=typeof XMLHttpRequest)b=\"2\";else if(\"undefined\"!=typeof ActiveXObject){var c,d,e=[\"MSXML2.XMLHTTP.6.0\",\"MSXML2.XMLHTTP.3.0\",\"MSXML2.XMLHTTP\",\"Microsoft.XMLHTTP\"];for(c=0;d=e[c++];)try{new ActiveXObject(d),b=\"2\"}catch(h){}}a=b;if(\"2\"==a&&-1==location.search.indexOf(\"&gbv=2\")){var f=google.gbvu,g=document.getElementById(\"gbv\");g&&(g.value=a);f&&window.setTimeout(function(){location.href=f},0)};}).call(this);</script></form><div id=\"gac_scont\"></div><div style=\"font-size:83%;min-height:3.5em\"><br><div id=\"gws-output-pages-elements-homepage_additional_languages__als\"><style>#gws-output-pages-elements-homepage_additional_languages__als{font-size:small;margin-bottom:24px}#SIvCob{color:#3c4043;display:inline-block;line-height:28px;}#SIvCob a{padding:0 3px;}.H6sW5{display:inline-block;margin:0 2px;white-space:nowrap}.z4hgWe{display:inline-block;margin:0 2px}</style><div id=\"SIvCob\">Google offered in:  <a href=\"https://www.google.com/setprefs?sig=0_0T2_DZvyt-Ca0R58vq6EEJkTSuI%3D&amp;hl=hi&amp;source=homepage&amp;sa=X&amp;ved=0ahUKEwi0qLGEsP31AhXvy4sBHTghB3EQ2ZgBCAU\">&#2361;&#2367;&#2344;&#2381;&#2342;&#2368;</a>    <a href=\"https://www.google.com/setprefs?sig=0_0T2_DZvyt-Ca0R58vq6EEJkTSuI%3D&amp;hl=bn&amp;source=homepage&amp;sa=X&amp;ved=0ahUKEwi0qLGEsP31AhXvy4sBHTghB3EQ2ZgBCAY\">&#2476;&#2494;&#2434;&#2482;&#2494;</a>    <a href=\"https://www.google.com/setprefs?sig=0_0T2_DZvyt-Ca0R58vq6EEJkTSuI%3D&amp;hl=te&amp;source=homepage&amp;sa=X&amp;ved=0ahUKEwi0qLGEsP31AhXvy4sBHTghB3EQ2ZgBCAc\">&#3108;&#3142;&#3122;&#3137;&#3095;&#3137;</a>    <a href=\"https://www.google.com/setprefs?sig=0_0T2_DZvyt-Ca0R58vq6EEJkTSuI%3D&amp;hl=mr&amp;source=homepage&amp;sa=X&amp;ved=0ahUKEwi0qLGEsP31AhXvy4sBHTghB3EQ2ZgBCAg\">&#2350;&#2352;&#2366;&#2336;&#2368;</a>    <a href=\"https://www.google.com/setprefs?sig=0_0T2_DZvyt-Ca0R58vq6EEJkTSuI%3D&amp;hl=ta&amp;source=homepage&amp;sa=X&amp;ved=0ahUKEwi0qLGEsP31AhXvy4sBHTghB3EQ2ZgBCAk\">&#2980;&#2990;&#3007;&#2996;&#3021;</a>    <a href=\"https://www.google.com/setprefs?sig=0_0T2_DZvyt-Ca0R58vq6EEJkTSuI%3D&amp;hl=gu&amp;source=homepage&amp;sa=X&amp;ved=0ahUKEwi0qLGEsP31AhXvy4sBHTghB3EQ2ZgBCAo\">&#2711;&#2753;&#2716;&#2736;&#2750;&#2724;&#2752;</a>    <a href=\"https://www.google.com/setprefs?sig=0_0T2_DZvyt-Ca0R58vq6EEJkTSuI%3D&amp;hl=kn&amp;source=homepage&amp;sa=X&amp;ved=0ahUKEwi0qLGEsP31AhXvy4sBHTghB3EQ2ZgBCAs\">&#3221;&#3240;&#3277;&#3240;&#3233;</a>    <a href=\"https://www.google.com/setprefs?sig=0_0T2_DZvyt-Ca0R58vq6EEJkTSuI%3D&amp;hl=ml&amp;source=homepage&amp;sa=X&amp;ved=0ahUKEwi0qLGEsP31AhXvy4sBHTghB3EQ2ZgBCAw\">&#3374;&#3378;&#3375;&#3390;&#3379;&#3330;</a>    <a href=\"https://www.google.com/setprefs?sig=0_0T2_DZvyt-Ca0R58vq6EEJkTSuI%3D&amp;hl=pa&amp;source=homepage&amp;sa=X&amp;ved=0ahUKEwi0qLGEsP31AhXvy4sBHTghB3EQ2ZgBCA0\">&#2602;&#2672;&#2588;&#2622;&#2604;&#2624;</a>  </div></div></div><span id=\"footer\"><div style=\"font-size:10pt\"><div style=\"margin:19px auto;text-align:center\" id=\"WqQANb\"><a href=\"/intl/en/ads/\">Advertising Programs</a><a href=\"http://www.google.co.in/services/\">Business Solutions</a><a href=\"/intl/en/about.html\">About Google</a><a href=\"https://www.google.com/setprefdomain?prefdom=IN&amp;prev=https://www.google.co.in/&amp;sig=K_kkwgLLkLG8qx8ywltb6_fYrNWrk%3D\">Google.co.in</a></div></div><p style=\"font-size:8pt;color:#70757a\">&copy; 2022 - <a href=\"/intl/en/policies/privacy/\">Privacy</a> - <a href=\"/intl/en/policies/terms/\">Terms</a></p></span></center><script nonce=\"9x02nU/RlSaiaEAfxNbXIw==\">(function(){window.google.cdo={height:757,width:1440};(function(){\n",
      "var a=window.innerWidth,b=window.innerHeight;if(!a||!b){var c=window.document,d=\"CSS1Compat\"==c.compatMode?c.documentElement:c.body;a=d.clientWidth;b=d.clientHeight}a&&b&&(a!=google.cdo.width||b!=google.cdo.height)&&google.log(\"\",\"\",\"/client_204?&atyp=i&biw=\"+a+\"&bih=\"+b+\"&ei=\"+google.kEI);}).call(this);})();</script> <script nonce=\"9x02nU/RlSaiaEAfxNbXIw==\">(function(){google.xjs={ck:'',cs:'',excm:[]};})();</script>  <script nonce=\"9x02nU/RlSaiaEAfxNbXIw==\">(function(){var u='/xjs/_/js/k\\x3dxjs.hp.en.syj10ODtUPY.O/am\\x3dAPAEAEACkA/d\\x3d1/ed\\x3d1/esmo\\x3d1/rs\\x3dACT90oFONrrpSc0WzO0b108d-e5n8M0V6w/m\\x3dsb_he,d';\n",
      "var e=this||self,f=function(a){return a};var g;var l=function(a,b){this.g=b===h?a:\"\"};l.prototype.toString=function(){return this.g+\"\"};var h={};\n",
      "function m(){var a=u;google.lx=function(){n(a);google.lx=function(){}};google.bx||google.lx()}\n",
      "function n(a){google.timers&&google.timers.load&&google.tick&&google.tick(\"load\",\"xjsls\");var b=document;var c=\"SCRIPT\";\"application/xhtml+xml\"===b.contentType&&(c=c.toLowerCase());c=b.createElement(c);if(void 0===g){b=null;var k=e.trustedTypes;if(k&&k.createPolicy){try{b=k.createPolicy(\"goog#html\",{createHTML:f,createScript:f,createScriptURL:f})}catch(p){e.console&&e.console.error(p.message)}g=b}else g=b}a=(b=g)?b.createScriptURL(a):a;a=new l(a,h);c.src=a instanceof l&&a.constructor===l?a.g:\"type_error:TrustedResourceUrl\";var d;a=(c.ownerDocument&&c.ownerDocument.defaultView||window).document;(d=(b=null===(d=a.querySelector)||void 0===d?void 0:d.call(a,\"script[nonce]\"))?b.nonce||b.getAttribute(\"nonce\")||\"\":\"\")&&c.setAttribute(\"nonce\",d);document.body.appendChild(c);google.psa=!0};google.xjsu=u;setTimeout(function(){m()},0);})();function _DumpException(e){throw e;}\n",
      "function _F_installCss(c){}\n",
      "(function(){google.jl={attn:false,blt:'none',chnk:0,dw:false,dwu:true,emtn:0,end:0,ine:false,lls:'default',pdt:0,rep:0,snet:true,strt:0,ubm:false,uwp:true};})();(function(){var pmc='{\\x22d\\x22:{},\\x22sb_he\\x22:{\\x22agen\\x22:true,\\x22cgen\\x22:true,\\x22client\\x22:\\x22heirloom-hp\\x22,\\x22dh\\x22:true,\\x22dhqt\\x22:true,\\x22ds\\x22:\\x22\\x22,\\x22ffql\\x22:\\x22en\\x22,\\x22fl\\x22:true,\\x22host\\x22:\\x22google.com\\x22,\\x22isbh\\x22:28,\\x22jsonp\\x22:true,\\x22msgs\\x22:{\\x22cibl\\x22:\\x22Clear Search\\x22,\\x22dym\\x22:\\x22Did you mean:\\x22,\\x22lcky\\x22:\\x22I\\\\u0026#39;m Feeling Lucky\\x22,\\x22lml\\x22:\\x22Learn more\\x22,\\x22oskt\\x22:\\x22Input tools\\x22,\\x22psrc\\x22:\\x22This search was removed from your \\\\u003Ca href\\x3d\\\\\\x22/history\\\\\\x22\\\\u003EWeb History\\\\u003C/a\\\\u003E\\x22,\\x22psrl\\x22:\\x22Remove\\x22,\\x22sbit\\x22:\\x22Search by image\\x22,\\x22srch\\x22:\\x22Google Search\\x22},\\x22ovr\\x22:{},\\x22pq\\x22:\\x22\\x22,\\x22refpd\\x22:true,\\x22rfs\\x22:[],\\x22sbas\\x22:\\x220 3px 8px 0 rgba(0,0,0,0.2),0 0 0 1px rgba(0,0,0,0.08)\\x22,\\x22sbpl\\x22:16,\\x22sbpr\\x22:16,\\x22scd\\x22:10,\\x22stok\\x22:\\x222kUPWYKexqgFvcASUo-c1-Doqo8\\x22,\\x22uhde\\x22:false}}';google.pmc=JSON.parse(pmc);})();</script>        </body></html>\n"
     ]
    }
   ],
   "source": [
    "print(google.text)"
   ]
  },
  {
   "cell_type": "markdown",
   "id": "ukukpk3IVz91",
   "metadata": {
    "id": "ukukpk3IVz91"
   },
   "source": [
    "### Q12. [Agify](https://agify.io/) API is a platform that predicts the age based on your age, follow the website to find the end point which enables you to do that and find out your age prediction."
   ]
  },
  {
   "cell_type": "code",
   "execution_count": 18,
   "id": "e2f1a679-5b6e-4e48-97d5-d6a007cc44a9",
   "metadata": {},
   "outputs": [
    {
     "data": {
      "text/plain": [
       "<Response [200]>"
      ]
     },
     "execution_count": 18,
     "metadata": {},
     "output_type": "execute_result"
    }
   ],
   "source": [
    "age_predict=requests.get('https://agify.io/')\n",
    "age_predict"
   ]
  },
  {
   "cell_type": "code",
   "execution_count": 19,
   "id": "99d844ff-7737-4845-924a-7f743f018ab8",
   "metadata": {},
   "outputs": [
    {
     "data": {
      "text/plain": [
       "['__attrs__',\n",
       " '__bool__',\n",
       " '__class__',\n",
       " '__delattr__',\n",
       " '__dict__',\n",
       " '__dir__',\n",
       " '__doc__',\n",
       " '__enter__',\n",
       " '__eq__',\n",
       " '__exit__',\n",
       " '__format__',\n",
       " '__ge__',\n",
       " '__getattribute__',\n",
       " '__getstate__',\n",
       " '__gt__',\n",
       " '__hash__',\n",
       " '__init__',\n",
       " '__init_subclass__',\n",
       " '__iter__',\n",
       " '__le__',\n",
       " '__lt__',\n",
       " '__module__',\n",
       " '__ne__',\n",
       " '__new__',\n",
       " '__nonzero__',\n",
       " '__reduce__',\n",
       " '__reduce_ex__',\n",
       " '__repr__',\n",
       " '__setattr__',\n",
       " '__setstate__',\n",
       " '__sizeof__',\n",
       " '__str__',\n",
       " '__subclasshook__',\n",
       " '__weakref__',\n",
       " '_content',\n",
       " '_content_consumed',\n",
       " '_next',\n",
       " 'apparent_encoding',\n",
       " 'close',\n",
       " 'connection',\n",
       " 'content',\n",
       " 'cookies',\n",
       " 'elapsed',\n",
       " 'encoding',\n",
       " 'headers',\n",
       " 'history',\n",
       " 'is_permanent_redirect',\n",
       " 'is_redirect',\n",
       " 'iter_content',\n",
       " 'iter_lines',\n",
       " 'json',\n",
       " 'links',\n",
       " 'next',\n",
       " 'ok',\n",
       " 'raise_for_status',\n",
       " 'raw',\n",
       " 'reason',\n",
       " 'request',\n",
       " 'status_code',\n",
       " 'text',\n",
       " 'url']"
      ]
     },
     "execution_count": 19,
     "metadata": {},
     "output_type": "execute_result"
    }
   ],
   "source": [
    "dir(age_predict)"
   ]
  },
  {
   "cell_type": "code",
   "execution_count": 20,
   "id": "b4ac05da-bb3a-4c04-a7c7-f9b3f7571f07",
   "metadata": {},
   "outputs": [
    {
     "name": "stdout",
     "output_type": "stream",
     "text": [
      "https://agify.io/\n"
     ]
    }
   ],
   "source": [
    "print(age_predict.url)"
   ]
  },
  {
   "cell_type": "code",
   "execution_count": 21,
   "id": "98704c6c-a3db-4659-873d-1e563e735573",
   "metadata": {},
   "outputs": [
    {
     "name": "stdout",
     "output_type": "stream",
     "text": [
      "<!DOCTYPE html>\n",
      "<html lang=\"en\">\n",
      "    <head>\n",
      "        <meta charset=\"utf-8\">\n",
      "        <meta http-equiv=\"X-UA-Compatible\" content=\"IE=edge\">\n",
      "        <meta name=\"viewport\" content=\"width=device-width, initial-scale=1\">\n",
      "        <meta name=\"author\" content=\"Agify.io\">\n",
      "        <title>Agify.io | Predict the age of a name</title>\n",
      "        <meta name=\"description\" content=\"Free API to check and predict the age of a name. Use the API for research, ad targeting, user segmenting etc.\">\n",
      "        <link rel=\"canonical\" href=\"https://agify.io\">\n",
      "        <link rel=\"icon\" type=\"image/png\" href=\"https://agify.io/favicon.png\">\n",
      "        <link rel=\"stylesheet\" href=\"https://fonts.googleapis.com/css?family=Fauna+One|Roboto:300,400,500\">\n",
      "        <script async src=\"https://www.googletagmanager.com/gtag/js?id=UA-42909663-2\"></script>\n",
      "        <script>\n",
      "            window.dataLayer = window.dataLayer || [];\n",
      "            function gtag(){dataLayer.push(arguments);}\n",
      "            gtag('js', new Date());\n",
      "\n",
      "            gtag('config', 'UA-42909663-2');\n",
      "        </script>\n",
      "        <style>\n",
      "            html, body, #agify {\n",
      "                margin: 0;\n",
      "                padding: 0;\n",
      "                height: 100%;\n",
      "                width: 100%;\n",
      "                max-width: 100%;\n",
      "                background-color: #fefefe;\n",
      "            }\n",
      "        </style>\n",
      "    </head>\n",
      "    <body>\n",
      "        <div id=\"agify\"></div>\n",
      "        <script src=\"https://agify.io/js/Agify.js\"></script>\n",
      "    </body>\n",
      "</html>\n",
      "\n"
     ]
    }
   ],
   "source": [
    "print(age_predict.text)"
   ]
  },
  {
   "cell_type": "code",
   "execution_count": 25,
   "id": "ae255968-8936-4f24-af8b-7f3f4ccce439",
   "metadata": {},
   "outputs": [
    {
     "data": {
      "text/plain": [
       "<bound method Response.json of <Response [200]>>"
      ]
     },
     "execution_count": 25,
     "metadata": {},
     "output_type": "execute_result"
    }
   ],
   "source": [
    "age_predict=requests.get('https://api.agify.io?name=jay')\n",
    "age=age_predict.json\n",
    "age"
   ]
  },
  {
   "cell_type": "markdown",
   "id": "Fm2GNZIgI2Fz",
   "metadata": {
    "id": "Fm2GNZIgI2Fz"
   },
   "source": [
    "## Special questions\n",
    "\n",
    "Try attempting these questions to get a hang of jsonilding logic and getting more comfortable with using various functions of python."
   ]
  },
  {
   "cell_type": "markdown",
   "id": "55ac9f0b",
   "metadata": {
    "id": "8372ccee"
   },
   "source": [
    "### Q13. Add a new column to the csv file.\n",
    "\n",
    "CSV's are like excel files, except they are stored as raw data text files and each columns are separated by commas.\n",
    "\n",
    "In this exercise, you will process the ```sales.csv``` file. \n",
    "\n",
    "The file contains 3 columns:\n",
    "\n",
    "- month: Month of the record.\n",
    "- retail_sales: Total retail sales of that month.\n",
    "- wholesale_sales: Total wholesale sales of that month.\n",
    "\n",
    "Your task is to create a new column called ```total_sales``` which is a sum of ```retail_sales``` and ```wholesale_sales```.\n",
    "\n",
    "Consider the sample input below:\n",
    "\n",
    "| date         | retail_sales     | wholesale_sales |\n",
    "|:-:|:-:|:-:|\n",
    "| 01-01-2021 | 200      | 100        |\n",
    "| 01-01-2021 | 399  | 50       |\n",
    "| 01-01-2021 | 500  | 40       |\n",
    "| 01-01-2021 | 200  | 20       |\n",
    "\n",
    "Expected table:\n",
    "\n",
    "| date         | retail_sales     | wholesale_sales | total_sales |\n",
    "|:-:|:-:|:-:|:-:|\n",
    "| 01-01-2021 | 200      | 100        | 300 |\n",
    "| 01-01-2021 | 399  | 50       | 449 |\n",
    "| 01-01-2021 | 500  | 40       | 540 |\n",
    "| 01-01-2021 | 200  | 20       | 220 |"
   ]
  },
  {
   "cell_type": "code",
   "execution_count": 30,
   "id": "02df7d66-5480-4173-9a62-d5b60595a3b4",
   "metadata": {},
   "outputs": [
    {
     "data": {
      "text/plain": [
       "'C:\\\\Users\\\\Jay Patel\\\\OneDrive\\\\Desktop\\\\Machine Learning Plus\\\\Advance-Expert Python Week-2\\\\Assignment\\\\Assessment questions WK02_part_2.ipynb'"
      ]
     },
     "execution_count": 30,
     "metadata": {},
     "output_type": "execute_result"
    }
   ],
   "source": [
    "pwd()"
   ]
  },
  {
   "cell_type": "code",
   "execution_count": 32,
   "id": "188465fc-36ca-47df-aa3e-bc626b697c0b",
   "metadata": {},
   "outputs": [
    {
     "data": {
      "text/html": [
       "<div>\n",
       "<style scoped>\n",
       "    .dataframe tbody tr th:only-of-type {\n",
       "        vertical-align: middle;\n",
       "    }\n",
       "\n",
       "    .dataframe tbody tr th {\n",
       "        vertical-align: top;\n",
       "    }\n",
       "\n",
       "    .dataframe thead th {\n",
       "        text-align: right;\n",
       "    }\n",
       "</style>\n",
       "<table border=\"1\" class=\"dataframe\">\n",
       "  <thead>\n",
       "    <tr style=\"text-align: right;\">\n",
       "      <th></th>\n",
       "      <th>date</th>\n",
       "      <th>retail_sales</th>\n",
       "      <th>wholesale_sales</th>\n",
       "    </tr>\n",
       "  </thead>\n",
       "  <tbody>\n",
       "    <tr>\n",
       "      <th>0</th>\n",
       "      <td>01/01/21</td>\n",
       "      <td>100</td>\n",
       "      <td>50</td>\n",
       "    </tr>\n",
       "    <tr>\n",
       "      <th>1</th>\n",
       "      <td>01/02/21</td>\n",
       "      <td>120</td>\n",
       "      <td>60</td>\n",
       "    </tr>\n",
       "    <tr>\n",
       "      <th>2</th>\n",
       "      <td>01/03/21</td>\n",
       "      <td>110</td>\n",
       "      <td>55</td>\n",
       "    </tr>\n",
       "    <tr>\n",
       "      <th>3</th>\n",
       "      <td>01/04/21</td>\n",
       "      <td>130</td>\n",
       "      <td>45</td>\n",
       "    </tr>\n",
       "    <tr>\n",
       "      <th>4</th>\n",
       "      <td>01/05/21</td>\n",
       "      <td>150</td>\n",
       "      <td>78</td>\n",
       "    </tr>\n",
       "  </tbody>\n",
       "</table>\n",
       "</div>"
      ],
      "text/plain": [
       "       date  retail_sales  wholesale_sales\n",
       "0  01/01/21           100               50\n",
       "1  01/02/21           120               60\n",
       "2  01/03/21           110               55\n",
       "3  01/04/21           130               45\n",
       "4  01/05/21           150               78"
      ]
     },
     "execution_count": 32,
     "metadata": {},
     "output_type": "execute_result"
    }
   ],
   "source": [
    "import pandas as pd\n",
    "sales=pd.read_csv(r'sales.csv')\n",
    "sales.head()"
   ]
  },
  {
   "cell_type": "code",
   "execution_count": 33,
   "id": "d6ba581c-8651-4921-9653-658be318d37c",
   "metadata": {},
   "outputs": [
    {
     "data": {
      "text/html": [
       "<div>\n",
       "<style scoped>\n",
       "    .dataframe tbody tr th:only-of-type {\n",
       "        vertical-align: middle;\n",
       "    }\n",
       "\n",
       "    .dataframe tbody tr th {\n",
       "        vertical-align: top;\n",
       "    }\n",
       "\n",
       "    .dataframe thead th {\n",
       "        text-align: right;\n",
       "    }\n",
       "</style>\n",
       "<table border=\"1\" class=\"dataframe\">\n",
       "  <thead>\n",
       "    <tr style=\"text-align: right;\">\n",
       "      <th></th>\n",
       "      <th>date</th>\n",
       "      <th>retail_sales</th>\n",
       "      <th>wholesale_sales</th>\n",
       "      <th>total_sales</th>\n",
       "    </tr>\n",
       "  </thead>\n",
       "  <tbody>\n",
       "    <tr>\n",
       "      <th>0</th>\n",
       "      <td>01/01/21</td>\n",
       "      <td>100</td>\n",
       "      <td>50</td>\n",
       "      <td>150</td>\n",
       "    </tr>\n",
       "    <tr>\n",
       "      <th>1</th>\n",
       "      <td>01/02/21</td>\n",
       "      <td>120</td>\n",
       "      <td>60</td>\n",
       "      <td>180</td>\n",
       "    </tr>\n",
       "    <tr>\n",
       "      <th>2</th>\n",
       "      <td>01/03/21</td>\n",
       "      <td>110</td>\n",
       "      <td>55</td>\n",
       "      <td>165</td>\n",
       "    </tr>\n",
       "    <tr>\n",
       "      <th>3</th>\n",
       "      <td>01/04/21</td>\n",
       "      <td>130</td>\n",
       "      <td>45</td>\n",
       "      <td>175</td>\n",
       "    </tr>\n",
       "    <tr>\n",
       "      <th>4</th>\n",
       "      <td>01/05/21</td>\n",
       "      <td>150</td>\n",
       "      <td>78</td>\n",
       "      <td>228</td>\n",
       "    </tr>\n",
       "  </tbody>\n",
       "</table>\n",
       "</div>"
      ],
      "text/plain": [
       "       date  retail_sales  wholesale_sales  total_sales\n",
       "0  01/01/21           100               50          150\n",
       "1  01/02/21           120               60          180\n",
       "2  01/03/21           110               55          165\n",
       "3  01/04/21           130               45          175\n",
       "4  01/05/21           150               78          228"
      ]
     },
     "execution_count": 33,
     "metadata": {},
     "output_type": "execute_result"
    }
   ],
   "source": [
    "sales['total_sales']=sales['retail_sales'] + sales['wholesale_sales']\n",
    "sales.head()"
   ]
  },
  {
   "cell_type": "markdown",
   "id": "6b349572",
   "metadata": {},
   "source": [
    "### Q14. Open Weather API\n",
    "\n",
    "[Open weather API](https://openweathermap.org/api) is a platform that provides weather information across the world.\n",
    "\n",
    "Your task is to get the difference in the current temperature between the city of Bengaluru and New York.\n",
    "\n",
    "This task will also be a good opportunity to get a feel of how to read official documentation and get help. Go to the Open Weather API website and find out how you can get the necessary details."
   ]
  },
  {
   "cell_type": "code",
   "execution_count": 50,
   "id": "1e7e7fd9-b21f-4725-a5d8-20a998477568",
   "metadata": {},
   "outputs": [
    {
     "name": "stdout",
     "output_type": "stream",
     "text": [
      "{\"cod\":\"404\",\"message\":\"city not found\"}\n"
     ]
    }
   ],
   "source": [
    "city_id='1564623'\n",
    "weather_predict=requests.get(f'http://api.openweathermap.org/data/2.5/weather?id={city_id}&appid={API_key}')\n",
    "weather_predict\n",
    "print(weather_predict.text)"
   ]
  },
  {
   "cell_type": "markdown",
   "id": "702e211f",
   "metadata": {},
   "source": [
    "<div class=\"alert alert-info\" style=\"background-color:red; color:white; padding:0px 10px; border-radius:5px;text-align:center;font-weight: bold;\"><h5 style='margin:10px 5px'>PLEASE NOTE THAT YOUR API KEY IS CONFIDENTIAL, PLEASE REMOVE YOUR API KEY BEFORE SUBMITTING THE ASSIGNMENT</h5>\n",
    "</div>"
   ]
  },
  {
   "cell_type": "markdown",
   "id": "9cbad0d7",
   "metadata": {},
   "source": [
    "### Q15. Check if there are duplicate elements in a list.\n",
    "\n",
    "Eg:\n",
    "\n",
    "Input: [1, 2, 3, 4, 5, 6]\n",
    "Output: All elements are unique\n",
    "\n",
    "Eg:\n",
    "\n",
    "Input [1, 2, 3, 4, 5, 6, 1]\n",
    "Ouptut: There is a duplicate element in the list."
   ]
  },
  {
   "cell_type": "code",
   "execution_count": 53,
   "id": "285a30d8-ef7f-472a-b5c3-069e79d254a6",
   "metadata": {},
   "outputs": [],
   "source": [
    "def duplicate_element(inputt):\n",
    "    if len(inputt)==len(set(inputt)):\n",
    "        return 'No Duplicate element'\n",
    "    else:\n",
    "        return 'Duplicate element'"
   ]
  },
  {
   "cell_type": "code",
   "execution_count": 54,
   "id": "8c609c31-3669-4bda-a188-442521a6a7b1",
   "metadata": {},
   "outputs": [
    {
     "data": {
      "text/plain": [
       "'No Duplicate element'"
      ]
     },
     "execution_count": 54,
     "metadata": {},
     "output_type": "execute_result"
    }
   ],
   "source": [
    "duplicate_element([1,2,3,4,5,6])"
   ]
  },
  {
   "cell_type": "code",
   "execution_count": 55,
   "id": "10880cf3-8460-4588-9205-de3a3c910dba",
   "metadata": {},
   "outputs": [
    {
     "data": {
      "text/plain": [
       "'Duplicate element'"
      ]
     },
     "execution_count": 55,
     "metadata": {},
     "output_type": "execute_result"
    }
   ],
   "source": [
    "duplicate_element([1, 2, 3, 4, 5, 6, 1])\n"
   ]
  },
  {
   "cell_type": "code",
   "execution_count": null,
   "id": "4cbdc5ef-de38-4891-985d-3670ac571f9a",
   "metadata": {},
   "outputs": [],
   "source": []
  }
 ],
 "metadata": {
  "colab": {
   "collapsed_sections": [
    "7b22fecc",
    "bb5235a8",
    "2416e343",
    "Inkva21hTv_4",
    "97b1838c"
   ],
   "name": "Assessment questions WK02_part_1.ipynb",
   "provenance": []
  },
  "kernelspec": {
   "display_name": "Python 3",
   "language": "python",
   "name": "python3"
  },
  "language_info": {
   "codemirror_mode": {
    "name": "ipython",
    "version": 3
   },
   "file_extension": ".py",
   "mimetype": "text/x-python",
   "name": "python",
   "nbconvert_exporter": "python",
   "pygments_lexer": "ipython3",
   "version": "3.8.8"
  }
 },
 "nbformat": 4,
 "nbformat_minor": 5
}
