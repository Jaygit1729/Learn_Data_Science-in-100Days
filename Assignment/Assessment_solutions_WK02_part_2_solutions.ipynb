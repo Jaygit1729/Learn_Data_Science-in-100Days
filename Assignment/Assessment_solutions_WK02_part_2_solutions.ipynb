{
  "nbformat": 4,
  "nbformat_minor": 0,
  "metadata": {
    "colab": {
      "name": "Assessment questions WK02_part_2_solutions.ipynb",
      "provenance": [],
      "collapsed_sections": []
    },
    "kernelspec": {
      "name": "python3",
      "display_name": "Python 3"
    },
    "language_info": {
      "name": "python"
    }
  },
  "cells": [
    {
      "cell_type": "markdown",
      "metadata": {
        "id": "c2865234"
      },
      "source": [
        "# Advanced Python"
      ]
    },
    {
      "cell_type": "markdown",
      "metadata": {
        "id": "7e07c312"
      },
      "source": [
        "### Q1. Write a _lambda_ function to convert degree farenheit to degree celsius"
      ]
    },
    {
      "cell_type": "code",
      "execution_count": null,
      "metadata": {
        "id": "02900ef1"
      },
      "outputs": [],
      "source": [
        "# Input\n",
        "temp_in_farenheit = 120"
      ]
    },
    {
      "cell_type": "code",
      "execution_count": null,
      "metadata": {
        "id": "f4490b03",
        "colab": {
          "base_uri": "https://localhost:8080/"
        },
        "outputId": "51359a03-4dc5-4020-9c2e-4831b4d00560"
      },
      "outputs": [
        {
          "output_type": "stream",
          "name": "stdout",
          "text": [
            "48.88888888888889\n"
          ]
        }
      ],
      "source": [
        "#Solution\n",
        "farenheit = 120\n",
        "\n",
        "celsius = (lambda x: (x-32)*(5/9))(farenheit)\n",
        "\n",
        "print(celsius)"
      ]
    },
    {
      "cell_type": "markdown",
      "metadata": {
        "id": "sR1h8_y3pXXT"
      },
      "source": [
        "### Q2. Write a _lambda_ function to find the largest of 2 numbers."
      ]
    },
    {
      "cell_type": "code",
      "execution_count": null,
      "metadata": {
        "id": "U0giNneepgVt",
        "colab": {
          "base_uri": "https://localhost:8080/"
        },
        "outputId": "251cdf9a-6dd0-4927-cbb9-b5c1be27303e"
      },
      "outputs": [
        {
          "output_type": "stream",
          "name": "stdout",
          "text": [
            "largest number is\n",
            "30\n"
          ]
        }
      ],
      "source": [
        "#Solution\n",
        "a = 20\n",
        "b = 30\n",
        "\n",
        "print(\"largest number is\")\n",
        "(lambda x,y: print(x) if x>y else print(y) )(a,b)"
      ]
    },
    {
      "cell_type": "markdown",
      "metadata": {
        "id": "a2bff2f5"
      },
      "source": [
        "### Q3. Write the input_timestamp function decorator which is a function that adds timestamp to the return string\n",
        "\n",
        "Consider the following function:\n",
        "\n",
        "```py\n",
        "def add_timestamp(args):\n",
        "    # Write your code here.\n",
        "\n",
        "@add_timestamp\n",
        "def print_list(str_list: list):\n",
        "    return str(str_list)\n",
        "```"
      ]
    },
    {
      "cell_type": "markdown",
      "metadata": {
        "id": "92595539"
      },
      "source": [
        "Finish the ```add_timestamp``` function so that we get the following outputs for the inputs.\n",
        "\n",
        "Eg:\n",
        "\n",
        "Input: [1, 2, 3, 4] \n",
        "\n",
        "Output: \"[1, 2, 3, 4] - %d-%m-%y %H:%M:%S\"."
      ]
    },
    {
      "cell_type": "code",
      "execution_count": null,
      "metadata": {
        "id": "275bcfe1",
        "colab": {
          "base_uri": "https://localhost:8080/"
        },
        "outputId": "26b36a75-89de-40a3-c30d-36d592afd566"
      },
      "outputs": [
        {
          "output_type": "stream",
          "name": "stdout",
          "text": [
            "[1, 2, 3]-2022-02-14 04:00:59.271630 \n"
          ]
        }
      ],
      "source": [
        "import datetime\n",
        "\n",
        "def add_timestamp(myfunc):\n",
        "    def wrapper_func(*args, **kwargs):\n",
        "        lst = myfunc(*args, **kwargs)\n",
        "        print(f\"{lst}-{datetime.datetime.now()} \")\n",
        "    return wrapper_func\n",
        "    # Write your code here.\n",
        "\n",
        "@add_timestamp\n",
        "def print_list(str_list: list):\n",
        "    return str(str_list)\n",
        "    \n",
        "print_list([1,2,3])"
      ]
    },
    {
      "cell_type": "markdown",
      "metadata": {
        "id": "388c19f4"
      },
      "source": [
        "### Q4. Write an iterator class that iterates from 1 to 100."
      ]
    },
    {
      "cell_type": "code",
      "execution_count": null,
      "metadata": {
        "id": "16713aeb",
        "colab": {
          "base_uri": "https://localhost:8080/"
        },
        "outputId": "d97deb19-5aba-4087-d300-3a04745af854"
      },
      "outputs": [
        {
          "output_type": "stream",
          "name": "stdout",
          "text": [
            "1\n",
            "2\n",
            "3\n",
            "4\n",
            "5\n",
            "6\n",
            "7\n",
            "8\n",
            "9\n",
            "10\n",
            "11\n",
            "12\n",
            "13\n",
            "14\n",
            "15\n",
            "16\n",
            "17\n",
            "18\n",
            "19\n",
            "20\n",
            "21\n",
            "22\n",
            "23\n",
            "24\n",
            "25\n",
            "26\n",
            "27\n",
            "28\n",
            "29\n",
            "30\n",
            "31\n",
            "32\n",
            "33\n",
            "34\n",
            "35\n",
            "36\n",
            "37\n",
            "38\n",
            "39\n",
            "40\n",
            "41\n",
            "42\n",
            "43\n",
            "44\n",
            "45\n",
            "46\n",
            "47\n",
            "48\n",
            "49\n",
            "50\n",
            "51\n",
            "52\n",
            "53\n",
            "54\n",
            "55\n",
            "56\n",
            "57\n",
            "58\n",
            "59\n",
            "60\n",
            "61\n",
            "62\n",
            "63\n",
            "64\n",
            "65\n",
            "66\n",
            "67\n",
            "68\n",
            "69\n",
            "70\n",
            "71\n",
            "72\n",
            "73\n",
            "74\n",
            "75\n",
            "76\n",
            "77\n",
            "78\n",
            "79\n",
            "80\n",
            "81\n",
            "82\n",
            "83\n",
            "84\n",
            "85\n",
            "86\n",
            "87\n",
            "88\n",
            "89\n",
            "90\n",
            "91\n",
            "92\n",
            "93\n",
            "94\n",
            "95\n",
            "96\n",
            "97\n",
            "98\n",
            "99\n",
            "100\n"
          ]
        }
      ],
      "source": [
        "# Enter your solution here\n",
        "\n",
        "class NumberIterator(object):\n",
        "  #A iterator that iterates from 1 to 100\n",
        "    def __init__(self, start, end):\n",
        "        self.start = start\n",
        "        self.end = end\n",
        "\n",
        "    def __iter__(self):\n",
        "        return self\n",
        "\n",
        "    def __next__(self):\n",
        "        start = self.start\n",
        " \n",
        "        # Stop iteration if limit is reached\n",
        "        if start > self.end:\n",
        "            raise StopIteration\n",
        " \n",
        "        # Else increment and return old value\n",
        "        self.start = start + 1;\n",
        "        return start\n",
        "for i in NumberIterator(1,100):\n",
        "  print(i)"
      ]
    },
    {
      "cell_type": "markdown",
      "metadata": {
        "id": "e703c24e"
      },
      "source": [
        "### Q5. Write an iterator class that gets initialized with a datetime stamp and a unit of time increment. That iterates over the next timestep with the specified unit of increment.\n",
        "\n",
        "EG 1:\n",
        "\n",
        "Input: **Starting Timestamp:** 8th Feb 2022 12:00:00, **time increment:** 1 hour\n",
        "Output: 8th Feb 2022 13:00:00, 8th Feb 2022 14:00:00, 8th Feb 2022 15:00:00, 8th Feb 2022 16:00:00 and so on\n",
        "\n",
        "EG 2:\n",
        "\n",
        "\n",
        "Input: **Starting Timestamp:** 20th Feb 2022 12:00:00, **time increment:** 5 days\n",
        "Output: 25th Feb 2022 13:00:00, 2nd March 2022 13:00:00, 7th March 2022 13:00:00, 12th March 2022 13:00:00 and so on"
      ]
    },
    {
      "cell_type": "code",
      "execution_count": null,
      "metadata": {
        "id": "a66a85cf",
        "colab": {
          "base_uri": "https://localhost:8080/"
        },
        "outputId": "bc01bf0a-dd87-4849-b1d7-ebae4295e878"
      },
      "outputs": [
        {
          "output_type": "stream",
          "name": "stdout",
          "text": [
            "2022-02-14 04:28:04.954650\n",
            "2022-02-14 05:28:04.954650\n",
            "2022-02-14 06:28:04.954650\n",
            "2022-02-14 07:28:04.954650\n",
            "2022-02-14 08:28:04.954650\n",
            "2022-02-14 09:28:04.954650\n",
            "2022-02-14 10:28:04.954650\n",
            "2022-02-14 11:28:04.954650\n",
            "2022-02-14 12:28:04.954650\n",
            "2022-02-14 13:28:04.954650\n"
          ]
        }
      ],
      "source": [
        "# Enter your solution here\n",
        "# Enter your solution here\n",
        "import datetime\n",
        "\n",
        "class TimeIterator(object):\n",
        "  #A iterator that iterates from 1 to 100\n",
        "    def __init__(self, start, unit,limit):\n",
        "        self.start = start\n",
        "        self.unit = unit\n",
        "        self.limit = limit\n",
        "        self.num = 0\n",
        "\n",
        "    def __iter__(self):\n",
        "        return self\n",
        "\n",
        "    def __next__(self):\n",
        "        # Store current value of start\n",
        "        start = self.start\n",
        "\n",
        "        # Stop iteration if limit is reached\n",
        "        self.num  = self.num +1\n",
        "        if self.num > self.limit:\n",
        "            raise StopIteration\n",
        "\n",
        "        self.start = start + datetime.timedelta(hours = self.unit)\n",
        "        return start\n",
        "\n",
        "i = TimeIterator(datetime.datetime.now(),1,10)\n",
        "for x in i:\n",
        "  print(x)"
      ]
    },
    {
      "cell_type": "markdown",
      "metadata": {
        "id": "e6fe6962"
      },
      "source": [
        "### Q6. Create a generator object that generates numbers in the fibonacci series."
      ]
    },
    {
      "cell_type": "code",
      "execution_count": null,
      "metadata": {
        "id": "cc00c11a",
        "colab": {
          "base_uri": "https://localhost:8080/"
        },
        "outputId": "34c41814-7e4f-4685-95da-a1f7bd68e20e"
      },
      "outputs": [
        {
          "output_type": "stream",
          "name": "stdout",
          "text": [
            "0\n",
            "1\n",
            "1\n",
            "2\n",
            "3\n",
            "5\n",
            "8\n",
            "13\n",
            "21\n",
            "34\n"
          ]
        }
      ],
      "source": [
        "\n",
        "def fibonacci_series(end):\n",
        "    #intialize\n",
        "    x, y = 0, 1\n",
        "  \n",
        "    # One by one yield next Fibonacci Number\n",
        "    while x < end:\n",
        "        yield x\n",
        "        x, y = y, x + y\n",
        "  \n",
        "  \n",
        "# in loop.\n",
        "for i in fibonacci_series(50): \n",
        "    print(i)"
      ]
    },
    {
      "cell_type": "markdown",
      "metadata": {
        "id": "Inkva21hTv_4"
      },
      "source": [
        "# Modules"
      ]
    },
    {
      "cell_type": "markdown",
      "metadata": {
        "id": "R3RzsxYkTyn2"
      },
      "source": [
        "### Q7. Import named tuple from the collections module"
      ]
    },
    {
      "cell_type": "code",
      "execution_count": null,
      "metadata": {
        "id": "uBtBwn8JT9Em"
      },
      "outputs": [],
      "source": [
        "from collections import namedtuple"
      ]
    },
    {
      "cell_type": "markdown",
      "metadata": {
        "id": "P2l1PAvzT80G"
      },
      "source": [
        "### Q8. Define a named tuple type called employee with properties name, age, salary."
      ]
    },
    {
      "cell_type": "code",
      "execution_count": null,
      "metadata": {
        "id": "g4VTMcDRUK-1"
      },
      "outputs": [],
      "source": [
        "# Declaring namedtuple()\n",
        "employee = namedtuple('employee', ['name', 'age', 'salary'])"
      ]
    },
    {
      "cell_type": "markdown",
      "metadata": {
        "id": "SpRIKzclULYV"
      },
      "source": [
        "### Q9. Using the employee named tuple, create an employee with name=John, age=28, salary=5000."
      ]
    },
    {
      "cell_type": "code",
      "source": [
        "John = employee('John', '28', 50000)\n",
        "print(John.name, John.age, John.salary)"
      ],
      "metadata": {
        "colab": {
          "base_uri": "https://localhost:8080/"
        },
        "id": "_6IcW514rpyH",
        "outputId": "f2727182-bb5c-4a08-ff97-8b8e34470e1d"
      },
      "execution_count": null,
      "outputs": [
        {
          "output_type": "stream",
          "name": "stdout",
          "text": [
            "John 28 50000\n"
          ]
        }
      ]
    },
    {
      "cell_type": "markdown",
      "metadata": {
        "id": "97b1838c"
      },
      "source": [
        "# Pip"
      ]
    },
    {
      "cell_type": "markdown",
      "metadata": {
        "id": "b426af1e"
      },
      "source": [
        "### Q10. Using pip install numpy and pandas packages."
      ]
    },
    {
      "cell_type": "code",
      "execution_count": null,
      "metadata": {
        "id": "431537bc",
        "colab": {
          "base_uri": "https://localhost:8080/"
        },
        "outputId": "68069b6d-5bfb-453d-a1dc-022188877b3a"
      },
      "outputs": [
        {
          "output_type": "stream",
          "name": "stdout",
          "text": [
            "Requirement already satisfied: numpy in /usr/local/lib/python3.7/dist-packages (1.19.5)\n"
          ]
        }
      ],
      "source": [
        "#Enter your code to install numpy\n",
        "!pip install numpy"
      ]
    },
    {
      "cell_type": "code",
      "execution_count": null,
      "metadata": {
        "id": "4ddb41d0",
        "colab": {
          "base_uri": "https://localhost:8080/"
        },
        "outputId": "a07ce51f-6405-4216-c936-2273f6b3d668"
      },
      "outputs": [
        {
          "output_type": "stream",
          "name": "stdout",
          "text": [
            "Requirement already satisfied: pandas in /usr/local/lib/python3.7/dist-packages (1.3.5)\n",
            "Requirement already satisfied: pytz>=2017.3 in /usr/local/lib/python3.7/dist-packages (from pandas) (2018.9)\n",
            "Requirement already satisfied: numpy>=1.17.3 in /usr/local/lib/python3.7/dist-packages (from pandas) (1.19.5)\n",
            "Requirement already satisfied: python-dateutil>=2.7.3 in /usr/local/lib/python3.7/dist-packages (from pandas) (2.8.2)\n",
            "Requirement already satisfied: six>=1.5 in /usr/local/lib/python3.7/dist-packages (from python-dateutil>=2.7.3->pandas) (1.15.0)\n"
          ]
        }
      ],
      "source": [
        "# Enter your code to install pandas\n",
        "!pip install pandas"
      ]
    },
    {
      "cell_type": "code",
      "execution_count": null,
      "metadata": {
        "id": "Xyv1ReGDTVhA"
      },
      "outputs": [],
      "source": [
        "# Import numpy and Pandas in this cell\n",
        "import numpy as np\n",
        "import pandas as pd"
      ]
    },
    {
      "cell_type": "markdown",
      "metadata": {
        "id": "pmgqXpLLVpvF"
      },
      "source": [
        "# APIs"
      ]
    },
    {
      "cell_type": "markdown",
      "metadata": {
        "id": "Kd7Qy4LEVsHF"
      },
      "source": [
        "### Q11. Import the requests library and get the html page of www.google.com"
      ]
    },
    {
      "cell_type": "code",
      "source": [
        "import requests"
      ],
      "metadata": {
        "id": "-X57i_gfsorL"
      },
      "execution_count": null,
      "outputs": []
    },
    {
      "cell_type": "code",
      "source": [
        "print(requests.get(url = 'https://google.com').text)"
      ],
      "metadata": {
        "colab": {
          "base_uri": "https://localhost:8080/"
        },
        "id": "KnW29xK8suto",
        "outputId": "cba6520f-67bc-4941-d4bb-cef12ab0ea7f"
      },
      "execution_count": null,
      "outputs": [
        {
          "output_type": "stream",
          "name": "stdout",
          "text": [
            "<!doctype html><html itemscope=\"\" itemtype=\"http://schema.org/WebPage\" lang=\"en\"><head><meta content=\"Search the world's information, including webpages, images, videos and more. Google has many special features to help you find exactly what you're looking for.\" name=\"description\"><meta content=\"noodp\" name=\"robots\"><meta content=\"text/html; charset=UTF-8\" http-equiv=\"Content-Type\"><meta content=\"/images/branding/googleg/1x/googleg_standard_color_128dp.png\" itemprop=\"image\"><title>Google</title><script nonce=\"pusCqXufR2YgsvE4A/szqw==\">(function(){window.google={kEI:'Hr4NYrWjB9GqwbkPz8KliAw',kEXPI:'0,1302532,56876,1711,4349,206,4804,2316,383,246,5,1354,4013,923,315,2944,1119571,1197761,640,380090,16114,8183,9261,1954,9286,17572,4858,1362,9291,3024,17584,4020,978,13228,3847,4192,6430,7432,15309,2370,4305,1278,2743,148,1103,840,1983,4314,109,4011,2023,1777,520,6344,8326,3227,2845,7,17450,14396,1924,908,2,7338,8927,432,3,1590,1,5445,148,11323,991,1661,4,1528,656,1648,7039,20309,1714,3050,2658,7357,30,13628,2305,675,1457,15351,1435,5815,2542,4094,4052,3,3541,1,14711,2096,38,21544,3765,2,14022,1931,442,342,255,2993,1557,126,617,5853,9321,1142,1160,5679,1021,2380,2719,18296,1,8,7718,4567,2588,2777,891,6726,1,10386,6308,830,422,5835,13840,1127,4333,2204,2083,390,1354,58,1395,445,2,2,1,1385,4278,731,4395,1710,587,8360,3180,1559,10,1,436,288,404,2,353,7002,106,113,5053,5,466,758,180,7,568,230,1,2,3,8,118,56,2,3712,2669,4322,881,326,1831,749,39,1589,260,489,1249,312,2,1633,148,30,1591,9,2,56,12,286,93,1752,5,244,611,1550,635,52,2025,660,3,525,117,194,658,2411,17,4,49,16,30,1,272,1,402,3,387,83,106,249,3637,5477670,99,760,5995935,2801217,882,444,1,2,80,1,1796,1,2562,1,748,141,795,563,1,4265,1,1,2,1331,4142,2609,155,17,13,72,139,4,2,20,2,169,13,19,46,5,39,96,548,29,2,2,1,2,1,2,2,7,4,1,2,2,2,2,2,2,353,513,186,1,1,158,3,2,2,2,2,2,4,2,3,3,269,1601,141,394,183,61,64,13,1,140,30,5,1,23952088,2773820,88207,1179663,3,450,1964,1491,9,1435,159,1358,4726,3,927,322,17,901,497,1801,1056,668',kBL:'bMqx'};google.sn='webhp';google.kHL='en';})();(function(){\n",
            "var f=this||self;var h,k=[];function l(a){for(var b;a&&(!a.getAttribute||!(b=a.getAttribute(\"eid\")));)a=a.parentNode;return b||h}function m(a){for(var b=null;a&&(!a.getAttribute||!(b=a.getAttribute(\"leid\")));)a=a.parentNode;return b}\n",
            "function n(a,b,c,d,g){var e=\"\";c||-1!==b.search(\"&ei=\")||(e=\"&ei=\"+l(d),-1===b.search(\"&lei=\")&&(d=m(d))&&(e+=\"&lei=\"+d));d=\"\";!c&&f._cshid&&-1===b.search(\"&cshid=\")&&\"slh\"!==a&&(d=\"&cshid=\"+f._cshid);c=c||\"/\"+(g||\"gen_204\")+\"?atyp=i&ct=\"+a+\"&cad=\"+b+e+\"&zx=\"+Date.now()+d;/^http:/i.test(c)&&\"https:\"===window.location.protocol&&(google.ml&&google.ml(Error(\"a\"),!1,{src:c,glmm:1}),c=\"\");return c};h=google.kEI;google.getEI=l;google.getLEI=m;google.ml=function(){return null};google.log=function(a,b,c,d,g){if(c=n(a,b,c,d,g)){a=new Image;var e=k.length;k[e]=a;a.onerror=a.onload=a.onabort=function(){delete k[e]};a.src=c}};google.logUrl=n;}).call(this);(function(){\n",
            "google.y={};google.sy=[];google.x=function(a,b){if(a)var c=a.id;else{do c=Math.random();while(google.y[c])}google.y[c]=[a,b];return!1};google.sx=function(a){google.sy.push(a)};google.lm=[];google.plm=function(a){google.lm.push.apply(google.lm,a)};google.lq=[];google.load=function(a,b,c){google.lq.push([[a],b,c])};google.loadAll=function(a,b){google.lq.push([a,b])};google.bx=!1;google.lx=function(){};}).call(this);google.f={};(function(){\n",
            "document.documentElement.addEventListener(\"submit\",function(b){var a;if(a=b.target){var c=a.getAttribute(\"data-submitfalse\");a=\"1\"===c||\"q\"===c&&!a.elements.q.value?!0:!1}else a=!1;a&&(b.preventDefault(),b.stopPropagation())},!0);document.documentElement.addEventListener(\"click\",function(b){var a;a:{for(a=b.target;a&&a!==document.documentElement;a=a.parentElement)if(\"A\"===a.tagName){a=\"1\"===a.getAttribute(\"data-nohref\");break a}a=!1}a&&b.preventDefault()},!0);}).call(this);</script><style>#gbar,#guser{font-size:13px;padding-top:1px !important;}#gbar{height:22px}#guser{padding-bottom:7px !important;text-align:right}.gbh,.gbd{border-top:1px solid #c9d7f1;font-size:1px}.gbh{height:0;position:absolute;top:24px;width:100%}@media all{.gb1{height:22px;margin-right:.5em;vertical-align:top}#gbar{float:left}}a.gb1,a.gb4{text-decoration:underline !important}a.gb1,a.gb4{color:#00c !important}.gbi .gb4{color:#dd8e27 !important}.gbf .gb4{color:#900 !important}\n",
            "</style><style>body,td,a,p,.h{font-family:arial,sans-serif}body{margin:0;overflow-y:scroll}#gog{padding:3px 8px 0}td{line-height:.8em}.gac_m td{line-height:17px}form{margin-bottom:20px}.h{color:#1558d6}em{font-weight:bold;font-style:normal}.lst{height:25px;width:496px}.gsfi,.lst{font:18px arial,sans-serif}.gsfs{font:17px arial,sans-serif}.ds{display:inline-box;display:inline-block;margin:3px 0 4px;margin-left:4px}input{font-family:inherit}body{background:#fff;color:#000}a{color:#4b11a8;text-decoration:none}a:hover,a:active{text-decoration:underline}.fl a{color:#1558d6}a:visited{color:#4b11a8}.sblc{padding-top:5px}.sblc a{display:block;margin:2px 0;margin-left:13px;font-size:11px}.lsbb{background:#f8f9fa;border:solid 1px;border-color:#dadce0 #70757a #70757a #dadce0;height:30px}.lsbb{display:block}#WqQANb a{display:inline-block;margin:0 12px}.lsb{background:url(/images/nav_logo229.png) 0 -261px repeat-x;border:none;color:#000;cursor:pointer;height:30px;margin:0;outline:0;font:15px arial,sans-serif;vertical-align:top}.lsb:active{background:#dadce0}.lst:focus{outline:none}</style><script nonce=\"pusCqXufR2YgsvE4A/szqw==\">(function(){window.google.erd={jsr:1,bv:1534,de:true};\n",
            "var f=this||self;var g,h,k=null!==(g=f.mei)&&void 0!==g?g:1,l=null!==(h=f.sdo)&&void 0!==h?h:!0,p=0,q,r=google.erd,u=r.jsr;google.ml=function(a,b,d,m,c){c=void 0===c?2:c;b&&(q=a&&a.message);if(google.dl)return google.dl(a,c,d),null;if(0>u){window.console&&console.error(a,d);if(-2===u)throw a;b=!1}else b=!a||!a.message||\"Error loading script\"===a.message||p>=k&&!m?!1:!0;if(!b)return null;p++;d=d||{};var e=c;c=encodeURIComponent;b=\"/gen_204?atyp=i&ei=\"+c(google.kEI);google.kEXPI&&(b+=\"&jexpid=\"+c(google.kEXPI));b+=\"&srcpg=\"+c(google.sn)+\"&jsr=\"+c(r.jsr)+\"&bver=\"+c(r.bv)+(\"&jsel=\"+e);e=a.lineNumber;void 0!==e&&(b+=\"&line=\"+\n",
            "e);var n=a.fileName;n&&(b+=\"&script=\"+c(n),e&&n===window.location.href&&(e=document.documentElement.outerHTML.split(\"\\n\")[e],b+=\"&cad=\"+c(e?e.substring(0,300):\"No script found.\")));for(var t in d)b+=\"&\",b+=c(t),b+=\"=\",b+=c(d[t]);b=b+\"&emsg=\"+c(a.name+\": \"+a.message);b=b+\"&jsst=\"+c(a.stack||\"N/A\");12288<=b.length&&(b=b.substr(0,12288));a=b;m||google.log(0,\"\",a);return a};window.onerror=function(a,b,d,m,c){q!==a&&(a=c instanceof Error?c:Error(a),void 0===d||\"lineNumber\"in a||(a.lineNumber=d),void 0===b||\"fileName\"in a||(a.fileName=b),google.ml(a,!1,void 0,!1,\"SyntaxError\"===a.name||\"SyntaxError\"===a.message.substring(0,11)?2:0));q=null;l&&p>=k&&(window.onerror=null)};})();</script></head><body bgcolor=\"#fff\"><script nonce=\"pusCqXufR2YgsvE4A/szqw==\">(function(){var src='/images/nav_logo229.png';var iesg=false;document.body.onload = function(){window.n && window.n();if (document.images){new Image().src=src;}\n",
            "if (!iesg){document.f&&document.f.q.focus();document.gbqf&&document.gbqf.q.focus();}\n",
            "}\n",
            "})();</script><div id=\"mngb\"><div id=gbar><nobr><b class=gb1>Search</b> <a class=gb1 href=\"https://www.google.com/imghp?hl=en&tab=wi\">Images</a> <a class=gb1 href=\"https://maps.google.com/maps?hl=en&tab=wl\">Maps</a> <a class=gb1 href=\"https://play.google.com/?hl=en&tab=w8\">Play</a> <a class=gb1 href=\"https://www.youtube.com/?gl=US&tab=w1\">YouTube</a> <a class=gb1 href=\"https://news.google.com/?tab=wn\">News</a> <a class=gb1 href=\"https://mail.google.com/mail/?tab=wm\">Gmail</a> <a class=gb1 href=\"https://drive.google.com/?tab=wo\">Drive</a> <a class=gb1 style=\"text-decoration:none\" href=\"https://www.google.com/intl/en/about/products?tab=wh\"><u>More</u> &raquo;</a></nobr></div><div id=guser width=100%><nobr><span id=gbn class=gbi></span><span id=gbf class=gbf></span><span id=gbe></span><a href=\"http://www.google.com/history/optout?hl=en\" class=gb4>Web History</a> | <a  href=\"/preferences?hl=en\" class=gb4>Settings</a> | <a target=_top id=gb_70 href=\"https://accounts.google.com/ServiceLogin?hl=en&passive=true&continue=https://www.google.com/&ec=GAZAAQ\" class=gb4>Sign in</a></nobr></div><div class=gbh style=left:0></div><div class=gbh style=right:0></div></div><center><br clear=\"all\" id=\"lgpd\"><div id=\"lga\"><img alt=\"Google\" height=\"92\" src=\"/images/branding/googlelogo/1x/googlelogo_white_background_color_272x92dp.png\" style=\"padding:28px 0 14px\" width=\"272\" id=\"hplogo\"><br><br></div><form action=\"/search\" name=\"f\"><table cellpadding=\"0\" cellspacing=\"0\"><tr valign=\"top\"><td width=\"25%\">&nbsp;</td><td align=\"center\" nowrap=\"\"><input name=\"ie\" value=\"ISO-8859-1\" type=\"hidden\"><input value=\"en\" name=\"hl\" type=\"hidden\"><input name=\"source\" type=\"hidden\" value=\"hp\"><input name=\"biw\" type=\"hidden\"><input name=\"bih\" type=\"hidden\"><div class=\"ds\" style=\"height:32px;margin:4px 0\"><input class=\"lst\" style=\"margin:0;padding:5px 8px 0 6px;vertical-align:top;color:#000\" autocomplete=\"off\" value=\"\" title=\"Google Search\" maxlength=\"2048\" name=\"q\" size=\"57\"></div><br style=\"line-height:0\"><span class=\"ds\"><span class=\"lsbb\"><input class=\"lsb\" value=\"Google Search\" name=\"btnG\" type=\"submit\"></span></span><span class=\"ds\"><span class=\"lsbb\"><input class=\"lsb\" id=\"tsuid1\" value=\"I'm Feeling Lucky\" name=\"btnI\" type=\"submit\"><script nonce=\"pusCqXufR2YgsvE4A/szqw==\">(function(){var id='tsuid1';document.getElementById(id).onclick = function(){if (this.form.q.value){this.checked = 1;if (this.form.iflsig)this.form.iflsig.disabled = false;}\n",
            "else top.location='/doodles/';};})();</script><input value=\"AHkkrS4AAAAAYg3MLuYVO3UFwLCqrIByr01vfMvfgRAI\" name=\"iflsig\" type=\"hidden\"></span></span></td><td class=\"fl sblc\" align=\"left\" nowrap=\"\" width=\"25%\"><a href=\"/advanced_search?hl=en&amp;authuser=0\">Advanced search</a></td></tr></table><input id=\"gbv\" name=\"gbv\" type=\"hidden\" value=\"1\"><script nonce=\"pusCqXufR2YgsvE4A/szqw==\">(function(){\n",
            "var a,b=\"1\";if(document&&document.getElementById)if(\"undefined\"!=typeof XMLHttpRequest)b=\"2\";else if(\"undefined\"!=typeof ActiveXObject){var c,d,e=[\"MSXML2.XMLHTTP.6.0\",\"MSXML2.XMLHTTP.3.0\",\"MSXML2.XMLHTTP\",\"Microsoft.XMLHTTP\"];for(c=0;d=e[c++];)try{new ActiveXObject(d),b=\"2\"}catch(h){}}a=b;if(\"2\"==a&&-1==location.search.indexOf(\"&gbv=2\")){var f=google.gbvu,g=document.getElementById(\"gbv\");g&&(g.value=a);f&&window.setTimeout(function(){location.href=f},0)};}).call(this);</script></form><div id=\"gac_scont\"></div><div style=\"font-size:83%;min-height:3.5em\"><br></div><span id=\"footer\"><div style=\"font-size:10pt\"><div style=\"margin:19px auto;text-align:center\" id=\"WqQANb\"><a href=\"/intl/en/ads/\">Advertising Programs</a><a href=\"/services/\">Business Solutions</a><a href=\"/intl/en/about.html\">About Google</a></div></div><p style=\"font-size:8pt;color:#70757a\">&copy; 2022 - <a href=\"/intl/en/policies/privacy/\">Privacy</a> - <a href=\"/intl/en/policies/terms/\">Terms</a></p></span></center><script nonce=\"pusCqXufR2YgsvE4A/szqw==\">(function(){window.google.cdo={height:757,width:1440};(function(){\n",
            "var a=window.innerWidth,b=window.innerHeight;if(!a||!b){var c=window.document,d=\"CSS1Compat\"==c.compatMode?c.documentElement:c.body;a=d.clientWidth;b=d.clientHeight}a&&b&&(a!=google.cdo.width||b!=google.cdo.height)&&google.log(\"\",\"\",\"/client_204?&atyp=i&biw=\"+a+\"&bih=\"+b+\"&ei=\"+google.kEI);}).call(this);})();</script> <script nonce=\"pusCqXufR2YgsvE4A/szqw==\">(function(){google.xjs={ck:'',cs:'',excm:[]};})();</script>  <script nonce=\"pusCqXufR2YgsvE4A/szqw==\">(function(){var u='/xjs/_/js/k\\x3dxjs.hp.en_US.EqfqtWPtbSs.O/am\\x3dAOAJAIAEIAE/d\\x3d1/ed\\x3d1/esmo\\x3d1/rs\\x3dACT90oEYkMyUDww4Ez7-cCEzFoqTeHZjRQ/m\\x3dsb_he,d';\n",
            "var e=this||self,f=function(a){return a};var g;var l=function(a,b){this.g=b===h?a:\"\"};l.prototype.toString=function(){return this.g+\"\"};var h={};\n",
            "function m(){var a=u;google.lx=function(){n(a);google.lx=function(){}};google.bx||google.lx()}\n",
            "function n(a){google.timers&&google.timers.load&&google.tick&&google.tick(\"load\",\"xjsls\");var b=document;var c=\"SCRIPT\";\"application/xhtml+xml\"===b.contentType&&(c=c.toLowerCase());c=b.createElement(c);if(void 0===g){b=null;var k=e.trustedTypes;if(k&&k.createPolicy){try{b=k.createPolicy(\"goog#html\",{createHTML:f,createScript:f,createScriptURL:f})}catch(p){e.console&&e.console.error(p.message)}g=b}else g=b}a=(b=g)?b.createScriptURL(a):a;a=new l(a,h);c.src=a instanceof l&&a.constructor===l?a.g:\"type_error:TrustedResourceUrl\";var d;a=(c.ownerDocument&&c.ownerDocument.defaultView||window).document;(d=(b=null===(d=a.querySelector)||void 0===d?void 0:d.call(a,\"script[nonce]\"))?b.nonce||b.getAttribute(\"nonce\")||\"\":\"\")&&c.setAttribute(\"nonce\",d);document.body.appendChild(c);google.psa=!0};google.xjsu=u;setTimeout(function(){m()},0);})();function _DumpException(e){throw e;}\n",
            "function _F_installCss(c){}\n",
            "(function(){google.jl={attn:false,blt:'none',chnk:0,dw:false,dwu:true,emtn:0,end:0,ine:false,lls:'default',pdt:0,rep:0,snet:true,strt:0,ubm:false,uwp:true};})();(function(){var pmc='{\\x22d\\x22:{},\\x22sb_he\\x22:{\\x22agen\\x22:true,\\x22cgen\\x22:true,\\x22client\\x22:\\x22heirloom-hp\\x22,\\x22dh\\x22:true,\\x22dhqt\\x22:true,\\x22ds\\x22:\\x22\\x22,\\x22ffql\\x22:\\x22en\\x22,\\x22fl\\x22:true,\\x22host\\x22:\\x22google.com\\x22,\\x22isbh\\x22:28,\\x22jsonp\\x22:true,\\x22msgs\\x22:{\\x22cibl\\x22:\\x22Clear Search\\x22,\\x22dym\\x22:\\x22Did you mean:\\x22,\\x22lcky\\x22:\\x22I\\\\u0026#39;m Feeling Lucky\\x22,\\x22lml\\x22:\\x22Learn more\\x22,\\x22oskt\\x22:\\x22Input tools\\x22,\\x22psrc\\x22:\\x22This search was removed from your \\\\u003Ca href\\x3d\\\\\\x22/history\\\\\\x22\\\\u003EWeb History\\\\u003C/a\\\\u003E\\x22,\\x22psrl\\x22:\\x22Remove\\x22,\\x22sbit\\x22:\\x22Search by image\\x22,\\x22srch\\x22:\\x22Google Search\\x22},\\x22ovr\\x22:{},\\x22pq\\x22:\\x22\\x22,\\x22refpd\\x22:true,\\x22rfs\\x22:[],\\x22sbas\\x22:\\x220 3px 8px 0 rgba(0,0,0,0.2),0 0 0 1px rgba(0,0,0,0.08)\\x22,\\x22sbpl\\x22:16,\\x22sbpr\\x22:16,\\x22scd\\x22:10,\\x22stok\\x22:\\x229DcaA8RnZ5zPXqvDhwDL6ircVao\\x22,\\x22uhde\\x22:false}}';google.pmc=JSON.parse(pmc);})();</script>        </body></html>\n"
          ]
        }
      ]
    },
    {
      "cell_type": "markdown",
      "metadata": {
        "id": "ukukpk3IVz91"
      },
      "source": [
        "### Q12. [Agify](https://agify.io/) API is a platform that predicts the age based on your name, follow the website to find the end point which enables you to do that and find out your age prediction."
      ]
    },
    {
      "cell_type": "code",
      "source": [
        "name = 'john'\n",
        "response = requests.get(f\"https://api.agify.io?name={name}\")"
      ],
      "metadata": {
        "id": "LT5eeuno05HX"
      },
      "execution_count": null,
      "outputs": []
    },
    {
      "cell_type": "code",
      "source": [
        "response.json()['age']"
      ],
      "metadata": {
        "colab": {
          "base_uri": "https://localhost:8080/"
        },
        "id": "sslpqLjB19He",
        "outputId": "fc5a9f6d-d1ad-412f-d9f1-efa42915cc39"
      },
      "execution_count": null,
      "outputs": [
        {
          "output_type": "execute_result",
          "data": {
            "text/plain": [
              "58"
            ]
          },
          "metadata": {},
          "execution_count": 11
        }
      ]
    },
    {
      "cell_type": "markdown",
      "metadata": {
        "id": "Fm2GNZIgI2Fz"
      },
      "source": [
        "## Special questions\n",
        "\n",
        "Try attempting these questions to get a hang of building logic and getting more comfortable with using various functions of python."
      ]
    },
    {
      "cell_type": "markdown",
      "metadata": {
        "id": "55ac9f0b"
      },
      "source": [
        "### Q13. Add a new column to the csv file.\n",
        "\n",
        "CSV's are like excel files, except they are stored as raw data text files and each columns are separated by commas.\n",
        "\n",
        "In this exercise, you will process the ```sales.csv``` file. \n",
        "\n",
        "The file contains 3 columns:\n",
        "\n",
        "- month: Month of the record.\n",
        "- retail_sales: Total retail sales of that month.\n",
        "- wholesale_sales: Total wholesale sales of that month.\n",
        "\n",
        "Your task is to create a new column called ```total_sales``` which is a sum of ```retail_sales``` and ```wholesale_sales```.\n",
        "\n",
        "Consider the sample input below:\n",
        "\n",
        "| date         | retail_sales     | wholesale_sales |\n",
        "|:-:|:-:|:-:|\n",
        "| 01-01-2021 | 200      | 100        |\n",
        "| 01-01-2021 | 399  | 50       |\n",
        "| 01-01-2021 | 500  | 40       |\n",
        "| 01-01-2021 | 200  | 20       |\n",
        "\n",
        "Expected table:\n",
        "\n",
        "| date         | retail_sales     | wholesale_sales | total_sales |\n",
        "|:-:|:-:|:-:|:-:|\n",
        "| 01-01-2021 | 200      | 100        | 300 |\n",
        "| 01-01-2021 | 399  | 50       | 449 |\n",
        "| 01-01-2021 | 500  | 40       | 540 |\n",
        "| 01-01-2021 | 200  | 20       | 220 |"
      ]
    },
    {
      "cell_type": "code",
      "source": [
        "df = pd.read_csv(\"sales.csv\")\n",
        "df['total_sales'] = df['retail_sales'] + df['wholesale_sales']"
      ],
      "metadata": {
        "id": "5-_toHnj2W2m"
      },
      "execution_count": null,
      "outputs": []
    },
    {
      "cell_type": "markdown",
      "metadata": {
        "id": "6b349572"
      },
      "source": [
        "### Q14. Open Weather API\n",
        "\n",
        "[Open weather API](https://openweathermap.org/api) is a platform that provides weather information across the world.\n",
        "\n",
        "Your task is to get the difference in the current temperature between the city of Bengaluru and New York.\n",
        "\n",
        "This task will also be a good opportunity to get a feel of how to read official documentation and get help. Go to the Open Weather API website and find out how you can get the necessary details."
      ]
    },
    {
      "cell_type": "markdown",
      "metadata": {
        "id": "702e211f"
      },
      "source": [
        "<div class=\"alert alert-info\" style=\"background-color:red; color:white; padding:0px 10px; border-radius:5px;text-align:center;font-weight: bold;\"><h5 style='margin:10px 5px'>PLEASE NOTE THAT YOUR API KEY IS CONFIDENTIAL, PLEASE REMOVE YOUR API KEY BEFORE SUBMITTING THE ASSIGNMENT</h5>\n",
        "</div>"
      ]
    },
    {
      "cell_type": "code",
      "source": [
        "lat_bengaluru = 12.9716\n",
        "long_bengaluru = 77.5946\n",
        "lat_new_york = 40.7128\n",
        "long_new_york = 74.0060\n",
        "API_key = '' # put your api key here"
      ],
      "metadata": {
        "id": "WylkVNzT30cD"
      },
      "execution_count": null,
      "outputs": []
    },
    {
      "cell_type": "code",
      "source": [
        "response_bengaluru = requests.get(f\"http://api.openweathermap.org/data/2.5/weather?lat={lat_bengaluru}&lon={long_bengaluru}&appid={API_key}\")\n",
        "response_new_york = requests.get(f\"http://api.openweathermap.org/data/2.5/weather?lat={lat_new_york}&lon={long_new_york}&appid={API_key}\")"
      ],
      "metadata": {
        "id": "gaL4DsT_3szw"
      },
      "execution_count": null,
      "outputs": []
    },
    {
      "cell_type": "markdown",
      "metadata": {
        "id": "9cbad0d7"
      },
      "source": [
        "### Q15. Check if there are duplicate elements in a list.\n",
        "\n",
        "Eg:\n",
        "\n",
        "Input: [1, 2, 3, 4, 5, 6]\n",
        "Output: All elements are unique\n",
        "\n",
        "Eg:\n",
        "\n",
        "Input [1, 2, 3, 4, 5, 6, 1]\n",
        "Ouptut: There is a duplicate element in the list."
      ]
    },
    {
      "cell_type": "code",
      "source": [
        "list_1 = [1,2,3,4,5,6]\n",
        "list_2 = [1,2,3,4,5,6,1]\n",
        "def check_duplicates(your_list):\n",
        "  if len(your_list) == len(set(your_list)):\n",
        "    print(\"All elements are unique\")\n",
        "  else:\n",
        "    print(\"There are duplicate elements in the list\")"
      ],
      "metadata": {
        "id": "tyy-lkmG5tEc"
      },
      "execution_count": null,
      "outputs": []
    },
    {
      "cell_type": "code",
      "source": [
        "check_duplicates(list_1)"
      ],
      "metadata": {
        "colab": {
          "base_uri": "https://localhost:8080/"
        },
        "id": "l8Qhpt076CnI",
        "outputId": "cceaa965-929b-4739-858d-600ba221a6a9"
      },
      "execution_count": null,
      "outputs": [
        {
          "output_type": "stream",
          "name": "stdout",
          "text": [
            "All elements are unique\n"
          ]
        }
      ]
    },
    {
      "cell_type": "code",
      "source": [
        "check_duplicates(list_2)"
      ],
      "metadata": {
        "colab": {
          "base_uri": "https://localhost:8080/"
        },
        "id": "A7xgcMJ26d2R",
        "outputId": "a919cc08-ede3-4311-d5d8-40c954b07956"
      },
      "execution_count": null,
      "outputs": [
        {
          "output_type": "stream",
          "name": "stdout",
          "text": [
            "There are duplicate elements in the list\n"
          ]
        }
      ]
    },
    {
      "cell_type": "code",
      "source": [
        ""
      ],
      "metadata": {
        "id": "KVJ5fAM46f3r"
      },
      "execution_count": null,
      "outputs": []
    }
  ]
}