{
 "cells": [
  {
   "cell_type": "markdown",
   "id": "c2865234",
   "metadata": {
    "id": "c2865234"
   },
   "source": [
    "# Advanced Python - Set 1"
   ]
  },
  {
   "cell_type": "markdown",
   "id": "cf11f572",
   "metadata": {
    "id": "cf11f572"
   },
   "source": [
    "### Q1. You are given a list of inputs, find out which all numbers are greater than 10.\n",
    "\n",
    "Eg:\n",
    "\n",
    "Input: [10, 11, 30, 4]\n",
    "\n",
    "Output: 11, 30"
   ]
  },
  {
   "cell_type": "code",
   "execution_count": 1,
   "id": "df096099",
   "metadata": {
    "id": "df096099"
   },
   "outputs": [],
   "source": [
    "#Input data\n",
    "input_list = [1, 2, 10, 3, 23, 41, 9, 2, 44, 20, 1, 2, 10, 10]"
   ]
  },
  {
   "cell_type": "code",
   "execution_count": 2,
   "id": "85032231",
   "metadata": {
    "id": "85032231"
   },
   "outputs": [
    {
     "name": "stdout",
     "output_type": "stream",
     "text": [
      "[23, 41, 44, 20]\n"
     ]
    }
   ],
   "source": [
    "# Expected solution\n",
    "result_list = []\n",
    "for item in input_list:\n",
    "    if item > 10:\n",
    "        result_list.append(item)\n",
    "        \n",
    "print(result_list)"
   ]
  },
  {
   "cell_type": "code",
   "execution_count": 2,
   "id": "53a052d8",
   "metadata": {},
   "outputs": [
    {
     "data": {
      "text/plain": [
       "[23, 41, 44, 20]"
      ]
     },
     "execution_count": 2,
     "metadata": {},
     "output_type": "execute_result"
    }
   ],
   "source": [
    "[i for i in input_list if i > 10]"
   ]
  },
  {
   "cell_type": "markdown",
   "id": "48b5b2ae",
   "metadata": {
    "id": "48b5b2ae"
   },
   "source": [
    "### Q2. You are given temperature measured in degree degree celsius, convert it into degree fahrenheit.\n",
    "\n",
    "Formula for convering ${}^{0}C$ to ${}^{0}F$ :\n",
    "\n",
    "$Fahrenheit (°F) = (Celsius * 1.8) + 32 $\n",
    "\n",
    "Eg:\n",
    "\n",
    "Input: 40\n",
    "\n",
    "Output: 104"
   ]
  },
  {
   "cell_type": "code",
   "execution_count": 3,
   "id": "4f07067b",
   "metadata": {
    "id": "4f07067b"
   },
   "outputs": [],
   "source": [
    "# Input data\n",
    "temp_in_degree_celsius = 40"
   ]
  },
  {
   "cell_type": "code",
   "execution_count": 4,
   "id": "eb728433",
   "metadata": {
    "id": "eb728433"
   },
   "outputs": [
    {
     "data": {
      "text/plain": [
       "104.0"
      ]
     },
     "execution_count": 4,
     "metadata": {},
     "output_type": "execute_result"
    }
   ],
   "source": [
    "# Expected solution\n",
    "temp_in_f = (temp_in_degree_celsius*1.8)+32\n",
    "temp_in_f"
   ]
  },
  {
   "cell_type": "markdown",
   "id": "7b22fecc",
   "metadata": {
    "id": "7b22fecc"
   },
   "source": [
    "### Q3. Write a function that takes input marks out of hundred and returns a grade according to the logic below:\n",
    "\n",
    "- Above 95: O\n",
    "- 90 or Above, Less than 95: A+\n",
    "- 85 or Above,Less than 90: A\n",
    "- 80 or Above, Less than 85: B\n",
    "- 70 or Above, Less than 80: C\n",
    "- 40 or Above, Less than 70: P\n",
    "- Less than 40: F\n",
    "\n",
    "Eg:\n",
    "\n",
    "Input: [90, 56, 70, 88]\n",
    "\n",
    "Output: A+, P, C, A"
   ]
  },
  {
   "cell_type": "code",
   "execution_count": 5,
   "id": "393bfcf2",
   "metadata": {
    "id": "393bfcf2",
    "outputId": "69837186-4f6f-4138-a5f5-31d3ac7e2e44"
   },
   "outputs": [],
   "source": [
    "# Input marks\n",
    "input_marks = [60, 70, 89, 45, 23, 100, 100, 98, 39, 89, 71, 69]"
   ]
  },
  {
   "cell_type": "code",
   "execution_count": 6,
   "id": "4d1526cd",
   "metadata": {
    "id": "4d1526cd"
   },
   "outputs": [
    {
     "name": "stdout",
     "output_type": "stream",
     "text": [
      "60 : P\n",
      "70 : C\n",
      "89 : A\n",
      "45 : P\n",
      "23 : F\n",
      "100 : O\n",
      "100 : O\n",
      "98 : O\n",
      "39 : F\n",
      "89 : A\n",
      "71 : C\n",
      "69 : P\n"
     ]
    }
   ],
   "source": [
    "# Expected solution\n",
    "def calculate_grade(mark):\n",
    "    if mark >= 95:\n",
    "        return \"O\"\n",
    "    elif mark >= 90:\n",
    "        return \"A+\"\n",
    "    elif mark >= 85:\n",
    "        return \"A\"\n",
    "    elif mark >= 80:\n",
    "        return \"B\"\n",
    "    elif mark >= 70:\n",
    "        return \"C\"\n",
    "    elif mark >= 40:\n",
    "        return \"P\"\n",
    "    else:\n",
    "        return \"F\"\n",
    "    \n",
    "    \n",
    "for mark in input_marks:\n",
    "    print(str(mark) + \" : \" + calculate_grade(mark))"
   ]
  },
  {
   "cell_type": "markdown",
   "id": "XZMmvdLkque0",
   "metadata": {
    "id": "XZMmvdLkque0"
   },
   "source": [
    "### Q4. Write a Python function that checks whether the given strings are palindrome or not.\n",
    "\n",
    "string1 = \"nurses run\"\n",
    "\n",
    "string2 = \"good day\"\n",
    "\n",
    "Expected output:\n",
    "\n",
    "Palindrome\n",
    "\n",
    "Not Palindrome"
   ]
  },
  {
   "cell_type": "code",
   "execution_count": 7,
   "id": "Z1VRS6-kqt3W",
   "metadata": {
    "id": "Z1VRS6-kqt3W"
   },
   "outputs": [],
   "source": [
    "# Expected Solution\n",
    "def check_palin(string):\n",
    "    string = string.replace(' ', '')\n",
    "    str_len = len(string)\n",
    "    for i in range((str_len//2)+1):\n",
    "        if (string[i] != string[(-i-1)]):\n",
    "            return \"Not Palindrome\"\n",
    "    \n",
    "    return \"Palindrome\""
   ]
  },
  {
   "cell_type": "code",
   "execution_count": 8,
   "id": "b5bd20fd",
   "metadata": {},
   "outputs": [
    {
     "name": "stdout",
     "output_type": "stream",
     "text": [
      "Palindrome\n",
      "Not Palindrome\n"
     ]
    }
   ],
   "source": [
    "print(check_palin('nurses run'))\n",
    "print(check_palin('good day'))"
   ]
  },
  {
   "cell_type": "markdown",
   "id": "7e07c312",
   "metadata": {
    "id": "7e07c312"
   },
   "source": [
    "### Q4. Write a function to check if a number is palindrome\n",
    "\n",
    "**Inputs**:\n",
    "\n",
    "101\n",
    "\n",
    "122\n",
    "\n",
    "303\n",
    "\n",
    "**Outputs**:\n",
    "\n",
    "Palindrome\n",
    "\n",
    "Not Palindrome\n",
    "\n",
    "Palindrome"
   ]
  },
  {
   "cell_type": "code",
   "execution_count": 9,
   "id": "f4490b03",
   "metadata": {
    "id": "f4490b03"
   },
   "outputs": [],
   "source": [
    "def check_palin_number(number):\n",
    "    reversed_number = 0\n",
    "    copy_of_number = number\n",
    "    while(number):\n",
    "        reversed_number = reversed_number*10 + number%10\n",
    "        number //= 10\n",
    "    number = copy_of_number\n",
    "    if number == reversed_number:\n",
    "        return \"Palindrome\"\n",
    "    else:\n",
    "        return \"Not Palindrome\"\n",
    "        "
   ]
  },
  {
   "cell_type": "code",
   "execution_count": 10,
   "id": "4a54f985",
   "metadata": {},
   "outputs": [
    {
     "name": "stdout",
     "output_type": "stream",
     "text": [
      "Palindrome\n",
      "Not Palindrome\n",
      "Palindrome\n"
     ]
    }
   ],
   "source": [
    "print(check_palin_number(101))\n",
    "print(check_palin_number(122))\n",
    "print(check_palin_number(303))"
   ]
  },
  {
   "cell_type": "markdown",
   "id": "sR1h8_y3pXXT",
   "metadata": {
    "id": "sR1h8_y3pXXT"
   },
   "source": [
    "### Q4. Write a function which takes a positive integer as input and prints fibonacci numbers till that number.\n",
    "\n",
    "Eg: \n",
    "\n",
    "Input: 7\n",
    "\n",
    "Output: 1, 1, 2, 3, 5, 8, 13"
   ]
  },
  {
   "cell_type": "code",
   "execution_count": 11,
   "id": "U0giNneepgVt",
   "metadata": {
    "colab": {
     "base_uri": "https://localhost:8080/"
    },
    "executionInfo": {
     "elapsed": 435,
     "status": "ok",
     "timestamp": 1644228615700,
     "user": {
      "displayName": "Vishnu Kaimal",
      "photoUrl": "https://lh3.googleusercontent.com/a-/AOh14Ghr0s7RRG_K8yAfPng_LdbfHLT7rBwVtDuLlUCJzA=s64",
      "userId": "11804322656526615562"
     },
     "user_tz": -330
    },
    "id": "U0giNneepgVt",
    "outputId": "be3d6f43-1c32-4f1f-e872-e1c51847833e"
   },
   "outputs": [],
   "source": [
    "#Expected solution\n",
    "\n",
    "def print_fibonacci(num):\n",
    "    a = 0\n",
    "    b = 1\n",
    "    print(b)\n",
    "    for i in range(1, num):\n",
    "        c = a+b\n",
    "        print(c)\n",
    "        a = b\n",
    "        b = c"
   ]
  },
  {
   "cell_type": "code",
   "execution_count": 12,
   "id": "a962e97f",
   "metadata": {},
   "outputs": [
    {
     "name": "stdout",
     "output_type": "stream",
     "text": [
      "1\n",
      "1\n",
      "2\n",
      "3\n",
      "5\n",
      "8\n",
      "13\n"
     ]
    }
   ],
   "source": [
    "print_fibonacci(7)"
   ]
  },
  {
   "cell_type": "markdown",
   "id": "3deac35f",
   "metadata": {
    "id": "3deac35f"
   },
   "source": [
    "### Q5. Consider the following function and the input list, show how you can pass in the arguments without mentioning the individual elements of the list."
   ]
  },
  {
   "cell_type": "code",
   "execution_count": 13,
   "id": "313de154",
   "metadata": {
    "id": "313de154"
   },
   "outputs": [],
   "source": [
    "# Code snippet\n",
    "def calc_sum(number1, number2, number3, number4, number5):\n",
    "    return number1 + number2 + number3 + number4 + number5\n",
    "\n",
    "input_list = [19, 23, 44, 1, 33]"
   ]
  },
  {
   "cell_type": "code",
   "execution_count": 14,
   "id": "34c82fde",
   "metadata": {
    "id": "34c82fde"
   },
   "outputs": [
    {
     "data": {
      "text/plain": [
       "120"
      ]
     },
     "execution_count": 14,
     "metadata": {},
     "output_type": "execute_result"
    }
   ],
   "source": [
    "# Expected Solution\n",
    "calc_sum(*input_list)"
   ]
  },
  {
   "cell_type": "markdown",
   "id": "8ef398c1",
   "metadata": {
    "id": "8ef398c1"
   },
   "source": [
    "### Q6. Consider the following function and the input dictionary, show how to pass in the arguments without mentioning the individual elements of the list."
   ]
  },
  {
   "cell_type": "code",
   "execution_count": 15,
   "id": "cd15b392",
   "metadata": {
    "id": "cd15b392"
   },
   "outputs": [],
   "source": [
    "# Code snippet\n",
    "def calc_sum(number1, number2, number3, number4, number5):\n",
    "    return number1 + number2 + number3 + number4 + number5\n",
    "\n",
    "input_dict = {'number1': 23, 'number2':69, 'number3':4, 'number4':3, 'number5':0}"
   ]
  },
  {
   "cell_type": "code",
   "execution_count": 16,
   "id": "01804e1c",
   "metadata": {
    "id": "01804e1c"
   },
   "outputs": [
    {
     "data": {
      "text/plain": [
       "99"
      ]
     },
     "execution_count": 16,
     "metadata": {},
     "output_type": "execute_result"
    }
   ],
   "source": [
    "# Expected Solution\n",
    "calc_sum(**input_dict)"
   ]
  },
  {
   "cell_type": "markdown",
   "id": "e7cd5392",
   "metadata": {
    "id": "e7cd5392"
   },
   "source": [
    "### Q7. Create a class to represent the bank account of a customer and include the following attributes:\n",
    "\n",
    "- Customer name\n",
    "- Account Number\n",
    "- Account balance\n",
    "\n",
    "It should also contain functions for viewing, debiting and crediting from the account balance.\n",
    "\n",
    "Show how the class works by initializing the customer class values of your choice and demonstrate the debit and credit functions.\n",
    "\n",
    "```py\n",
    "\n",
    "customer_1 = Customer(name=\"John\", account_number=\"090\", balance=10000)\n",
    "customer_1.debit(100)\n",
    "customer_1.get_balance()\n",
    "```\n",
    "\n",
    "Expected output:\n",
    "9900"
   ]
  },
  {
   "cell_type": "code",
   "execution_count": 17,
   "id": "754b5554",
   "metadata": {
    "id": "754b5554"
   },
   "outputs": [],
   "source": [
    "# Expected Solution\n",
    "class Customer:\n",
    "    def __init__(self, name, account_number, balance):\n",
    "        self.name = name\n",
    "        self.account_number = account_number\n",
    "        self.balance = balance\n",
    "    def get_balance(self):\n",
    "        return self.balance\n",
    "    def debit(self, amount):\n",
    "        self.balance -= amount\n",
    "    def credit(self, amount):\n",
    "        self.balance += amount"
   ]
  },
  {
   "cell_type": "code",
   "execution_count": 18,
   "id": "d79603e8",
   "metadata": {},
   "outputs": [
    {
     "data": {
      "text/plain": [
       "9900"
      ]
     },
     "execution_count": 18,
     "metadata": {},
     "output_type": "execute_result"
    }
   ],
   "source": [
    "customer_1 = Customer(name=\"John\", account_number=\"090\", balance=10000)\n",
    "customer_1.debit(100)\n",
    "customer_1.get_balance()"
   ]
  },
  {
   "cell_type": "markdown",
   "id": "wznKDSHOfYn3",
   "metadata": {
    "id": "wznKDSHOfYn3"
   },
   "source": [
    "### Q8. Create a Student class and initialize it with name and roll number. Make methods to :\n",
    "1. Display - It should display all informations of the student.\n",
    "2. setAge - It should assign age to student\n",
    "3. setMarks - It should assign marks to the student."
   ]
  },
  {
   "cell_type": "code",
   "execution_count": 19,
   "id": "gV0_E7gdfe-0",
   "metadata": {
    "id": "gV0_E7gdfe-0"
   },
   "outputs": [],
   "source": [
    "# Expected Solution\n",
    "class Student:\n",
    "    def __init__(self, name):\n",
    "        self.name = name\n",
    "    def setAge(self, age):\n",
    "        self.age = age\n",
    "    def setMarks(self, marks):\n",
    "        self.marks = marks\n",
    "    def get_details(self):\n",
    "        print(\"Name of the student:\" + self.name)\n",
    "        print(\"Age of the student:\" + str(self.age))\n",
    "        print(\"Marks:\" + str(self.marks))"
   ]
  },
  {
   "cell_type": "code",
   "execution_count": 20,
   "id": "60e0e16c",
   "metadata": {},
   "outputs": [
    {
     "name": "stdout",
     "output_type": "stream",
     "text": [
      "Name of the student:Vijay\n",
      "Age of the student:22\n",
      "Marks:87\n"
     ]
    }
   ],
   "source": [
    "student_1 = Student('Vijay')\n",
    "student_1.setAge(22)\n",
    "student_1.setMarks(87)\n",
    "student_1.get_details()"
   ]
  },
  {
   "cell_type": "markdown",
   "id": "D599wHAWhF2z",
   "metadata": {
    "id": "D599wHAWhF2z"
   },
   "source": [
    "### Q9. Create a Time class and initialize it with hours and minutes.\n",
    "1. Make a method addTime which should take two time object and add them. E.g.- (2 hour and 50 min)+(1 hr and 20 min) is (4 hr and 10 min)\n",
    "2. Make a method displayTime which should print the time.\n",
    "3. Make a method DisplayMinute which should display the total minutes in the Time. E.g.- (1 hr 2 min) should display 62 minute."
   ]
  },
  {
   "cell_type": "code",
   "execution_count": 21,
   "id": "f8e34a79",
   "metadata": {},
   "outputs": [],
   "source": [
    "# Expected Solution\n",
    "\n",
    "class AddTime:\n",
    "    \n",
    "    def addTime(self, time_1, time_2):\n",
    "        time_zero = dt.datetime.strptime('00:00:00', '%H:%M:%S')\n",
    "        self.time = time_1 - time_zero + time_2\n",
    "    def displayTime(self):\n",
    "        print(self.time.strftime('%H:%M'))\n",
    "    def displayMinute(self):\n",
    "        print(self.time.minute)\n",
    "    "
   ]
  },
  {
   "cell_type": "code",
   "execution_count": 22,
   "id": "01a03156",
   "metadata": {},
   "outputs": [
    {
     "ename": "NameError",
     "evalue": "name 'dt' is not defined",
     "output_type": "error",
     "traceback": [
      "\u001b[1;31m---------------------------------------------------------------------------\u001b[0m",
      "\u001b[1;31mNameError\u001b[0m                                 Traceback (most recent call last)",
      "\u001b[1;32m<ipython-input-22-3707784559b6>\u001b[0m in \u001b[0;36m<module>\u001b[1;34m\u001b[0m\n\u001b[0;32m      4\u001b[0m \u001b[1;33m\u001b[0m\u001b[0m\n\u001b[0;32m      5\u001b[0m \u001b[0madd_time\u001b[0m \u001b[1;33m=\u001b[0m \u001b[0mAddTime\u001b[0m\u001b[1;33m(\u001b[0m\u001b[1;33m)\u001b[0m\u001b[1;33m\u001b[0m\u001b[1;33m\u001b[0m\u001b[0m\n\u001b[1;32m----> 6\u001b[1;33m \u001b[0madd_time\u001b[0m\u001b[1;33m.\u001b[0m\u001b[0maddTime\u001b[0m\u001b[1;33m(\u001b[0m\u001b[0mtime_1\u001b[0m\u001b[1;33m,\u001b[0m \u001b[0mtime_2\u001b[0m\u001b[1;33m)\u001b[0m\u001b[1;33m\u001b[0m\u001b[1;33m\u001b[0m\u001b[0m\n\u001b[0m\u001b[0;32m      7\u001b[0m \u001b[0madd_time\u001b[0m\u001b[1;33m.\u001b[0m\u001b[0mdisplayTime\u001b[0m\u001b[1;33m(\u001b[0m\u001b[1;33m)\u001b[0m\u001b[1;33m\u001b[0m\u001b[1;33m\u001b[0m\u001b[0m\n\u001b[0;32m      8\u001b[0m \u001b[0madd_time\u001b[0m\u001b[1;33m.\u001b[0m\u001b[0mdisplayMinute\u001b[0m\u001b[1;33m(\u001b[0m\u001b[1;33m)\u001b[0m\u001b[1;33m\u001b[0m\u001b[1;33m\u001b[0m\u001b[0m\n",
      "\u001b[1;32m<ipython-input-21-d68e80cff055>\u001b[0m in \u001b[0;36maddTime\u001b[1;34m(self, time_1, time_2)\u001b[0m\n\u001b[0;32m      4\u001b[0m \u001b[1;33m\u001b[0m\u001b[0m\n\u001b[0;32m      5\u001b[0m     \u001b[1;32mdef\u001b[0m \u001b[0maddTime\u001b[0m\u001b[1;33m(\u001b[0m\u001b[0mself\u001b[0m\u001b[1;33m,\u001b[0m \u001b[0mtime_1\u001b[0m\u001b[1;33m,\u001b[0m \u001b[0mtime_2\u001b[0m\u001b[1;33m)\u001b[0m\u001b[1;33m:\u001b[0m\u001b[1;33m\u001b[0m\u001b[1;33m\u001b[0m\u001b[0m\n\u001b[1;32m----> 6\u001b[1;33m         \u001b[0mtime_zero\u001b[0m \u001b[1;33m=\u001b[0m \u001b[0mdt\u001b[0m\u001b[1;33m.\u001b[0m\u001b[0mdatetime\u001b[0m\u001b[1;33m.\u001b[0m\u001b[0mstrptime\u001b[0m\u001b[1;33m(\u001b[0m\u001b[1;34m'00:00:00'\u001b[0m\u001b[1;33m,\u001b[0m \u001b[1;34m'%H:%M:%S'\u001b[0m\u001b[1;33m)\u001b[0m\u001b[1;33m\u001b[0m\u001b[1;33m\u001b[0m\u001b[0m\n\u001b[0m\u001b[0;32m      7\u001b[0m         \u001b[0mself\u001b[0m\u001b[1;33m.\u001b[0m\u001b[0mtime\u001b[0m \u001b[1;33m=\u001b[0m \u001b[0mtime_1\u001b[0m \u001b[1;33m-\u001b[0m \u001b[0mtime_zero\u001b[0m \u001b[1;33m+\u001b[0m \u001b[0mtime_2\u001b[0m\u001b[1;33m\u001b[0m\u001b[1;33m\u001b[0m\u001b[0m\n\u001b[0;32m      8\u001b[0m     \u001b[1;32mdef\u001b[0m \u001b[0mdisplayTime\u001b[0m\u001b[1;33m(\u001b[0m\u001b[0mself\u001b[0m\u001b[1;33m)\u001b[0m\u001b[1;33m:\u001b[0m\u001b[1;33m\u001b[0m\u001b[1;33m\u001b[0m\u001b[0m\n",
      "\u001b[1;31mNameError\u001b[0m: name 'dt' is not defined"
     ]
    }
   ],
   "source": [
    "import datetime\n",
    "time_1 = datetime.datetime.strptime(\"2:49\", \"%H:%M\")\n",
    "time_2 = datetime.datetime.strptime(\"4:10\", \"%H:%M\")\n",
    "\n",
    "add_time = AddTime()\n",
    "add_time.addTime(time_1, time_2)\n",
    "add_time.displayTime()\n",
    "add_time.displayMinute()"
   ]
  },
  {
   "cell_type": "markdown",
   "id": "2416e343",
   "metadata": {
    "id": "2416e343"
   },
   "source": [
    "### Q10. Create a class Child which has attributes, Name, age and gender.\n",
    "\n",
    "- Create another class **Student** which inherits the child class and has an attribute of grade.\n",
    "- Demonstrate both classes by initializing them.\n"
   ]
  },
  {
   "cell_type": "code",
   "execution_count": 1,
   "id": "c33a5b03",
   "metadata": {
    "id": "c33a5b03"
   },
   "outputs": [],
   "source": [
    "# Expected Solution\n",
    "class Child:\n",
    "    def __init__(self, name, age, gender):\n",
    "        self.name = name\n",
    "        self.age = age\n",
    "        self.gender = gender\n",
    "    def get_details(self):\n",
    "        print('Name: '+self.name)\n",
    "        print('Age: '+str(self.age))\n",
    "        print('Gender: '+self.gender)\n",
    "        \n",
    "class Student(Child):\n",
    "    def __init__(self, name, age, gender, grade):\n",
    "        super().__init__(name, age, gender)\n",
    "        self.grade = grade\n",
    "    def get_details(self):\n",
    "        super().get_details()\n",
    "        print('grade: '+self.grade)"
   ]
  },
  {
   "cell_type": "code",
   "execution_count": 2,
   "id": "e7e1a984",
   "metadata": {},
   "outputs": [
    {
     "name": "stdout",
     "output_type": "stream",
     "text": [
      "Name: Ashwin\n",
      "Age: 7\n",
      "Gender: Male\n",
      "grade: III\n"
     ]
    }
   ],
   "source": [
    "s = Student('Ashwin', 7, \"Male\", \"III\")\n",
    "s.get_details()"
   ]
  },
  {
   "cell_type": "markdown",
   "id": "fafb2ad5",
   "metadata": {
    "id": "fafb2ad5"
   },
   "source": [
    "### Q12. Add error handling capabilities for the following function.\n",
    "\n",
    "```add_two_nums(a, b)``` is a python function which adds two ``` _positive_``` integers. \n",
    "\n",
    "However the function currently lacks error handling capabilities. \n",
    "\n",
    "Add in try, except block so that the following code runs error free.\n",
    "\n",
    "Make sure to include handling for all the errors so that they can be properly debugged."
   ]
  },
  {
   "cell_type": "code",
   "execution_count": 4,
   "id": "18b94809",
   "metadata": {
    "id": "18b94809"
   },
   "outputs": [],
   "source": [
    "def add_two_nums(a, b):\n",
    "    try:\n",
    "        assert isinstance(a, int)\n",
    "        assert isinstance(b, int)\n",
    "    except AssertionError:\n",
    "        print(\"Error: One of the arguments provided is not an integer\")\n",
    "        return\n",
    "    \n",
    "    result = a+b\n",
    "    \n",
    "    try:\n",
    "        assert result >= 0\n",
    "    except AssertionError:\n",
    "        print(\"Error: The sum is negative\")\n",
    "        return\n",
    "    \n",
    "    return result"
   ]
  },
  {
   "cell_type": "markdown",
   "id": "24fcd1ef",
   "metadata": {},
   "source": [
    "The current output of the code below is this:\n",
    "\n",
    "```py\n",
    "---------------------------------------------------------------------------\n",
    "AssertionError                            Traceback (most recent call last)\n",
    "<ipython-input-32-2d9fbae21f0b> in <module>\n",
    "      1 print(add_two_nums(5, 10))\n",
    "----> 2 print(add_two_nums(1, 'sdf'))\n",
    "      3 print(add_two_nums(5, -7))\n",
    "\n",
    "<ipython-input-29-b282504f9e2d> in add_two_nums(a, b)\n",
    "      1 def add_two_nums(a, b):\n",
    "      2     assert isinstance(a, int)\n",
    "----> 3     assert isinstance(b, int)\n",
    "      4 \n",
    "      5     result = a+b\n",
    "\n",
    "AssertionError: \n",
    "```"
   ]
  },
  {
   "cell_type": "code",
   "execution_count": 5,
   "id": "e9187244",
   "metadata": {
    "id": "e9187244",
    "outputId": "b87bfce9-c6a9-4399-9ced-b88997e08c56"
   },
   "outputs": [
    {
     "name": "stdout",
     "output_type": "stream",
     "text": [
      "15\n",
      "Error: One of the arguments provided is not an integer\n",
      "None\n",
      "Error: The sum is negative\n",
      "None\n"
     ]
    }
   ],
   "source": [
    "print(add_two_nums(5, 10))\n",
    "print(add_two_nums(1, 'sdf'))\n",
    "print(add_two_nums(5, -7))"
   ]
  },
  {
   "cell_type": "markdown",
   "id": "16cbad51",
   "metadata": {
    "id": "16cbad51"
   },
   "source": [
    "### Q13. Enhance the error handling.\n",
    "\n",
    "```get_element(arr, index)``` is a python function for getting the element from a list using the index.\n",
    "\n",
    "However, currently the function prints all the errors as 'Error in code'.\n",
    "\n",
    "Use multiple exceptions to handle errors and print the corresponding error message as specified in the inputs."
   ]
  },
  {
   "cell_type": "code",
   "execution_count": null,
   "id": "3decead1",
   "metadata": {
    "id": "3decead1"
   },
   "outputs": [],
   "source": [
    "# Expected solution\n",
    "def get_element(arr, index):\n",
    "    try:\n",
    "        return arr[index]\n",
    "    except TypeError:\n",
    "        print('Wrong Input Type')\n",
    "        return\n",
    "    except IndexError:\n",
    "        print('Indexing Error')"
   ]
  },
  {
   "cell_type": "code",
   "execution_count": null,
   "id": "5982b1b8",
   "metadata": {
    "id": "5982b1b8"
   },
   "outputs": [],
   "source": [
    "arr = [19, 23, 44, 1, 33]"
   ]
  },
  {
   "cell_type": "code",
   "execution_count": null,
   "id": "240bb128",
   "metadata": {
    "id": "240bb128",
    "outputId": "9cf21349-9e14-442e-b51d-fbc48ab1d92c"
   },
   "outputs": [],
   "source": [
    "get_element(arr, 2)"
   ]
  },
  {
   "cell_type": "code",
   "execution_count": null,
   "id": "c0bb5f83",
   "metadata": {
    "id": "c0bb5f83",
    "outputId": "33574a00-3e91-48cc-fac2-5d380de451fb"
   },
   "outputs": [],
   "source": [
    "get_element(10, 's') # Expected output: wrong input type"
   ]
  },
  {
   "cell_type": "code",
   "execution_count": null,
   "id": "8f8f7553",
   "metadata": {
    "id": "8f8f7553",
    "outputId": "e88b0d74-e846-48a2-bb30-ba8817ee3470"
   },
   "outputs": [],
   "source": [
    "get_element(arr, 8) # Expected output: Indexing error"
   ]
  },
  {
   "cell_type": "markdown",
   "id": "Fm2GNZIgI2Fz",
   "metadata": {
    "id": "Fm2GNZIgI2Fz"
   },
   "source": [
    "## Special questions\n",
    "\n",
    "Try attempting these questions to get a hang of building logic and getting more comfortable with using various functions of python."
   ]
  },
  {
   "cell_type": "markdown",
   "id": "Dk-tvjcWZrvt",
   "metadata": {
    "id": "Dk-tvjcWZrvt"
   },
   "source": [
    "### Q14. Write a function which takes a string and converts it into NATO phonetic alphabets.\n",
    "\n",
    "Nato phonetic alphabets are code words assigned to each English alphabet so that they are phonetically distinguishable. The code for each of the alphabets are as follows:\n",
    "\n",
    "- A : Alfa\n",
    "- B : Bravo\n",
    "- C : Charlie\n",
    "- D : Delta\n",
    "- E : Echo\n",
    "- F : Foxtrot\n",
    "- G : Golf\n",
    "- H : Hotel\n",
    "- I : India\n",
    "- J : Juliett\n",
    "- K : Kilo\n",
    "- L : Lima\n",
    "- M : Mike\n",
    "- N : November\n",
    "- O : Oscar\n",
    "- P : Papa\n",
    "- Q : Quebec\n",
    "- R : Romeo\n",
    "- S : Sierra\n",
    "- T : Tango\n",
    "- U : Uniform\n",
    "- V : Victor\n",
    "- W : Whiskey\n",
    "- X : X-ray\n",
    "- Y : Yankee\n",
    "- Z : Zulu\n",
    "\n",
    "Eg: \n",
    "\n",
    "Input: Hello\n",
    "\n",
    "Output: HOTEL ECHO LIMA LIMA OSCAR"
   ]
  },
  {
   "cell_type": "code",
   "execution_count": 6,
   "id": "38a581f1",
   "metadata": {},
   "outputs": [],
   "source": [
    "# Expected solution\n",
    "\n",
    "def convert_to_nato(message):\n",
    "    nato_mappings = {\"A\"  : \"Alfa\",\n",
    "                    \"B\"  : \"Bravo\",\n",
    "                    \"C\"  : \"Charlie\",\n",
    "                    \"D\"  : \"Delta\",\n",
    "                    \"E\"  : \"Echo\",\n",
    "                    \"F\"  : \"Foxtrot\",\n",
    "                    \"G\"  : \"Golf\",\n",
    "                    \"H\"  : \"Hotel\",\n",
    "                    \"I\"  : \"India\",\n",
    "                    \"J\"  : \"Juliett\",\n",
    "                    \"K\"  : \"Kilo\",\n",
    "                    \"L\"  : \"Lima\",\n",
    "                    \"M\"  : \"Mike\",\n",
    "                    \"N\"  : \"November\",\n",
    "                    \"O\"  : \"Oscar\",\n",
    "                    \"P\"  : \"Papa\",\n",
    "                    \"Q\"  : \"Quebec\",\n",
    "                    \"R\"  : \"Romeo\",\n",
    "                    \"S\"  : \"Sierra\",\n",
    "                    \"T\"  : \"Tango\",\n",
    "                    \"U\"  : \"Uniform\",\n",
    "                    \"V\"  : \"Victor\",\n",
    "                    \"W\"  : \"Whiskey\",\n",
    "                    \"X\"  : \"X-ray\",\n",
    "                    \"Y\"  : \"Yankee\",\n",
    "                    \"Z\"  : \"Zulu\"}\n",
    "   \n",
    "    message = message.upper()\n",
    "    nato_message = \"\"\n",
    "    for character in message:\n",
    "        nato_message += nato_mappings[character] + \" \"\n",
    "    \n",
    "    return nato_message"
   ]
  },
  {
   "cell_type": "code",
   "execution_count": 7,
   "id": "c1e8c136",
   "metadata": {},
   "outputs": [
    {
     "data": {
      "text/plain": [
       "'Hotel Echo Lima Lima Oscar '"
      ]
     },
     "execution_count": 7,
     "metadata": {},
     "output_type": "execute_result"
    }
   ],
   "source": [
    "convert_to_nato('Hello')"
   ]
  },
  {
   "cell_type": "markdown",
   "id": "OB6t4sP7bXdC",
   "metadata": {
    "id": "OB6t4sP7bXdC"
   },
   "source": [
    "### Q15. Write a function to count the number of unique items in a list.\n",
    "\n",
    "Eg:\n",
    "\n",
    "Input: [1, 1, 1, 2, 2, 2, 2, 2, 'a', 'a']\n",
    "\n",
    "Output: \n",
    "\n",
    "1 occurs 3 times.\n",
    "\n",
    "2 occurs 5 times.\n",
    "\n",
    "'a' occurs 2 times.\n",
    "\n"
   ]
  },
  {
   "cell_type": "code",
   "execution_count": null,
   "id": "5f0ad31b",
   "metadata": {},
   "outputs": [],
   "source": [
    "# Expected solution\n",
    "def count_unique_elements(arr):\n",
    "    item_count = {}\n",
    "    for item in arr:\n",
    "        item_count[item] = item_count.get(item, 0) + 1\n",
    "    \n",
    "    for item in item_count.keys():\n",
    "        print(f'{item} occurs {item_count[item]} times.')"
   ]
  },
  {
   "cell_type": "code",
   "execution_count": null,
   "id": "698ffe56",
   "metadata": {},
   "outputs": [],
   "source": [
    "count_unique_elements([1, 1, 1, 2, 2, 2, 2, 2, 'a', 'a'])"
   ]
  },
  {
   "cell_type": "code",
   "execution_count": null,
   "id": "24d0cc77",
   "metadata": {},
   "outputs": [],
   "source": []
  }
 ],
 "metadata": {
  "colab": {
   "collapsed_sections": [
    "7b22fecc",
    "bb5235a8",
    "2416e343",
    "Inkva21hTv_4",
    "97b1838c"
   ],
   "name": "Assessment questions WK02_part_1.ipynb",
   "provenance": []
  },
  "kernelspec": {
   "display_name": "Python 3",
   "language": "python",
   "name": "python3"
  },
  "language_info": {
   "codemirror_mode": {
    "name": "ipython",
    "version": 3
   },
   "file_extension": ".py",
   "mimetype": "text/x-python",
   "name": "python",
   "nbconvert_exporter": "python",
   "pygments_lexer": "ipython3",
   "version": "3.8.8"
  }
 },
 "nbformat": 4,
 "nbformat_minor": 5
}
