{
 "cells": [
  {
   "cell_type": "markdown",
   "id": "258c51a3",
   "metadata": {},
   "source": [
    "# Functions: "
   ]
  },
  {
   "cell_type": "markdown",
   "id": "9cd13da9",
   "metadata": {},
   "source": [
    "- Function is a block of code which only runs when it is called\n",
    "\n",
    "- Function has the arguments as wll as parameter\n",
    "\n",
    "- Parameter : Parameter is the variable listed inside the parentheses in the functions\n",
    "\n",
    "- Arguments : Argument is the value that is passed to the functions\n",
    "\n",
    "- By deafualt, a function must be called with the correct number of arguments. If your function expect 2 arguments then by we need to provide two arguments only."
   ]
  },
  {
   "cell_type": "markdown",
   "id": "e12cf1f8",
   "metadata": {},
   "source": [
    "# Arbitary Arguments:"
   ]
  },
  {
   "cell_type": "markdown",
   "id": "ba9750df",
   "metadata": {},
   "source": [
    "- If we do not know how many arguments we should pass to functions then it is advisable to pass *Args before a parameter name inside the functions.\n"
   ]
  },
  {
   "cell_type": "markdown",
   "id": "2bac0a53",
   "metadata": {},
   "source": [
    "# Keyword Arguments\n"
   ]
  },
  {
   "cell_type": "markdown",
   "id": "f97297df",
   "metadata": {},
   "source": [
    "- You can also send arguments with the key = value syntax.\n",
    "\n",
    "- This way the order of the arguments does not matter.\n",
    "\n",
    "- The phrase Keyword Arguments are often shortened to kwargs in Python documentations.\n",
    "\n"
   ]
  },
  {
   "cell_type": "markdown",
   "id": "fc08c2c9",
   "metadata": {},
   "source": [
    "# Arbitrary Keyword Arguments, **kwargs"
   ]
  },
  {
   "cell_type": "markdown",
   "id": "eda2f52f",
   "metadata": {},
   "source": [
    "- If you do not know how many keyword arguments that will be passed into your function, add two asterisk: ** before the parameter name in the function definition."
   ]
  },
  {
   "cell_type": "markdown",
   "id": "c44bf72a",
   "metadata": {},
   "source": [
    "# Default Parameter Value\n"
   ]
  },
  {
   "cell_type": "markdown",
   "id": "47379d6d",
   "metadata": {},
   "source": [
    "- If we call the function without argument, it uses the default value:\n"
   ]
  },
  {
   "cell_type": "code",
   "execution_count": 1,
   "id": "aed68ec0",
   "metadata": {},
   "outputs": [],
   "source": [
    "def least_difference(a, b, c):\n",
    "    diff1 = abs(a - b)\n",
    "    diff2 = abs(b - c)\n",
    "    diff3 = abs(a - c)\n",
    "    return min(diff1, diff2, diff3)"
   ]
  },
  {
   "cell_type": "markdown",
   "id": "a78f1098",
   "metadata": {},
   "source": [
    "- This creates a function called least_difference, which takes three arguments, a, b, and c.\n",
    "\n",
    "- Functions start with a header introduced by the def keyword. The indented block of code following the : is run when the function is called.\n",
    "\n",
    "- return is another keyword uniquely associated with functions. When Python encounters a return statement, it exits the function immediately, and passes the value on the right hand side to the calling context."
   ]
  },
  {
   "cell_type": "markdown",
   "id": "613784e0",
   "metadata": {},
   "source": [
    "# Lambda"
   ]
  },
  {
   "cell_type": "markdown",
   "id": "e64248f9",
   "metadata": {},
   "source": [
    "- A lambda function is a small anonymous function.\n",
    "\n",
    "- A lambda function can take any number of arguments, but can only have one expression.\n",
    "\n",
    "- Lambda Function, also referred to as ‘Anonymous function’ is same as a regular python function but can be defined without a name. \n",
    "\n",
    "- While normal functions are defined using the def keyword, anonymous functions are defined using the lambda keyword. However,they are restricted to single line of expression. They can take in mutliple parameters as in regular functions.\n"
   ]
  },
  {
   "cell_type": "markdown",
   "id": "6e15bccc",
   "metadata": {},
   "source": [
    "## Syntax:\n",
    "lambda arguments : expression\n",
    "\n",
    "The expression is executed and the result is returned:"
   ]
  },
  {
   "cell_type": "markdown",
   "id": "bc95eb63",
   "metadata": {},
   "source": [
    "# Why Use Lambda Functions?\n"
   ]
  },
  {
   "cell_type": "markdown",
   "id": "aaf6f809",
   "metadata": {},
   "source": [
    "Say you have a function definition that takes one argument, and that argument will be multiplied with an unknown number:"
   ]
  },
  {
   "cell_type": "markdown",
   "id": "5e7f23d2",
   "metadata": {},
   "source": [
    "- They are generally used when a function is needed temporarily for a short period of time, often to be used inside another function such as filter, map and reduce.\n",
    "\n",
    "- Using lambda function, you can define a function and call it immediately at the end of definition. This can’t be done with def functions."
   ]
  },
  {
   "cell_type": "code",
   "execution_count": 3,
   "id": "ebc8e916",
   "metadata": {},
   "outputs": [
    {
     "name": "stdout",
     "output_type": "stream",
     "text": [
      "Using lambda:  25\n"
     ]
    }
   ],
   "source": [
    "# calculate squares using lambda\n",
    "squares = lambda x: x*x\n",
    "print('Using lambda: ', squares(5))"
   ]
  },
  {
   "cell_type": "code",
   "execution_count": 4,
   "id": "a53ee7e3",
   "metadata": {},
   "outputs": [
    {
     "name": "stdout",
     "output_type": "stream",
     "text": [
      "Using lambda: 27\n"
     ]
    }
   ],
   "source": [
    "cube=lambda x: x**3\n",
    "print(\"Using lambda:\",cube(3))"
   ]
  },
  {
   "cell_type": "code",
   "execution_count": 5,
   "id": "f3fdf44d",
   "metadata": {},
   "outputs": [
    {
     "data": {
      "text/plain": [
       "100"
      ]
     },
     "execution_count": 5,
     "metadata": {},
     "output_type": "execute_result"
    }
   ],
   "source": [
    "def squares_fun(n): return n*n\n",
    "squares_fun(10)"
   ]
  },
  {
   "cell_type": "markdown",
   "id": "9a10ce00",
   "metadata": {},
   "source": [
    "# lambda function in filter()"
   ]
  },
  {
   "cell_type": "markdown",
   "id": "d0b9d9db",
   "metadata": {},
   "source": [
    "- filter() function is used to filter a given iterable (list like object) using another function that defines the filtering logic. \n",
    "\n",
    "- A lambda function is typically used to define the filtering logic and is passed as the first argument of filter(). An iterable like a list object is passed as the second argument to the filter function."
   ]
  },
  {
   "cell_type": "code",
   "execution_count": 8,
   "id": "06f48086",
   "metadata": {},
   "outputs": [
    {
     "data": {
      "text/plain": [
       "[2, 4, 6, 8, 10]"
      ]
     },
     "execution_count": 8,
     "metadata": {},
     "output_type": "execute_result"
    }
   ],
   "source": [
    "lis=[1,2,3,4,5,6,7,8,9,10]\n",
    "filter_list=list(filter(lambda x:x%2==0,lis))\n",
    "filter_list"
   ]
  },
  {
   "cell_type": "markdown",
   "id": "dc3a4f22",
   "metadata": {},
   "source": [
    "# lambda function in map()"
   ]
  },
  {
   "cell_type": "markdown",
   "id": "e6b8e387",
   "metadata": {},
   "source": [
    "- map() function applies a given function to all the itmes in a list and returns the result. \n",
    "\n",
    "- Similar to filter(), simply pass the lambda function and the list (or any iterable, like tuple) as arguments."
   ]
  },
  {
   "cell_type": "code",
   "execution_count": 9,
   "id": "ee8eec33",
   "metadata": {},
   "outputs": [
    {
     "data": {
      "text/plain": [
       "[1, 0, 1, 0, 1, 0, 1, 0, 1, 0]"
      ]
     },
     "execution_count": 9,
     "metadata": {},
     "output_type": "execute_result"
    }
   ],
   "source": [
    "lis=[1,2,3,4,5,6,7,8,9,10]\n",
    "map_list=list(map(lambda x:x%2,lis))\n",
    "map_list"
   ]
  },
  {
   "cell_type": "markdown",
   "id": "e2c333d0",
   "metadata": {},
   "source": [
    "# lambda function in reduce()"
   ]
  },
  {
   "cell_type": "markdown",
   "id": "de0e31e0",
   "metadata": {},
   "source": [
    "- reduce() function performs a repetitive operation over the pairs of the elements in the list. Pass the lambda function and the list as arguments to the reduce() function\n",
    "\n",
    "- For using the reduce() function, you need to import reduce from functools librray."
   ]
  },
  {
   "cell_type": "code",
   "execution_count": 12,
   "id": "dea08811",
   "metadata": {},
   "outputs": [],
   "source": [
    "from functools import reduce"
   ]
  },
  {
   "cell_type": "code",
   "execution_count": 16,
   "id": "55395718",
   "metadata": {},
   "outputs": [
    {
     "data": {
      "text/plain": [
       "55"
      ]
     },
     "execution_count": 16,
     "metadata": {},
     "output_type": "execute_result"
    }
   ],
   "source": [
    "lis=[1,2,3,4,5,6,7,8,9,10]\n",
    "reduce_list=reduce(lambda x,y:x+y,lis)\n",
    "reduce_list"
   ]
  },
  {
   "cell_type": "markdown",
   "id": "2e425c58",
   "metadata": {},
   "source": [
    "Compute factorial of 10 using lambda function. Hint: Use reduce.\n"
   ]
  },
  {
   "cell_type": "code",
   "execution_count": 18,
   "id": "8a8ea98d",
   "metadata": {},
   "outputs": [
    {
     "data": {
      "text/plain": [
       "120"
      ]
     },
     "execution_count": 18,
     "metadata": {},
     "output_type": "execute_result"
    }
   ],
   "source": [
    "factorial=reduce(lambda x,y:x*y,range(5,1,-1))\n",
    "factorial"
   ]
  },
  {
   "cell_type": "markdown",
   "id": "8ebcd34e",
   "metadata": {},
   "source": [
    "Write a function to filter all multiples of 2 and 3 from the list: [1,2,3,4,5,6,7,8,9,10,11,12]\n"
   ]
  },
  {
   "cell_type": "code",
   "execution_count": 35,
   "id": "1537ddcf",
   "metadata": {},
   "outputs": [
    {
     "data": {
      "text/plain": [
       "[1, 2, 3, 4, 6, 8, 9, 10, 12]"
      ]
     },
     "execution_count": 35,
     "metadata": {},
     "output_type": "execute_result"
    }
   ],
   "source": [
    "ls=[1,2,3,4,5,6,7,8,9,10,11,12]\n",
    "filter_list=list(filter(lambda x:x%2==0 or x%3==0 or x==1,ls))\n",
    "filter_list"
   ]
  },
  {
   "cell_type": "code",
   "execution_count": null,
   "id": "2d3c8a5e",
   "metadata": {},
   "outputs": [],
   "source": []
  }
 ],
 "metadata": {
  "kernelspec": {
   "display_name": "Python 3",
   "language": "python",
   "name": "python3"
  },
  "language_info": {
   "codemirror_mode": {
    "name": "ipython",
    "version": 3
   },
   "file_extension": ".py",
   "mimetype": "text/x-python",
   "name": "python",
   "nbconvert_exporter": "python",
   "pygments_lexer": "ipython3",
   "version": "3.8.8"
  }
 },
 "nbformat": 4,
 "nbformat_minor": 5
}
